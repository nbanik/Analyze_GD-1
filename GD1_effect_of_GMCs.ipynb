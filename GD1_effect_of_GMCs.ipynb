{
 "cells": [
  {
   "cell_type": "code",
   "execution_count": 6,
   "metadata": {},
   "outputs": [
    {
     "name": "stdout",
     "output_type": "stream",
     "text": [
      "Populating the interactive namespace from numpy and matplotlib\n"
     ]
    }
   ],
   "source": [
    "import numpy as np\n",
    "import pickle\n",
    "from astropy.io import fits\n",
    "from numpy.polynomial import Polynomial\n",
    "import matplotlib.pyplot as plt\n",
    "from galpy.util import bovy_conversion, bovy_coords, save_pickles, bovy_plot\n",
    "from galpy.potential import MWPotential2014, turn_physical_off, vcirc\n",
    "import astropy.units as u\n",
    "%pylab inline\n",
    "from galpy.orbit import Orbit\n",
    "from scipy import ndimage, signal, interpolate\n",
    "import gd1_util\n",
    "import GMC_util\n",
    "\n",
    "ro=8.\n",
    "vo=220.\n"
   ]
  },
  {
   "cell_type": "markdown",
   "metadata": {},
   "source": [
    "### Test whether very old impacts are important. To do this, we will impact a mock GD-1 stream by subhalos at ~7 Gyr and compute the density today."
   ]
  },
  {
   "cell_type": "code",
   "execution_count": null,
   "metadata": {},
   "outputs": [],
   "source": [
    "ro=8.\n",
    "vo=220.\n",
    "\n",
    "def parse_times(times,age,ro,vo):\n",
    "    if 'sampling' in times:\n",
    "        nsam= int(times.split('sampling')[0])\n",
    "        return [float(ti)/bovy_conversion.time_in_Gyr(vo,ro)\n",
    "                for ti in numpy.arange(1,nsam+1)/(nsam+1.)*age]\n",
    "    return [float(ti)/bovy_conversion.time_in_Gyr(vo,ro)\n",
    "            for ti in times.split(',')]\n",
    "            \n",
    "timpacts= parse_times('6.,6.5,7.,7.5,8.,8.5',9.,ro=ro,vo=vo)\n",
    "\n",
    "print (np.array(timpacts)*bovy_conversion.time_in_Gyr(vo,ro))"
   ]
  },
  {
   "cell_type": "code",
   "execution_count": null,
   "metadata": {},
   "outputs": [],
   "source": [
    "pepperfilename='GD1_oldimpactstest_MW2014_leadingarm.pkl'\n",
    "sdf_pepper= gd1_util.setup_gd1model(timpact=timpacts)\n",
    "save_pickles(pepperfilename,sdf_pepper)"
   ]
  },
  {
   "cell_type": "code",
   "execution_count": 2,
   "metadata": {},
   "outputs": [],
   "source": [
    "with open('GD1_oldimpactstest_MW2014_leadingarm.pkl','rb') as savefile:\n",
    "            #sdf_smooth= pickle.load(savefile,encoding='latin1')\n",
    "            sdf_pepper= pickle.load(savefile,encoding='latin1')"
   ]
  },
  {
   "cell_type": "code",
   "execution_count": 3,
   "metadata": {},
   "outputs": [
    {
     "name": "stdout",
     "output_type": "stream",
     "text": [
      "galpyWarning: In versions >1.3, the output unit of streamdf.misalignment has been changed to radian (from degree before)\n"
     ]
    }
   ],
   "source": [
    "sdf_smooth=gd1_util.setup_gd1model()"
   ]
  },
  {
   "cell_type": "code",
   "execution_count": 4,
   "metadata": {},
   "outputs": [],
   "source": [
    "apar_full,x_full,y_full,z_full,vx_full,vy_full,vz_full = GMC_util.aparxv_stream(sdf_smooth,sdf_pepper)\n"
   ]
  },
  {
   "cell_type": "code",
   "execution_count": 7,
   "metadata": {},
   "outputs": [
    {
     "name": "stdout",
     "output_type": "stream",
     "text": [
      "[6.  6.5 7.  7.5 8.  8.5]\n"
     ]
    }
   ],
   "source": [
    "print (sdf_pepper._timpact*bovy_conversion.time_in_Gyr(vo,ro))"
   ]
  },
  {
   "cell_type": "code",
   "execution_count": 8,
   "metadata": {},
   "outputs": [
    {
     "name": "stdout",
     "output_type": "stream",
     "text": [
      "0.4150489428970998\n",
      "[[ 0.63723023 -0.43195544  0.27582483]]\n"
     ]
    }
   ],
   "source": [
    "# randomly select an apar and its velocity\n",
    "apar_imp=apar_full[4][10]\n",
    "v_imp=np.c_[vx_full[4][10],vy_full[4][10],vz_full[4][10]]\n",
    "M_imp=10**9./bovy_conversion.mass_in_msol(vo,ro)\n",
    "timp=sdf_pepper._timpact[4]\n",
    "\n",
    "def rs(M):\n",
    "    return 1.05*(M/10**8.)**(0.5)\n",
    "\n",
    "rs_imp=rs(10**9.)/8.\n",
    "\n",
    "print (rs_imp)\n",
    "\n",
    "print (v_imp)"
   ]
  },
  {
   "cell_type": "code",
   "execution_count": 9,
   "metadata": {},
   "outputs": [
    {
     "name": "stdout",
     "output_type": "stream",
     "text": [
      "/home/nil/anaconda3/envs/galpy1.4/lib/python3.6/site-packages/galpy/df/streamgapdf.py:1227: RuntimeWarning: divide by zero encountered in double_scalars\n",
      "  b0 *= b/numpy.sqrt(numpy.sum(b0**2))\n",
      "\n",
      "/home/nil/anaconda3/envs/galpy1.4/lib/python3.6/site-packages/galpy/df/streamgapdf.py:1227: RuntimeWarning: invalid value encountered in multiply\n",
      "  b0 *= b/numpy.sqrt(numpy.sum(b0**2))\n",
      "\n"
     ]
    }
   ],
   "source": [
    "#import streampepperdf\n",
    "\n",
    "sdf_pepper.set_impacts(impactb=[0.1/8.],subhalovel=v_imp,impact_angle=[apar_imp],timpact=[timp],rs=[rs_imp],GM=[M_imp])\n",
    "\n"
   ]
  },
  {
   "cell_type": "code",
   "execution_count": 10,
   "metadata": {},
   "outputs": [
    {
     "name": "stdout",
     "output_type": "stream",
     "text": [
      "/mnt/d/Dropbox/GD-1_data/Analyze_GD-1/streampepperdf_new.py:793: RuntimeWarning: invalid value encountered in greater_equal\n",
      "  lowbindx= numpy.argmax((lowx >= 0.)*(nlowx <= 10.)) # not too crazy\n",
      "\n",
      "/mnt/d/Dropbox/GD-1_data/Analyze_GD-1/streampepperdf_new.py:793: RuntimeWarning: invalid value encountered in less_equal\n",
      "  lowbindx= numpy.argmax((lowx >= 0.)*(nlowx <= 10.)) # not too crazy\n",
      "\n"
     ]
    }
   ],
   "source": [
    "apar=np.linspace(0.03,1.14,100)\n",
    "\n",
    "dens_unp=[]\n",
    "dens=[]\n",
    "omega_unp=[]\n",
    "omega=[]\n",
    "\n",
    "for a in apar :\n",
    "    dens_unp.append(sdf_smooth._density_par(a))\n",
    "    omega_unp.append(sdf_smooth.meanOmega(a,oned=True))\n",
    "    dens.append(sdf_pepper._densityAndOmega_par_approx(a)[0])\n",
    "    omega.append(sdf_pepper._densityAndOmega_par_approx(a)[1])\n",
    "    \n",
    "\n",
    "dens_unp=np.array(dens_unp)\n",
    "dens=np.array(dens)\n",
    "omega=np.array(omega)"
   ]
  },
  {
   "cell_type": "code",
   "execution_count": 11,
   "metadata": {},
   "outputs": [
    {
     "name": "stdout",
     "output_type": "stream",
     "text": [
      "[nan nan nan nan nan nan nan nan nan nan nan nan nan nan nan nan nan nan\n",
      " nan nan nan nan nan nan nan nan nan nan nan nan nan nan nan nan nan nan\n",
      " nan nan nan nan nan nan nan nan nan nan nan nan nan nan nan nan nan nan\n",
      " nan nan nan nan nan nan nan nan nan nan nan nan nan nan nan nan nan nan\n",
      " nan nan nan nan nan nan nan nan nan nan nan nan nan nan nan nan nan nan\n",
      " nan nan nan nan nan nan nan nan nan nan]\n"
     ]
    }
   ],
   "source": [
    "print (dens)"
   ]
  },
  {
   "cell_type": "code",
   "execution_count": null,
   "metadata": {},
   "outputs": [],
   "source": [
    "def convert_dens_to_obs(apars,dens,dens_smooth,mO,poly_deg=3,poly_norm=True):\n",
    "    \"\"\"\n",
    "    NAME:\n",
    "        convert_dens_to_obs\n",
    "    PURPOSE:\n",
    "        Convert track to observed coordinates\n",
    "    INPUT:\n",
    "        apars - parallel angles\n",
    "        dens - density(apars)\n",
    "        dens_smooth - smooth-stream density(apars)\n",
    "        mO= (None) mean parallel frequency (1D) \n",
    "            [needs to be set to get density on same grid as track]\n",
    "        poly_deg= (3) degree of the polynomial to fit for the 'smooth' stream\n",
    "    OUTPUT:\n",
    "        (xi,dens/smooth)\n",
    "    \"\"\"\n",
    "    mT= sdf_pepper.meanTrack(apars,_mO=mO,coord='lb')\n",
    "    outll= numpy.linspace(numpy.amin(mT[0]),numpy.amax(mT[0]),len(apars))\n",
    "    #phi12=lb_to_phi12(mT[0],mT[1],degree=True)\n",
    "    #print (phi12[:,0])\n",
    "    \n",
    "    pp= Polynomial.fit(apars,dens,deg=3)\n",
    "    outphi1= numpy.arange(0.25,14.35,0.1)\n",
    "    # Interpolate density\n",
    "    ipll= interpolate.InterpolatedUnivariateSpline(mT[0],apars)\n",
    "    ipdens= interpolate.InterpolatedUnivariateSpline(apars,dens/dens_smooth)\n",
    "    return (outll,ipdens(ipll(outll)))\n",
    "\n",
    "ll,dd=convert_dens_to_obs(apar,dens,dens_unp,omega)\n",
    "    "
   ]
  },
  {
   "cell_type": "code",
   "execution_count": null,
   "metadata": {},
   "outputs": [],
   "source": [
    "plt.figure()\n",
    "plt.plot(ll,dd)\n",
    "plt.show()"
   ]
  },
  {
   "cell_type": "code",
   "execution_count": null,
   "metadata": {},
   "outputs": [],
   "source": []
  }
 ],
 "metadata": {
  "kernelspec": {
   "display_name": "Python 3",
   "language": "python",
   "name": "python3"
  },
  "language_info": {
   "codemirror_mode": {
    "name": "ipython",
    "version": 3
   },
   "file_extension": ".py",
   "mimetype": "text/x-python",
   "name": "python",
   "nbconvert_exporter": "python",
   "pygments_lexer": "ipython3",
   "version": "3.6.5"
  }
 },
 "nbformat": 4,
 "nbformat_minor": 2
}
