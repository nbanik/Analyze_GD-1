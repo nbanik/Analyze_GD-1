{
 "cells": [
  {
   "cell_type": "code",
   "execution_count": 1,
   "metadata": {},
   "outputs": [
    {
     "name": "stdout",
     "output_type": "stream",
     "text": [
      "Populating the interactive namespace from numpy and matplotlib\n"
     ]
    }
   ],
   "source": [
    "import numpy as np\n",
    "import pickle\n",
    "from astropy.io import fits\n",
    "from numpy.polynomial import Polynomial\n",
    "import matplotlib.pyplot as plt\n",
    "from galpy.util import bovy_conversion, bovy_coords, save_pickles, bovy_plot\n",
    "from galpy.potential import MWPotential2014, turn_physical_off, vcirc\n",
    "import astropy.units as u\n",
    "%pylab inline\n",
    "from galpy.orbit import Orbit\n",
    "from scipy import ndimage, signal, interpolate\n",
    "import gd1_util\n",
    "import GMC_util\n",
    "\n",
    "ro=8.\n",
    "vo=220.\n"
   ]
  },
  {
   "cell_type": "markdown",
   "metadata": {},
   "source": [
    "### Test whether very old impacts are important. To do this, we will impact a mock GD-1 stream by subhalos at ~7 Gyr and compute the density today."
   ]
  },
  {
   "cell_type": "code",
   "execution_count": null,
   "metadata": {},
   "outputs": [],
   "source": [
    "ro=8.\n",
    "vo=220.\n",
    "\n",
    "def parse_times(times,age,ro,vo):\n",
    "    if 'sampling' in times:\n",
    "        nsam= int(times.split('sampling')[0])\n",
    "        return [float(ti)/bovy_conversion.time_in_Gyr(vo,ro)\n",
    "                for ti in numpy.arange(1,nsam+1)/(nsam+1.)*age]\n",
    "    return [float(ti)/bovy_conversion.time_in_Gyr(vo,ro)\n",
    "            for ti in times.split(',')]\n",
    "            \n",
    "timpacts= parse_times('0.5,1.,6.,7.,7.5,8.,8.5',9.,ro=ro,vo=vo)\n",
    "\n",
    "print (np.array(timpacts)*bovy_conversion.time_in_Gyr(vo,ro))"
   ]
  },
  {
   "cell_type": "code",
   "execution_count": null,
   "metadata": {},
   "outputs": [],
   "source": [
    "pepperfilename='GD1_oldimpactstest_MW2014_leadingarm.pkl'\n",
    "sdf_pepper= gd1_util.setup_gd1model(timpact=timpacts)\n",
    "save_pickles(pepperfilename,sdf_pepper)"
   ]
  },
  {
   "cell_type": "code",
   "execution_count": 2,
   "metadata": {},
   "outputs": [],
   "source": [
    "with open('GD1_oldimpactstest_MW2014_leadingarm.pkl','rb') as savefile:\n",
    "            #sdf_smooth= pickle.load(savefile,encoding='latin1')\n",
    "            sdf_pepper= pickle.load(savefile,encoding='latin1')"
   ]
  },
  {
   "cell_type": "code",
   "execution_count": 3,
   "metadata": {},
   "outputs": [
    {
     "name": "stdout",
     "output_type": "stream",
     "text": [
      "galpyWarning: In versions >1.3, the output unit of streamdf.misalignment has been changed to radian (from degree before)\n"
     ]
    }
   ],
   "source": [
    "sdf_smooth=gd1_util.setup_gd1model()"
   ]
  },
  {
   "cell_type": "code",
   "execution_count": 4,
   "metadata": {},
   "outputs": [],
   "source": [
    "apar_full,x_full,y_full,z_full,vx_full,vy_full,vz_full = GMC_util.aparxv_stream(sdf_smooth,sdf_pepper)\n"
   ]
  },
  {
   "cell_type": "code",
   "execution_count": 5,
   "metadata": {},
   "outputs": [
    {
     "name": "stdout",
     "output_type": "stream",
     "text": [
      "[0.5 1.  6.  7.  7.5 8.  8.5]\n"
     ]
    }
   ],
   "source": [
    "print (sdf_pepper._timpact*bovy_conversion.time_in_Gyr(vo,ro))"
   ]
  },
  {
   "cell_type": "code",
   "execution_count": 6,
   "metadata": {},
   "outputs": [
    {
     "name": "stdout",
     "output_type": "stream",
     "text": [
      "0.4150489428970998\n",
      "[[-1.04010629  0.15744733 -0.57970461]]\n"
     ]
    }
   ],
   "source": [
    "# randomly select an apar and its velocity\n",
    "tim=0 #impact at 0.5 Gyr in the past\n",
    "\n",
    "apar_imp=apar_full[tim][10]\n",
    "v_imp=np.c_[vx_full[tim][10]+0.0001,vy_full[tim][10]-0.0001,vz_full[tim][10]+0.002]\n",
    "M_imp=10**9./bovy_conversion.mass_in_msol(vo,ro)\n",
    "timp=sdf_pepper._timpact[tim]\n",
    "\n",
    "def rs(M):\n",
    "    return 1.05*(M/10**8.)**(0.5)\n",
    "\n",
    "rs_imp=rs(10**9.)/8.\n",
    "\n",
    "print (rs_imp)\n",
    "\n",
    "print (v_imp)"
   ]
  },
  {
   "cell_type": "code",
   "execution_count": 7,
   "metadata": {},
   "outputs": [],
   "source": [
    "#import streampepperdf\n",
    "\n",
    "sdf_pepper.set_impacts(impactb=[0.1/8.],subhalovel=v_imp,impact_angle=[apar_imp],timpact=[timp],rs=[rs_imp],GM=[M_imp])\n",
    "\n"
   ]
  },
  {
   "cell_type": "code",
   "execution_count": 8,
   "metadata": {},
   "outputs": [],
   "source": [
    "apar=np.linspace(0.03,1.14,100)\n",
    "\n",
    "dens_unp=[]\n",
    "dens=[]\n",
    "omega_unp=[]\n",
    "omega=[]\n",
    "\n",
    "for a in apar :\n",
    "    dens_unp.append(sdf_smooth._density_par(a))\n",
    "    omega_unp.append(sdf_smooth.meanOmega(a,oned=True))\n",
    "    dens.append(sdf_pepper._densityAndOmega_par_approx(a)[0])\n",
    "    omega.append(sdf_pepper._densityAndOmega_par_approx(a)[1])\n",
    "    \n",
    "\n",
    "dens_unp=np.array(dens_unp)\n",
    "dens=np.array(dens)\n",
    "omega=np.array(omega)"
   ]
  },
  {
   "cell_type": "code",
   "execution_count": 9,
   "metadata": {},
   "outputs": [
    {
     "name": "stdout",
     "output_type": "stream",
     "text": [
      "[9.97397725e-01 9.41435788e-01 6.40342580e-01 1.98514724e-01\n",
      " 2.01685104e-02 7.40653724e-04 1.88667794e-04 1.84709465e-04\n",
      " 1.84702473e-04 1.84702470e-04 1.84702469e-04 1.84702468e-04\n",
      " 1.84702467e-04 1.84702467e-04 1.84702466e-04 1.84702465e-04\n",
      " 1.84702465e-04 1.84702464e-04 1.84702463e-04 1.84702462e-04\n",
      " 1.84702462e-04 1.84702461e-04 1.84702460e-04 1.84702460e-04\n",
      " 1.84702459e-04 1.84702458e-04 1.84702458e-04 1.84702457e-04\n",
      " 1.84702456e-04 1.84702455e-04 1.84702455e-04 1.84702454e-04\n",
      " 1.84702453e-04 1.84702453e-04 1.84702452e-04 1.84702451e-04\n",
      " 1.84702451e-04 1.84702450e-04 1.84702449e-04 1.84702449e-04\n",
      " 1.84702448e-04 1.84702447e-04 1.84702446e-04 1.84702446e-04\n",
      " 1.84702445e-04 1.84702444e-04 1.84702444e-04 1.84702443e-04\n",
      " 1.84702442e-04 1.84702442e-04 1.84702441e-04 1.84702440e-04\n",
      " 1.84702440e-04 1.84702439e-04 1.84702438e-04 1.84702438e-04\n",
      " 1.84702437e-04 1.84702436e-04 1.84702436e-04 1.84702435e-04\n",
      " 1.84702434e-04 1.84702434e-04 1.84702433e-04 1.84702432e-04\n",
      " 1.84702432e-04 1.84702431e-04 1.84702430e-04 1.84702430e-04\n",
      " 1.84702704e-04 1.84702703e-04 1.84702701e-04 1.84702700e-04\n",
      " 1.84702699e-04 1.84702697e-04 1.84702696e-04 1.84702695e-04\n",
      " 1.84702693e-04 1.84702692e-04 1.84702690e-04 1.84702689e-04\n",
      " 1.84702688e-04 1.84702686e-04 1.84702685e-04 1.84702684e-04\n",
      " 1.84702682e-04 1.84702681e-04 1.84702680e-04 1.84702678e-04\n",
      " 1.84702677e-04 1.84702676e-04 1.84702674e-04 1.84702673e-04\n",
      " 1.84702672e-04 1.84702670e-04 1.84702669e-04 1.84702668e-04\n",
      " 1.84702666e-04 1.84702665e-04 1.84702664e-04 1.84702663e-04]\n"
     ]
    }
   ],
   "source": [
    "print (dens)"
   ]
  },
  {
   "cell_type": "code",
   "execution_count": 10,
   "metadata": {},
   "outputs": [],
   "source": [
    "def convert_dens_to_obs(apars,dens,dens_smooth,mO,poly_deg=3,poly_norm=True):\n",
    "    \"\"\"\n",
    "    NAME:\n",
    "        convert_dens_to_obs\n",
    "    PURPOSE:\n",
    "        Convert track to observed coordinates\n",
    "    INPUT:\n",
    "        apars - parallel angles\n",
    "        dens - density(apars)\n",
    "        dens_smooth - smooth-stream density(apars)\n",
    "        mO= (None) mean parallel frequency (1D) \n",
    "            [needs to be set to get density on same grid as track]\n",
    "        poly_deg= (3) degree of the polynomial to fit for the 'smooth' stream\n",
    "    OUTPUT:\n",
    "        (xi,dens/smooth)\n",
    "    \"\"\"\n",
    "    mT= sdf_pepper.meanTrack(apars,_mO=mO,coord='lb')\n",
    "    outll= numpy.linspace(numpy.amin(mT[0]),numpy.amax(mT[0]),len(apars))\n",
    "    #phi12=lb_to_phi12(mT[0],mT[1],degree=True)\n",
    "    #print (phi12[:,0])\n",
    "    \n",
    "    pp= Polynomial.fit(apars,dens,deg=3)\n",
    "    outphi1= numpy.arange(0.25,14.35,0.1)\n",
    "    # Interpolate density\n",
    "    ipll= interpolate.InterpolatedUnivariateSpline(mT[0],apars)\n",
    "    ipdens= interpolate.InterpolatedUnivariateSpline(apars,dens/dens_smooth)\n",
    "    return (outll,ipdens(ipll(outll)))\n",
    "\n",
    "ll,dd=convert_dens_to_obs(apar,dens,dens_unp,omega)\n",
    "    "
   ]
  },
  {
   "cell_type": "code",
   "execution_count": 11,
   "metadata": {},
   "outputs": [
    {
     "data": {
      "image/png": "[encoded data removed]",
      "text/plain": [
       "<Figure size 432x288 with 1 Axes>"
      ]
     },
     "metadata": {},
     "output_type": "display_data"
    }
   ],
   "source": [
    "plt.figure()\n",
    "plt.plot(ll,dd)\n",
    "plt.show()"
   ]
  },
  {
   "cell_type": "markdown",
   "metadata": {},
   "source": [
    "### The stream is completely destroyed!"
   ]
  },
  {
   "cell_type": "markdown",
   "metadata": {},
   "source": [
    "### Try with an impact 6 Gyr in the past"
   ]
  },
  {
   "cell_type": "code",
   "execution_count": 12,
   "metadata": {},
   "outputs": [],
   "source": [
    "with open('GD1_oldimpactstest_MW2014_leadingarm.pkl','rb') as savefile:\n",
    "            #sdf_smooth= pickle.load(savefile,encoding='latin1')\n",
    "            sdf_pepper= pickle.load(savefile,encoding='latin1')"
   ]
  },
  {
   "cell_type": "code",
   "execution_count": 13,
   "metadata": {},
   "outputs": [
    {
     "name": "stdout",
     "output_type": "stream",
     "text": [
      "0.4150489428970998\n",
      "[[ 0.46804216  0.35419    -0.06945899]]\n"
     ]
    }
   ],
   "source": [
    "apar_full,x_full,y_full,z_full,vx_full,vy_full,vz_full = GMC_util.aparxv_stream(sdf_smooth,sdf_pepper)\n",
    "\n",
    "# randomly select an apar and its velocity\n",
    "tim=2 #impact at 6 Gyr in the past\n",
    "\n",
    "apar_imp=apar_full[tim][10]\n",
    "v_imp=np.c_[vx_full[tim][10]+0.0001,vy_full[tim][10]-0.0001,vz_full[tim][10]+0.002]\n",
    "M_imp=10**9./bovy_conversion.mass_in_msol(vo,ro)\n",
    "timp=sdf_pepper._timpact[tim]\n",
    "\n",
    "def rs(M):\n",
    "    return 1.05*(M/10**8.)**(0.5)\n",
    "\n",
    "rs_imp=rs(10**9.)/8.\n",
    "\n",
    "print (rs_imp)\n",
    "\n",
    "print (v_imp)\n"
   ]
  },
  {
   "cell_type": "code",
   "execution_count": 14,
   "metadata": {},
   "outputs": [
    {
     "name": "stdout",
     "output_type": "stream",
     "text": [
      "[1.00002320e+00 1.00002319e+00 1.00002319e+00 1.00002317e+00\n",
      " 1.00002315e+00 1.00002312e+00 1.00002306e+00 1.00002295e+00\n",
      " 1.00002278e+00 1.00002251e+00 1.00002206e+00 1.00002133e+00\n",
      " 1.00002018e+00 1.00001836e+00 1.00001552e+00 1.00001114e+00\n",
      " 1.00000445e+00 9.99994326e-01 9.99979160e-01 9.99956672e-01\n",
      " 9.99923664e-01 9.99875698e-01 9.99806698e-01 9.99708439e-01\n",
      " 9.99569917e-01 9.99376598e-01 9.99109516e-01 9.98744234e-01\n",
      " 9.98249666e-01 9.97586783e-01 9.96707229e-01 9.95551913e-01\n",
      " 9.94049625e-01 9.92115791e-01 9.89651460e-01 9.86542663e-01\n",
      " 9.82660270e-01 9.77860501e-01 9.71986217e-01 9.64869117e-01\n",
      " 9.56332908e-01 9.46197514e-01 9.34284271e-01 9.20422045e-01\n",
      " 9.04454074e-01 8.86245323e-01 8.65690001e-01 8.42718884e-01\n",
      " 8.17306017e-01 7.89474370e-01 7.59300025e-01 7.26914532e-01\n",
      " 6.92505151e-01 6.56312789e-01 6.18627600e-01 5.79782327e-01\n",
      " 5.40143632e-01 5.00101772e-01 4.60059120e-01 4.20418072e-01\n",
      " 3.81568957e-01 3.43878548e-01 3.07679741e-01 2.73262871e-01\n",
      " 2.40869047e-01 2.10685746e-01 1.82844737e-01 1.57422316e-01\n",
      " 1.34441652e-01 1.13876975e-01 9.56592153e-02 7.96827126e-02\n",
      " 6.58125302e-02 5.38919791e-02 4.37499654e-02 3.52078436e-02\n",
      " 2.80855312e-02 2.22067137e-02 1.74030495e-02 1.35173519e-02\n",
      " 1.04057857e-02 7.93916248e-03 6.00345265e-03 4.49964809e-03\n",
      " 3.34311986e-03 2.46260890e-03 1.79897741e-03 1.30383183e-03\n",
      " 9.38108624e-04 6.70693595e-04 4.77125934e-04 3.38420497e-04\n",
      " 2.40026668e-04 1.70930186e-04 1.22895195e-04 8.98374511e-05\n",
      " 6.73156859e-05 5.21261188e-05 4.19846195e-05 3.52815643e-05]\n"
     ]
    }
   ],
   "source": [
    "#import streampepperdf\n",
    "\n",
    "sdf_pepper.set_impacts(impactb=[0.1/8.],subhalovel=v_imp,impact_angle=[apar_imp],timpact=[timp],rs=[rs_imp],GM=[M_imp])\n",
    "\n",
    "apar=np.linspace(0.03,1.14,100)\n",
    "\n",
    "dens_unp=[]\n",
    "dens=[]\n",
    "omega_unp=[]\n",
    "omega=[]\n",
    "\n",
    "for a in apar :\n",
    "    dens_unp.append(sdf_smooth._density_par(a))\n",
    "    omega_unp.append(sdf_smooth.meanOmega(a,oned=True))\n",
    "    dens.append(sdf_pepper._densityAndOmega_par_approx(a)[0])\n",
    "    omega.append(sdf_pepper._densityAndOmega_par_approx(a)[1])\n",
    "    \n",
    "\n",
    "dens_unp=np.array(dens_unp)\n",
    "dens=np.array(dens)\n",
    "omega=np.array(omega)\n",
    "\n",
    "print (dens)\n"
   ]
  },
  {
   "cell_type": "code",
   "execution_count": 15,
   "metadata": {},
   "outputs": [],
   "source": [
    "def convert_dens_to_obs(apars,dens,dens_smooth,mO,poly_deg=3,poly_norm=True):\n",
    "    \"\"\"\n",
    "    NAME:\n",
    "        convert_dens_to_obs\n",
    "    PURPOSE:\n",
    "        Convert track to observed coordinates\n",
    "    INPUT:\n",
    "        apars - parallel angles\n",
    "        dens - density(apars)\n",
    "        dens_smooth - smooth-stream density(apars)\n",
    "        mO= (None) mean parallel frequency (1D) \n",
    "            [needs to be set to get density on same grid as track]\n",
    "        poly_deg= (3) degree of the polynomial to fit for the 'smooth' stream\n",
    "    OUTPUT:\n",
    "        (xi,dens/smooth)\n",
    "    \"\"\"\n",
    "    mT= sdf_pepper.meanTrack(apars,_mO=mO,coord='lb')\n",
    "    outll= numpy.linspace(numpy.amin(mT[0]),numpy.amax(mT[0]),len(apars))\n",
    "    #phi12=lb_to_phi12(mT[0],mT[1],degree=True)\n",
    "    #print (phi12[:,0])\n",
    "    \n",
    "    pp= Polynomial.fit(apars,dens,deg=3)\n",
    "    outphi1= numpy.arange(0.25,14.35,0.1)\n",
    "    # Interpolate density\n",
    "    ipll= interpolate.InterpolatedUnivariateSpline(mT[0],apars)\n",
    "    ipdens= interpolate.InterpolatedUnivariateSpline(apars,dens/dens_smooth)\n",
    "    return (outll,ipdens(ipll(outll)))\n",
    "\n",
    "ll,dd=convert_dens_to_obs(apar,dens,dens_unp,omega)\n",
    "    "
   ]
  },
  {
   "cell_type": "code",
   "execution_count": 16,
   "metadata": {},
   "outputs": [
    {
     "data": {
      "image/png": "[encoded data removed]",
      "text/plain": [
       "<Figure size 432x288 with 1 Axes>"
      ]
     },
     "metadata": {},
     "output_type": "display_data"
    }
   ],
   "source": [
    "plt.figure()\n",
    "plt.plot(ll,dd)\n",
    "plt.show()"
   ]
  },
  {
   "cell_type": "markdown",
   "metadata": {},
   "source": [
    "### Seems like no effect!"
   ]
  },
  {
   "cell_type": "code",
   "execution_count": null,
   "metadata": {},
   "outputs": [],
   "source": []
  }
 ],
 "metadata": {
  "kernelspec": {
   "display_name": "Python 3",
   "language": "python",
   "name": "python3"
  },
  "language_info": {
   "codemirror_mode": {
    "name": "ipython",
    "version": 3
   },
   "file_extension": ".py",
   "mimetype": "text/x-python",
   "name": "python",
   "nbconvert_exporter": "python",
   "pygments_lexer": "ipython3",
   "version": "3.6.5"
  }
 },
 "nbformat": 4,
 "nbformat_minor": 2
}
