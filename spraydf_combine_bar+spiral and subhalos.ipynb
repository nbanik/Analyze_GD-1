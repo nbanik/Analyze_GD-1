{
 "cells": [
  {
   "cell_type": "code",
   "execution_count": 7,
   "metadata": {},
   "outputs": [],
   "source": [
    "import numpy as np\n",
    "import pickle\n",
    "from astropy.io import fits\n",
    "import matplotlib\n",
    "#matplotlib.use('agg')\n",
    "import matplotlib.pyplot as plt\n",
    "from galpy.util import bovy_conversion, bovy_coords, save_pickles, bovy_plot\n",
    "from galpy.potential import MWPotential2014, turn_physical_off, vcirc\n",
    "import astropy.units as u\n",
    "from galpy.orbit import Orbit\n",
    "from scipy import integrate, interpolate\n",
    "from scipy.integrate import quad\n",
    "from optparse import OptionParser\n",
    "import GMC_GC_util\n",
    "import gd1_util\n",
    "import pal5_util_MWfit\n",
    "import MWPotential2014Likelihood\n",
    "import numpy\n",
    "import streamspraydf\n",
    "import SCFbar_util_new, spiralarms_util\n",
    "from galpy.df.streamgapdf import impulse_deltav_plummer_curvedstream\n",
    "from gd1_util_MWhaloshape import lb_to_phi12\n",
    "\n",
    "ro=8.\n",
    "vo=220."
   ]
  },
  {
   "cell_type": "code",
   "execution_count": 2,
   "metadata": {},
   "outputs": [
    {
     "name": "stdout",
     "output_type": "stream",
     "text": [
      "not growing spiral\n"
     ]
    }
   ],
   "source": [
    "#n=9, l=19\n",
    "Ac,As=SCFbar_util_new.compute_Acos_Asin()\n",
    "\n",
    "barpot,nobarpot=SCFbar_util_new.MWPotentialSCFbar_grow(mbar=10.**10.,Acos=Ac,Asin=As,pat_speed=39.,fin_phi_deg=27.,t_on=-5.,tgrow=2,tstream=3.2)\n",
    "\n",
    "spiral_pot=spiralarms_util.spiral_only_potential(tstream=3.2,axi_pot=nobarpot,N=4)\n",
    "\n",
    "MW_bar_spiral_pot=barpot+[spiral_pot]\n",
    "turn_physical_off(MW_bar_spiral_pot)"
   ]
  },
  {
   "cell_type": "code",
   "execution_count": 5,
   "metadata": {},
   "outputs": [
    {
     "name": "stdout",
     "output_type": "stream",
     "text": [
      "galpyWarning: In versions >1.3, the output unit of streamdf.misalignment has been changed to radian (from degree before)\n"
     ]
    }
   ],
   "source": [
    "#load the impacted sdf_pepper file\n",
    "\n",
    "with open('GD1_64impact_only_subhalos_trailing_Plummer_td3.2Gyr_Mmin105_MW2014.pkl','rb') as savefile:\n",
    "            sdf_pepper_imp= pickle.load(savefile,encoding='latin1')\n",
    "\n",
    "\n",
    "new_orb_lb=[188.04928416766532, 51.848594007807456, 7.559027173643999, 12.260258757214746, -5.140630283489461, 7.162732847549563]\n",
    "sdf_smooth=gd1_util.setup_gd1model(leading=False,age=3.2,new_orb_lb=new_orb_lb,isob=0.45,sigv=0.3)\n",
    "        \n"
   ]
  },
  {
   "cell_type": "code",
   "execution_count": 8,
   "metadata": {},
   "outputs": [
    {
     "data": {
      "image/png": "[encoded data removed]",
      "text/plain": [
       "<Figure size 432x288 with 1 Axes>"
      ]
     },
     "metadata": {
      "needs_background": "light"
     },
     "output_type": "display_data"
    }
   ],
   "source": [
    "def compute_obs_density(phi1,apars,dens_apar,Omega):\n",
    "    \n",
    "    apar_edge=[]\n",
    "    phi1_edge=[]\n",
    "\n",
    "    abw0=apars[1]-apars[0]\n",
    "    apar_edge.append(apars[0]-(abw0/2.))\n",
    "\n",
    "    phi1bw0=phi1[1]-phi1[0]\n",
    "    phi1_edge.append(phi1[0]-(phi1bw0/2.))\n",
    "\n",
    "    for ii in range(len(apars)-1):\n",
    "        abw=apars[ii+1]-apars[ii]\n",
    "        phi1bw=phi1[ii+1]-phi1[ii]\n",
    "        apar_edge.append(apars[ii]+abw/2.)\n",
    "        phi1_edge.append(phi1[ii]+phi1bw/2.)\n",
    "\n",
    "    abw_last=apars[len(apars)-1]-apars[len(apars)-2]\n",
    "    apar_edge.append(apars[len(apars)-1]+(abw_last/2.))\n",
    "\n",
    "    phi1bw_last=phi1[len(phi1)-1]-phi1[len(phi1)-2]\n",
    "    phi1_edge.append(phi1[len(phi1)-1]+(phi1bw_last/2.))\n",
    "\n",
    "    #compute the Jacobian d(apar)/d(phi1) using finite difference method\n",
    "    dapar_dphi1=np.fabs(numpy.diff(apar_edge)/numpy.diff(phi1_edge))\n",
    "    #print (dapar_dphi1)\n",
    "   \n",
    "    #Interpolate dens(apar)\n",
    "    ipdens_apar= interpolate.InterpolatedUnivariateSpline(apars,dens_apar)\n",
    "\n",
    "    #Interpolate apar(phi1)\n",
    "    if phi1[1] < phi1[0] : # ad-hoc way of checking whether increasing or decreasing\n",
    "        ipphi1= interpolate.InterpolatedUnivariateSpline(phi1[::-1],apars[::-1])\n",
    "        #Interpolate Jacobian\n",
    "        ipdapar_dphi1=interpolate.InterpolatedUnivariateSpline(phi1[::-1],dapar_dphi1[::-1])\n",
    "        #Interpolate density(phi1) by multiplying by jacobian\n",
    "        dens_phi1=interpolate.InterpolatedUnivariateSpline(phi1[::-1],ipdens_apar(ipphi1(phi1[::-1]))*ipdapar_dphi1(phi1[::-1]))\n",
    "        \n",
    "    else :\n",
    "        ipphi1= interpolate.InterpolatedUnivariateSpline(phi1,apars)\n",
    "        #Interpolate Jacobian\n",
    "        ipdapar_dphi1=interpolate.InterpolatedUnivariateSpline(phi1,dapar_dphi1)\n",
    "        #Interpolate density(phi1) by multiplying by jacobian\n",
    "        dens_phi1=interpolate.InterpolatedUnivariateSpline(phi1,ipdens_apar(ipphi1(phi1))*ipdapar_dphi1(phi1))\n",
    "       \n",
    "    return (dens_phi1(phi1))\n",
    "\n",
    "#plot the density in the streamdf framework\n",
    "apars=np.arange(0.01,1.,0.01)\n",
    "dens_unp= [sdf_smooth._density_par(a) for a in apars]\n",
    "omega_unp= [sdf_smooth.meanOmega(a,oned=True) for a in apars]\n",
    "densOmega= np.array([sdf_pepper_imp._densityAndOmega_par_approx(a) for a in apars]).T\n",
    "dens = densOmega[0] \n",
    "Omega = densOmega[1]\n",
    "\n",
    "mT= sdf_pepper_imp.meanTrack(apars,_mO=Omega,coord='lb')\n",
    "phi1=lb_to_phi12(mT[0],mT[1],degree=True)[:,0]\n",
    "phi1[phi1 > 180.]-=360.\n",
    "dens_phi1 = compute_obs_density(phi1,apars,dens,Omega)\n",
    "\n",
    "plt.figure()\n",
    "plt.plot(phi1,dens_phi1)\n",
    "plt.show()\n"
   ]
  },
  {
   "cell_type": "code",
   "execution_count": 20,
   "metadata": {},
   "outputs": [
    {
     "name": "stdout",
     "output_type": "stream",
     "text": [
      "[89.7273348719852, 89.11268961996895, 88.11391275691673, 87.6030676877445, 87.57777337883526, 87.54603999726898, 87.07641654141852, 87.00184367155954, 86.76887907584428, 85.0788763662953, 83.63758837203319, 83.124106657826, 82.04732499175786, 80.5672655119659, 79.56900154312935, 78.34826973629464, 77.57935387298328, 76.1668877392047, 75.85034372688166, 75.43579714683337, 75.03746137238586, 74.56282217224383, 71.96130407614532, 70.76203272669397, 70.63583224440838, 70.26105180376805, 70.15703967233792, 69.99375260192606, 69.81390215712709, 68.9327594264767, 68.60600820542692, 68.11560976726001, 67.17321641645381, 66.01208432207959, 65.4631079435954, 64.90015971348714, 64.83009676644706, 64.44330203363815, 63.997899695333345, 63.17459620380572, 61.91879280565322, 61.5350322886025, 61.097555197207924, 60.6955012552403, 60.614979712518156, 60.55681691234601, 60.017752638242506, 59.90154208520189, 59.82553620192209, 57.305384470827505, 57.012482393232, 55.157917810611224, 54.080796857975706, 50.88119788666572, 47.56662212947099, 46.478739915507795, 45.74210022542688, 44.938231174385415, 44.44088139604841, 44.17905731287464, 43.63690350762183, 43.52010494923464, 43.010976472190144, 42.76725864911246, 42.02971960105329, 40.42082715225742, 40.39892843404083, 39.13339244734286, 38.46825118751635, 35.94767671310481, 35.52812020487412, 35.09901874291551, 34.936898652596646, 33.11323150352237, 32.858094265148566, 32.855027053190504, 32.66805670728955, 30.39090129247945, 28.37982571998726, 28.3259772859423, 26.621477508594538, 21.347117879769325, 19.845507216994488, 18.60520800816664, 18.467502199547877, 16.531238076551016, 16.240465244655798, 14.01516019536557, 13.13901415534276, 11.488233648123076, 10.572529623941007, 7.630727286883144, 7.502059298788684, 6.284964220283492, 5.89719324298685, 5.88653850991382, 3.7929165200053405, 3.4780662902845085, 2.8881685375617763, 2.4475294710943656]\n"
     ]
    }
   ],
   "source": [
    "o=Orbit(new_orb_lb,lb=True,solarmotion=[-11.1,24.,7.25],ro=8.,vo=220.)\n",
    "#convert to galpy units\n",
    "orb=Orbit(o._orb.vxvv)\n",
    "\n",
    "\n",
    "Nsamples=100\n",
    "spdft= streamspraydf.streamspraydf(10000*u.Msun,progenitor=orb,pot=barpot,leading=False,tdisrupt=3.2*u.Gyr)\n",
    "RvR,dt= spdft.sample(n=Nsamples,returndt=True,integrate=False)\n",
    "R=RvR[0]\n",
    "vR=RvR[1]\n",
    "vT=RvR[2]\n",
    "z=RvR[3]\n",
    "vz=RvR[4]\n",
    "phi=RvR[5]\n",
    "\n",
    "sorted_indx=np.argsort(dt)[::-1] #arrange in descending order to start with the star that was stripped first\n",
    "#print (sorted_indx)\n",
    "\n",
    "orbs_list=[[R[i],vR[i],vT[i],z[i],vz[i],phi[i]] for i in sorted_indx]\n",
    "tstrip=[dt[i] for i in sorted_indx]\n",
    "#print (orbs_list)\n",
    "print (tstrip)\n"
   ]
  },
  {
   "cell_type": "code",
   "execution_count": 22,
   "metadata": {},
   "outputs": [],
   "source": [
    "def star_propagator(tstar,orb,sdf_pepper_imp,pot):\n",
    "    '''\n",
    "    tstar : time from when to integrate the star's orbit\n",
    "    orb : orbit of the star at tstar, must be an Orbit instance\n",
    "    sdf_pepper_imp :sdf_pepper object\n",
    "    pot : potential\n",
    "    \n",
    "    output:\n",
    "    time of the next impact or 0 (for today), R,vR,vT,z,vz,phi \n",
    "    '''\n",
    "    \n",
    "    #timpacts starting from the 1 st impact time in the past, remove multiple impact times (repeated timpacts)\n",
    "    unique_timp_rev = np.unique(sdf_pepper_imp._timpact)[::-1]\n",
    "    #print (unique_timp_rev)\n",
    "         \n",
    "    if tstar <= unique_timp_rev[-1] : #if the star stripped after the last impact, simply integrate until today\n",
    "        #print (\"Integrating till today \")\n",
    "        ts=np.linspace(-1*tstar,0,1000)\n",
    "        orb.integrate(ts,pot)\n",
    "        return (ts[-1],orb.R(ts[-1]),orb.vR(ts[-1]),orb.vT(ts[-1]),orb.z(ts[-1]),orb.vz(ts[-1]),orb.phi(ts[-1]))\n",
    "    \n",
    "    else:\n",
    "        #determine the first timpact for this star\n",
    "        next_timp_indx = np.where(tstar > unique_timp_rev)[0][0] #this gives the actual index (starting at 1), but in python it's\n",
    "        #print (\"next_t ind\",next_timp_indx)\n",
    "        # the following index, which is what we need. \n",
    "        timp_next= unique_timp_rev[next_timp_indx]\n",
    "        #print (tstar,timp_next)\n",
    "        ts=np.linspace(-1.*tstar,-1.*timp_next,1000)\n",
    "        orb.integrate(ts,pot)\n",
    "        x=orb.x(ts[-1])\n",
    "        y=orb.y(ts[-1])\n",
    "        z=orb.z(ts[-1])\n",
    "        vx=orb.vx(ts[-1])\n",
    "        vy=orb.vy(ts[-1])\n",
    "        vz=orb.vz(ts[-1])\n",
    "        #print (\"xyz\",x,y,z,vx,vy,vz)\n",
    "        #R,vR,vT,z,vz,phi=rect_to_cyl_orb(x,y,z,vx,vy,vz)\n",
    "        R,vR,vT,z,vz,phi=impact_stream(timp_next,x,y,z,vx,vy,vz,sdf_pepper_imp)\n",
    "        return (timp_next,R,vR,vT,z,vz,phi)\n",
    "               \n",
    "\n",
    "def cyl_to_rect_orb(R,vR,vT,z,vz,phi):\n",
    "    x,y,z = bovy_coords.cyl_to_rect(R,phi,z)\n",
    "    vx,vy,vz = bovy_coords.cyl_to_rect_vec(vR,vT,vz,phi)\n",
    "    \n",
    "    return x,y,z,vx,vy,vz\n",
    "\n",
    "def rect_to_cyl_orb(vx,vy,vz,x,y,z):\n",
    "    R,phi,z = bovy_coords.rect_to_cyl(x,y,z)\n",
    "    vR,vT,vz = bovy_coords.rect_to_cyl_vec(vx,vy,vz,R,phi,z,cyl=True)\n",
    "    \n",
    "    return R,vR,vT,z,vz,phi\n",
    "\n",
    "def impact_stream(timp,x,y,z,vx,vy,vz,sdf_pepper_imp):\n",
    "    \n",
    "    '''\n",
    "    This function takes the time of impact and the 6D coordinate of the star at that time and computes the delta v and\n",
    "    adds that to the velocity of the star and outputs the kicked 6D coordinate back in cylindrical coordinates. \n",
    "    This takes into account multiple impacts at the same time. \n",
    "    \n",
    "    timp : time of impact from _timpact \n",
    "    sdf_pepper_imp : impacted sdf object \n",
    "    \n",
    "    '''\n",
    "    timp_all = sdf_pepper_imp._timpact\n",
    "       \n",
    "    #obtain the indices of timp in the timp_all list, multiple impacts are also considered \n",
    "    nimp_indx=[i for i,mem in enumerate(timp_all) if mem == timp]\n",
    "    \n",
    "    dv=np.zeros(3)\n",
    "    for jj in nimp_indx:\n",
    "        #print (jj)\n",
    "        dv+=impulse_deltav_plummer_curvedstream(np.array([[vx,vy,vz]]),np.array([[x,y,z]]),\n",
    "                                sdf_pepper_imp._sgapdfs[jj]._impactb,\n",
    "                                sdf_pepper_imp._sgapdfs[jj]._subhalovel,\n",
    "                                sdf_pepper_imp._sgapdfs[jj]._kick_ObsTrackXY_closest[:3],\n",
    "                                sdf_pepper_imp._sgapdfs[jj]._kick_ObsTrackXY_closest[3:],\n",
    "                                sdf_pepper_imp._GM[jj],sdf_pepper_imp._rs[jj])[0]\n",
    "        \n",
    "     \n",
    "    vstr=np.array([vx,vy,vz])+dv\n",
    "    kicked_coord = [rect_to_cyl_orb(vstr[0],vstr[1],vstr[2],x,y,z)][0]\n",
    "    #print (\"kicked\",kicked_coord)\n",
    "    return kicked_coord\n",
    "    \n"
   ]
  },
  {
   "cell_type": "code",
   "execution_count": 23,
   "metadata": {},
   "outputs": [],
   "source": [
    "final_coords=[]\n",
    "\n",
    "for ii in range(len(orbs_list)):\n",
    "    tss=tstrip[ii]\n",
    "    oorb=orbs_list[ii]\n",
    "    \n",
    "    while tss != 0. :\n",
    "        #print (tss)\n",
    "        tss,Rs,vRs,vTs,zs,vzs,phis = star_propagator(tss,Orbit(oorb),sdf_pepper_imp,MW_bar_spiral_pot)\n",
    "        oorb=[Rs,vRs,vTs,zs,vzs,phis]\n",
    "        #print (tss,Rs,vRs,vTs,zs,vzs,phis)\n",
    "        \n",
    "    final_coords.append(oorb)\n",
    "    #print (\"final\",final_coords)\n",
    "    "
   ]
  },
  {
   "cell_type": "code",
   "execution_count": 24,
   "metadata": {},
   "outputs": [],
   "source": [
    "def galcencyl_to_lbd(R,phi,Z,degree=True):\n",
    "        xyz=bovy_coords.galcencyl_to_XYZ(R,phi,Z)\n",
    "        l=[]\n",
    "        b=[]\n",
    "        d=[]\n",
    "        for ii in range(len(xyz)):\n",
    "            lbd=bovy_coords.XYZ_to_lbd(xyz[ii][0],xyz[ii][1],xyz[ii][2],degree=degree)\n",
    "            l.append(lbd[0])\n",
    "            b.append(lbd[1])\n",
    "            d.append(lbd[2])\n",
    "            \n",
    "        return (l,b,d)\n",
    "\n",
    "def galcencyl_to_phi12(R,phi,Z,degree=True):\n",
    "    l,b,d=np.array(galcencyl_to_lbd(R,phi,Z))\n",
    "    phi12=lb_to_phi12(l,b,degree=True)\n",
    "    phi1=phi12[:,0]\n",
    "    phi1[phi1 > 180.]-=360.\n",
    "    phi2=phi12[:,1]\n",
    "    return (phi1,phi2)"
   ]
  },
  {
   "cell_type": "code",
   "execution_count": 37,
   "metadata": {},
   "outputs": [],
   "source": [
    "#R,vR,vT,z,vz,phi\n",
    "\n",
    "Rt=[final_coords[ii][0] for ii in range(len(final_coords))]\n",
    "phit=[final_coords[ii][5] for ii in range(len(final_coords))]\n",
    "zt=[final_coords[ii][3] for ii in range(len(final_coords))]\n",
    "\n",
    "\n",
    "#simply integrate in the bar+spiral pot\n",
    "Rt_noimpact=[]\n",
    "phit_noimpact=[]\n",
    "zt_noimpact=[]\n",
    "\n",
    "for jj in range(len(orbs_list)):\n",
    "    ts=np.linspace(-tstrip[jj],0.,1000)\n",
    "    o=Orbit(orbs_list[jj])\n",
    "    o.integrate(ts,MW_bar_spiral_pot)\n",
    "    Rt_noimpact.append(o.R(ts[-1]))\n",
    "    phit_noimpact.append(o.phi(ts[-1]))\n",
    "    zt_noimpact.append(o.z(ts[-1]))\n",
    "    \n",
    "\n",
    "p1_t,p2_t=galcencyl_to_phi12(Rt,phit,zt)\n",
    "p1_t_noimpact,p2_t_noimpact=galcencyl_to_phi12(Rt_noimpact,phit_noimpact,zt_noimpact)"
   ]
  },
  {
   "cell_type": "code",
   "execution_count": 40,
   "metadata": {},
   "outputs": [
    {
     "data": {
      "image/png": "[encoded data removed]",
      "text/plain": [
       "<Figure size 432x288 with 1 Axes>"
      ]
     },
     "metadata": {
      "needs_background": "light"
     },
     "output_type": "display_data"
    }
   ],
   "source": [
    "plt.figure()\n",
    "plt.scatter(p1_t,p2_t,label='with impact')\n",
    "plt.scatter(p1_t_noimpact,p2_t_noimpact,color='r',label='without impact')\n",
    "plt.legend(loc='lower left')\n",
    "plt.show()"
   ]
  },
  {
   "cell_type": "code",
   "execution_count": null,
   "metadata": {},
   "outputs": [],
   "source": [
    "#Load the stream objects\n",
    "\n",
    "timescdm = '3.2'\n",
    "arm = 'leading'\n",
    "sigv='0p3'\n",
    "td=3.2\n",
    "\n",
    "\n",
    "with open('pkl_files/pklfiles_{}Gyr_sigv0.3/gd1_smooth_pepper_{}_Plummer_sigv0.3_td{}_64sampling_progphi1-40.0_MW2014.pkl'.format(td,arm,td),'rb') as savefile:\n",
    "            sdf_smooth= pickle.load(savefile,encoding='latin1')\n",
    "            sdf_pepper= pickle.load(savefile,encoding='latin1')\n",
    "            \n",
    "print (sdf_pepper._timpact)"
   ]
  },
  {
   "cell_type": "code",
   "execution_count": null,
   "metadata": {},
   "outputs": [],
   "source": [
    "#Remember, the timpacts are in reverse\n",
    "#so subtract 3.2 Gyr (in galpy units), negative sign indicates in the past\n",
    "\n",
    "timp_past = -1.*sdf_pepper_imp._timpact[::-1]\n",
    "\n",
    "print (timp_past)\n",
    "\n",
    "from collections import Counter\n",
    "mult_imp = Counter(timp_past)\n",
    "\n",
    "\n",
    "print (mult_imp.get(timp_past[0]))\n",
    "\n",
    "print ([i for i,x in enumerate(timp_past) if x == timp_past[2]])\n",
    "\n",
    "print (sdf_pepper_imp._timpact[::-1])\n",
    "\n",
    "print (np.unique(sdf_pepper_imp._timpact))"
   ]
  },
  {
   "cell_type": "code",
   "execution_count": null,
   "metadata": {},
   "outputs": [],
   "source": [
    "aa=np.unique(sdf_pepper_imp._timpact)[::-1]\n",
    "print (aa)\n",
    "\n",
    "gt=aa[31]\n",
    "print (gt)\n",
    "\n",
    "print (np.where(gt>aa)[0][0])\n",
    "\n",
    "\n",
    "\n"
   ]
  },
  {
   "cell_type": "code",
   "execution_count": null,
   "metadata": {},
   "outputs": [],
   "source": [
    "for ii in range(len(tstrip)):\n",
    "    ts=tstrip[ii]\n",
    "    for jj in range(len(timp_past)):\n",
    "        if ts > timp_past[jj]:\n",
    "            print (\"integrate orbit\",ts,timp_past[jj])\n",
    "            \n",
    "        else:\n",
    "            print (\"set_impacts\",ts,timp_past[jj])"
   ]
  },
  {
   "cell_type": "code",
   "execution_count": null,
   "metadata": {},
   "outputs": [],
   "source": [
    "deltav=impulse_deltav_plummer_curvedstream(np.array([[0.1,0.2,0.1]]),np.array([[0.2,-0.1,-0.2]]),\n",
    "                            sdf_pepper_imp._sgapdfs[0]._impactb,\n",
    "                            sdf_pepper_imp._sgapdfs[0]._subhalovel,\n",
    "                            sdf_pepper_imp._sgapdfs[0]._kick_ObsTrackXY_closest[:3],\n",
    "                            sdf_pepper_imp._sgapdfs[0]._kick_ObsTrackXY_closest[3:],\n",
    "                            sdf_pepper_imp._GM[0],sdf_pepper_imp._rs[0])\n",
    "\n",
    "print (deltav)"
   ]
  },
  {
   "cell_type": "code",
   "execution_count": null,
   "metadata": {},
   "outputs": [],
   "source": [
    "aa=np.array([1,2,3,4,5,6,7,8,9])\n",
    "\n",
    "print (aa.shape)"
   ]
  },
  {
   "cell_type": "code",
   "execution_count": null,
   "metadata": {},
   "outputs": [],
   "source": []
  }
 ],
 "metadata": {
  "kernelspec": {
   "display_name": "Python 3",
   "language": "python",
   "name": "python3"
  },
  "language_info": {
   "codemirror_mode": {
    "name": "ipython",
    "version": 3
   },
   "file_extension": ".py",
   "mimetype": "text/x-python",
   "name": "python",
   "nbconvert_exporter": "python",
   "pygments_lexer": "ipython3",
   "version": "3.7.2"
  }
 },
 "nbformat": 4,
 "nbformat_minor": 2
}
