{
 "cells": [
  {
   "cell_type": "code",
   "execution_count": 7,
   "metadata": {},
   "outputs": [],
   "source": [
    "import numpy as np\n",
    "import pickle\n",
    "from astropy.io import fits\n",
    "import matplotlib\n",
    "#matplotlib.use('agg')\n",
    "import matplotlib.pyplot as plt\n",
    "from galpy.util import bovy_conversion, bovy_coords, save_pickles, bovy_plot\n",
    "from galpy.potential import MWPotential2014, turn_physical_off, vcirc\n",
    "import astropy.units as u\n",
    "from galpy.orbit import Orbit\n",
    "from scipy import integrate, interpolate\n",
    "from scipy.integrate import quad\n",
    "from optparse import OptionParser\n",
    "import GMC_GC_util\n",
    "import gd1_util\n",
    "import pal5_util_MWfit\n",
    "import MWPotential2014Likelihood\n",
    "import numpy\n",
    "import streamspraydf\n",
    "import SCFbar_util_new, spiralarms_util\n",
    "from galpy.df.streamgapdf import impulse_deltav_plummer_curvedstream\n",
    "from gd1_util_MWhaloshape import lb_to_phi12\n",
    "\n",
    "ro=8.\n",
    "vo=220."
   ]
  },
  {
   "cell_type": "code",
   "execution_count": 2,
   "metadata": {},
   "outputs": [
    {
     "name": "stdout",
     "output_type": "stream",
     "text": [
      "not growing spiral\n"
     ]
    }
   ],
   "source": [
    "#n=9, l=19\n",
    "Ac,As=SCFbar_util_new.compute_Acos_Asin()\n",
    "\n",
    "barpot,nobarpot=SCFbar_util_new.MWPotentialSCFbar_grow(mbar=10.**10.,Acos=Ac,Asin=As,pat_speed=39.,fin_phi_deg=27.,t_on=-5.,tgrow=2,tstream=3.2)\n",
    "\n",
    "spiral_pot=spiralarms_util.spiral_only_potential(tstream=3.2,axi_pot=nobarpot,N=4)\n",
    "\n",
    "MW_bar_spiral_pot=barpot+[spiral_pot]\n",
    "turn_physical_off(MW_bar_spiral_pot)"
   ]
  },
  {
   "cell_type": "code",
   "execution_count": 5,
   "metadata": {},
   "outputs": [
    {
     "name": "stdout",
     "output_type": "stream",
     "text": [
      "galpyWarning: In versions >1.3, the output unit of streamdf.misalignment has been changed to radian (from degree before)\n"
     ]
    }
   ],
   "source": [
    "#load the impacted sdf_pepper file\n",
    "\n",
    "with open('GD1_64impact_only_subhalos_trailing_Plummer_td3.2Gyr_Mmin105_MW2014.pkl','rb') as savefile:\n",
    "            sdf_pepper_imp= pickle.load(savefile,encoding='latin1')\n",
    "\n",
    "\n",
    "new_orb_lb=[188.04928416766532, 51.848594007807456, 7.559027173643999, 12.260258757214746, -5.140630283489461, 7.162732847549563]\n",
    "sdf_smooth=gd1_util.setup_gd1model(leading=False,age=3.2,new_orb_lb=new_orb_lb,isob=0.45,sigv=0.3)\n",
    "        \n"
   ]
  },
  {
   "cell_type": "code",
   "execution_count": 60,
   "metadata": {},
   "outputs": [],
   "source": [
    "def compute_obs_density(phi1,apars,dens_apar,Omega):\n",
    "    \n",
    "    apar_edge=[]\n",
    "    phi1_edge=[]\n",
    "\n",
    "    abw0=apars[1]-apars[0]\n",
    "    apar_edge.append(apars[0]-(abw0/2.))\n",
    "\n",
    "    phi1bw0=phi1[1]-phi1[0]\n",
    "    phi1_edge.append(phi1[0]-(phi1bw0/2.))\n",
    "\n",
    "    for ii in range(len(apars)-1):\n",
    "        abw=apars[ii+1]-apars[ii]\n",
    "        phi1bw=phi1[ii+1]-phi1[ii]\n",
    "        apar_edge.append(apars[ii]+abw/2.)\n",
    "        phi1_edge.append(phi1[ii]+phi1bw/2.)\n",
    "\n",
    "    abw_last=apars[len(apars)-1]-apars[len(apars)-2]\n",
    "    apar_edge.append(apars[len(apars)-1]+(abw_last/2.))\n",
    "\n",
    "    phi1bw_last=phi1[len(phi1)-1]-phi1[len(phi1)-2]\n",
    "    phi1_edge.append(phi1[len(phi1)-1]+(phi1bw_last/2.))\n",
    "\n",
    "    #compute the Jacobian d(apar)/d(phi1) using finite difference method\n",
    "    dapar_dphi1=np.fabs(numpy.diff(apar_edge)/numpy.diff(phi1_edge))\n",
    "    #print (dapar_dphi1)\n",
    "   \n",
    "    #Interpolate dens(apar)\n",
    "    ipdens_apar= interpolate.InterpolatedUnivariateSpline(apars,dens_apar)\n",
    "\n",
    "    #Interpolate apar(phi1)\n",
    "    if phi1[1] < phi1[0] : # ad-hoc way of checking whether increasing or decreasing\n",
    "        ipphi1= interpolate.InterpolatedUnivariateSpline(phi1[::-1],apars[::-1])\n",
    "        #Interpolate Jacobian\n",
    "        ipdapar_dphi1=interpolate.InterpolatedUnivariateSpline(phi1[::-1],dapar_dphi1[::-1])\n",
    "        #Interpolate density(phi1) by multiplying by jacobian\n",
    "        dens_phi1=interpolate.InterpolatedUnivariateSpline(phi1[::-1],ipdens_apar(ipphi1(phi1[::-1]))*ipdapar_dphi1(phi1[::-1]))\n",
    "        \n",
    "    else :\n",
    "        ipphi1= interpolate.InterpolatedUnivariateSpline(phi1,apars)\n",
    "        #Interpolate Jacobian\n",
    "        ipdapar_dphi1=interpolate.InterpolatedUnivariateSpline(phi1,dapar_dphi1)\n",
    "        #Interpolate density(phi1) by multiplying by jacobian\n",
    "        dens_phi1=interpolate.InterpolatedUnivariateSpline(phi1,ipdens_apar(ipphi1(phi1))*ipdapar_dphi1(phi1))\n",
    "       \n",
    "    return (dens_phi1(phi1))\n",
    "\n",
    "def compute_dens_cont(phi1,dens_phi1,outphi1,deg=3):\n",
    "    if phi1[1] < phi1[0]:\n",
    "        ip_dens_phi1=interpolate.InterpolatedUnivariateSpline(phi1[::-1],dens_phi1[::-1])\n",
    "\n",
    "    else:\n",
    "        ip_dens_phi1=interpolate.InterpolatedUnivariateSpline(phi1,dens_phi1)\n",
    "\n",
    "    #compute polynomial and density at outphi1\n",
    "    ppdens_phi1= Polynomial.fit(outphi1,ip_dens_phi1(outphi1),deg=deg)\n",
    "\n",
    "    #compute density contrast\n",
    "    dens_cont=ip_dens_phi1(outphi1)/ppdens_phi1(outphi1)\n",
    "    \n",
    "    return (outphi1,dens_cont)\n",
    "\n",
    "#plot the density in the streamdf framework\n",
    "apars=np.arange(0.01,1.,0.01)\n",
    "dens_unp= [sdf_smooth._density_par(a) for a in apars]\n",
    "omega_unp= [sdf_smooth.meanOmega(a,oned=True) for a in apars]\n",
    "densOmega= np.array([sdf_pepper_imp._densityAndOmega_par_approx(a) for a in apars]).T\n",
    "dens = densOmega[0] \n",
    "Omega = densOmega[1]\n",
    "\n",
    "mT= sdf_pepper_imp.meanTrack(apars,_mO=Omega,coord='lb')\n",
    "phi1=lb_to_phi12(mT[0],mT[1],degree=True)[:,0]\n",
    "phi1[phi1 > 180.]-=360."
   ]
  },
  {
   "cell_type": "code",
   "execution_count": 73,
   "metadata": {},
   "outputs": [
    {
     "data": {
      "image/png": "[encoded data removed]",
      "text/plain": [
       "<Figure size 432x288 with 1 Axes>"
      ]
     },
     "metadata": {
      "needs_background": "light"
     },
     "output_type": "display_data"
    }
   ],
   "source": [
    "dens_phi1 = compute_obs_density(phi1,apars,dens,Omega)\n",
    "\n",
    "outp1=np.arange(-34.,-3.,1)\n",
    "\n",
    "outphi1,dens_cont = compute_dens_cont(phi1,dens_phi1,outp1,deg=3)\n",
    "\n",
    "plt.figure()\n",
    "plt.plot(outphi1,dens_cont)\n",
    "plt.ylabel(\"normalized density\")\n",
    "plt.xlabel(r'$\\phi_{1}$')\n",
    "plt.show()"
   ]
  },
  {
   "cell_type": "code",
   "execution_count": 75,
   "metadata": {},
   "outputs": [
    {
     "name": "stdout",
     "output_type": "stream",
     "text": [
      "[88.00113206430903, 87.6697360887656, 86.45486729287512, 86.30916357217163, 83.94832724325488, 83.84993567630359, 82.62854389290058, 82.39641560501386, 82.25069124696607, 81.85512855775353, 77.76541479338911, 76.83936461629375, 76.83476795023128, 76.61809745082007, 76.49247986125106, 75.94864372544755, 73.32392969417509, 72.54496593684812, 71.75453137945073, 70.88651170104144, 69.26305588967196, 67.9425857804136, 66.62733198957933, 66.47609626977494, 66.06584673887372, 65.11710045501263, 65.10589873970088, 64.3061881130483, 63.47171276126299, 63.33755707329346, 63.09887051580603, 63.00828245991502, 61.65347856341065, 61.00317117989003, 59.70743644207465, 59.48116718726645, 57.954967353667406, 57.65702430142795, 56.730821693363694, 56.12586079859784, 54.44662678488192, 53.81148857586253, 51.47986355295817, 50.56786798416022, 50.11352585695198, 49.78122297125502, 47.33037481236524, 46.65582592948406, 46.5707134379539, 46.44103386262093, 46.3564414532237, 45.67548063673056, 45.588773822147516, 45.48117319947648, 44.696630053061504, 44.49022019925461, 44.41510735449505, 44.093509254852655, 43.894478800602, 42.74621889316282, 39.60522341053565, 38.53177419745452, 38.494072674000755, 38.029287541688134, 37.50785036044412, 37.11821323920088, 33.93645372100922, 33.602069168622805, 32.46457844985753, 32.2250110193454, 32.13424004958244, 32.024045851321674, 31.183987203934077, 30.589709087651748, 25.804419851515785, 24.098571179999155, 24.006313009579657, 22.668227569114837, 21.87638211889974, 19.827103124124037, 19.645421629430576, 19.619004550599698, 17.998176349803536, 14.165454292209727, 13.021951677880592, 10.580444869109671, 10.554188154827116, 10.23232270718734, 9.71654011540047, 9.26898582061408, 8.592087846296355, 8.217516613245127, 6.8909936347242375, 6.786003593734434, 5.312496543682063, 4.142229381838555, 3.4310429570418646, 3.017650067255999, 2.3978449573174716, 0.46728311217782625]\n"
     ]
    }
   ],
   "source": [
    "o=Orbit(new_orb_lb,lb=True,solarmotion=[-11.1,24.,7.25],ro=8.,vo=220.)\n",
    "#convert to galpy units\n",
    "orb=Orbit(o._orb.vxvv)\n",
    "\n",
    "\n",
    "Nsamples=100\n",
    "spdft= streamspraydf.streamspraydf(10000*u.Msun,progenitor=orb,pot=MWPotential2014,leading=False,tdisrupt=3.2*u.Gyr)\n",
    "RvR,dt= spdft.sample(n=Nsamples,returndt=True,integrate=False)\n",
    "R=RvR[0]\n",
    "vR=RvR[1]\n",
    "vT=RvR[2]\n",
    "z=RvR[3]\n",
    "vz=RvR[4]\n",
    "phi=RvR[5]\n",
    "\n",
    "sorted_indx=np.argsort(dt)[::-1] #arrange in descending order to start with the star that was stripped first\n",
    "#print (sorted_indx)\n",
    "\n",
    "orbs_list=[[R[i],vR[i],vT[i],z[i],vz[i],phi[i]] for i in sorted_indx]\n",
    "tstrip=[dt[i] for i in sorted_indx]\n",
    "#print (orbs_list)\n",
    "print (tstrip)\n"
   ]
  },
  {
   "cell_type": "code",
   "execution_count": 22,
   "metadata": {},
   "outputs": [],
   "source": [
    "def star_propagator(tstar,orb,sdf_pepper_imp,pot):\n",
    "    '''\n",
    "    tstar : time from when to integrate the star's orbit\n",
    "    orb : orbit of the star at tstar, must be an Orbit instance\n",
    "    sdf_pepper_imp :sdf_pepper object\n",
    "    pot : potential\n",
    "    \n",
    "    output:\n",
    "    time of the next impact or 0 (for today), R,vR,vT,z,vz,phi \n",
    "    '''\n",
    "    \n",
    "    #timpacts starting from the 1 st impact time in the past, remove multiple impact times (repeated timpacts)\n",
    "    unique_timp_rev = np.unique(sdf_pepper_imp._timpact)[::-1]\n",
    "    #print (unique_timp_rev)\n",
    "         \n",
    "    if tstar <= unique_timp_rev[-1] : #if the star stripped after the last impact, simply integrate until today\n",
    "        #print (\"Integrating till today \")\n",
    "        ts=np.linspace(-1*tstar,0,1000)\n",
    "        orb.integrate(ts,pot)\n",
    "        return (ts[-1],orb.R(ts[-1]),orb.vR(ts[-1]),orb.vT(ts[-1]),orb.z(ts[-1]),orb.vz(ts[-1]),orb.phi(ts[-1]))\n",
    "    \n",
    "    else:\n",
    "        #determine the first timpact for this star\n",
    "        next_timp_indx = np.where(tstar > unique_timp_rev)[0][0] #this gives the actual index (starting at 1), but in python it's\n",
    "        #print (\"next_t ind\",next_timp_indx)\n",
    "        # the following index, which is what we need. \n",
    "        timp_next= unique_timp_rev[next_timp_indx]\n",
    "        #print (tstar,timp_next)\n",
    "        ts=np.linspace(-1.*tstar,-1.*timp_next,1000)\n",
    "        orb.integrate(ts,pot)\n",
    "        x=orb.x(ts[-1])\n",
    "        y=orb.y(ts[-1])\n",
    "        z=orb.z(ts[-1])\n",
    "        vx=orb.vx(ts[-1])\n",
    "        vy=orb.vy(ts[-1])\n",
    "        vz=orb.vz(ts[-1])\n",
    "        #print (\"xyz\",x,y,z,vx,vy,vz)\n",
    "        #R,vR,vT,z,vz,phi=rect_to_cyl_orb(x,y,z,vx,vy,vz)\n",
    "        R,vR,vT,z,vz,phi=impact_stream(timp_next,x,y,z,vx,vy,vz,sdf_pepper_imp)\n",
    "        return (timp_next,R,vR,vT,z,vz,phi)\n",
    "               \n",
    "\n",
    "def cyl_to_rect_orb(R,vR,vT,z,vz,phi):\n",
    "    x,y,z = bovy_coords.cyl_to_rect(R,phi,z)\n",
    "    vx,vy,vz = bovy_coords.cyl_to_rect_vec(vR,vT,vz,phi)\n",
    "    \n",
    "    return x,y,z,vx,vy,vz\n",
    "\n",
    "def rect_to_cyl_orb(vx,vy,vz,x,y,z):\n",
    "    R,phi,z = bovy_coords.rect_to_cyl(x,y,z)\n",
    "    vR,vT,vz = bovy_coords.rect_to_cyl_vec(vx,vy,vz,R,phi,z,cyl=True)\n",
    "    \n",
    "    return R,vR,vT,z,vz,phi\n",
    "\n",
    "def impact_stream(timp,x,y,z,vx,vy,vz,sdf_pepper_imp):\n",
    "    \n",
    "    '''\n",
    "    This function takes the time of impact and the 6D coordinate of the star at that time and computes the delta v and\n",
    "    adds that to the velocity of the star and outputs the kicked 6D coordinate back in cylindrical coordinates. \n",
    "    This takes into account multiple impacts at the same time. \n",
    "    \n",
    "    timp : time of impact from _timpact \n",
    "    sdf_pepper_imp : impacted sdf object \n",
    "    \n",
    "    '''\n",
    "    timp_all = sdf_pepper_imp._timpact\n",
    "       \n",
    "    #obtain the indices of timp in the timp_all list, multiple impacts are also considered \n",
    "    nimp_indx=[i for i,mem in enumerate(timp_all) if mem == timp]\n",
    "    \n",
    "    dv=np.zeros(3)\n",
    "    for jj in nimp_indx:\n",
    "        #print (jj)\n",
    "        dv+=impulse_deltav_plummer_curvedstream(np.array([[vx,vy,vz]]),np.array([[x,y,z]]),\n",
    "                                sdf_pepper_imp._sgapdfs[jj]._impactb,\n",
    "                                sdf_pepper_imp._sgapdfs[jj]._subhalovel,\n",
    "                                sdf_pepper_imp._sgapdfs[jj]._kick_ObsTrackXY_closest[:3],\n",
    "                                sdf_pepper_imp._sgapdfs[jj]._kick_ObsTrackXY_closest[3:],\n",
    "                                sdf_pepper_imp._GM[jj],sdf_pepper_imp._rs[jj])[0]\n",
    "        \n",
    "     \n",
    "    vstr=np.array([vx,vy,vz])+dv\n",
    "    kicked_coord = [rect_to_cyl_orb(vstr[0],vstr[1],vstr[2],x,y,z)][0]\n",
    "    #print (\"kicked\",kicked_coord)\n",
    "    return kicked_coord\n",
    "    \n"
   ]
  },
  {
   "cell_type": "code",
   "execution_count": 76,
   "metadata": {},
   "outputs": [],
   "source": [
    "final_coords=[]\n",
    "\n",
    "for ii in range(len(orbs_list)):\n",
    "    tss=tstrip[ii]\n",
    "    oorb=orbs_list[ii]\n",
    "    \n",
    "    while tss != 0. :\n",
    "        #print (tss)\n",
    "        tss,Rs,vRs,vTs,zs,vzs,phis = star_propagator(tss,Orbit(oorb),sdf_pepper_imp,MWPotential2014)\n",
    "        oorb=[Rs,vRs,vTs,zs,vzs,phis]\n",
    "        #print (tss,Rs,vRs,vTs,zs,vzs,phis)\n",
    "        \n",
    "    final_coords.append(oorb)\n",
    "    #print (\"final\",final_coords)\n",
    "    "
   ]
  },
  {
   "cell_type": "code",
   "execution_count": 24,
   "metadata": {},
   "outputs": [],
   "source": [
    "def galcencyl_to_lbd(R,phi,Z,degree=True):\n",
    "        xyz=bovy_coords.galcencyl_to_XYZ(R,phi,Z)\n",
    "        l=[]\n",
    "        b=[]\n",
    "        d=[]\n",
    "        for ii in range(len(xyz)):\n",
    "            lbd=bovy_coords.XYZ_to_lbd(xyz[ii][0],xyz[ii][1],xyz[ii][2],degree=degree)\n",
    "            l.append(lbd[0])\n",
    "            b.append(lbd[1])\n",
    "            d.append(lbd[2])\n",
    "            \n",
    "        return (l,b,d)\n",
    "\n",
    "def galcencyl_to_phi12(R,phi,Z,degree=True):\n",
    "    l,b,d=np.array(galcencyl_to_lbd(R,phi,Z))\n",
    "    phi12=lb_to_phi12(l,b,degree=True)\n",
    "    phi1=phi12[:,0]\n",
    "    phi1[phi1 > 180.]-=360.\n",
    "    phi2=phi12[:,1]\n",
    "    return (phi1,phi2)"
   ]
  },
  {
   "cell_type": "code",
   "execution_count": 77,
   "metadata": {},
   "outputs": [],
   "source": [
    "#R,vR,vT,z,vz,phi\n",
    "\n",
    "Rt=[final_coords[ii][0] for ii in range(len(final_coords))]\n",
    "phit=[final_coords[ii][5] for ii in range(len(final_coords))]\n",
    "zt=[final_coords[ii][3] for ii in range(len(final_coords))]\n",
    "\n",
    "\n",
    "#simply integrate in the bar+spiral pot\n",
    "Rt_noimpact=[]\n",
    "phit_noimpact=[]\n",
    "zt_noimpact=[]\n",
    "\n",
    "for jj in range(len(orbs_list)):\n",
    "    ts=np.linspace(-tstrip[jj],0.,1000)\n",
    "    o=Orbit(orbs_list[jj])\n",
    "    o.integrate(ts,MWPotential2014)\n",
    "    Rt_noimpact.append(o.R(ts[-1]))\n",
    "    phit_noimpact.append(o.phi(ts[-1]))\n",
    "    zt_noimpact.append(o.z(ts[-1]))\n",
    "    \n",
    "\n",
    "p1_t,p2_t=galcencyl_to_phi12(Rt,phit,zt)\n",
    "p1_t_noimpact,p2_t_noimpact=galcencyl_to_phi12(Rt_noimpact,phit_noimpact,zt_noimpact)"
   ]
  },
  {
   "cell_type": "code",
   "execution_count": 78,
   "metadata": {},
   "outputs": [
    {
     "data": {
      "image/png": "[encoded data removed]",
      "text/plain": [
       "<Figure size 432x288 with 1 Axes>"
      ]
     },
     "metadata": {
      "needs_background": "light"
     },
     "output_type": "display_data"
    }
   ],
   "source": [
    "plt.figure()\n",
    "plt.scatter(p1_t,p2_t,label='with impact')\n",
    "plt.scatter(p1_t_noimpact,p2_t_noimpact,color='r',label='without impact')\n",
    "plt.legend(loc='lower left')\n",
    "plt.show()"
   ]
  },
  {
   "cell_type": "code",
   "execution_count": 79,
   "metadata": {},
   "outputs": [
    {
     "data": {
      "image/png": "[encoded data removed]",
      "text/plain": [
       "<Figure size 432x288 with 1 Axes>"
      ]
     },
     "metadata": {
      "needs_background": "light"
     },
     "output_type": "display_data"
    }
   ],
   "source": [
    "#R   phi   z   vR    vT    vz\n",
    "Rdat=[]\n",
    "phidat=[]\n",
    "zdat=[]\n",
    "\n",
    "for ii in range(400):\n",
    "    R,phi,z,_,_,_=np.loadtxt(\"sample_spraydf_subhalos/MWPotential2014/sample_spraydf_subhalos_N100_MWPotential2014_GD1stream_trailing_batch{}.dat\".format(ii),unpack=True)\n",
    "    for jj in range(len(R)):\n",
    "        Rdat.append(R[jj])\n",
    "        phidat.append(phi[jj])\n",
    "        zdat.append(z[jj])\n",
    "    \n",
    "    \n",
    "p1_dat,p2_dat=galcencyl_to_phi12(Rdat,phidat,zdat)\n",
    "\n",
    "plt.figure()\n",
    "plt.scatter(p1_dat,p2_dat)\n",
    "plt.show()"
   ]
  },
  {
   "cell_type": "code",
   "execution_count": 68,
   "metadata": {},
   "outputs": [],
   "source": [
    "from numpy.polynomial import Polynomial\n",
    "def compute_ndenphi1(phi1,maxphi1=-42,minphi1=-60.,bw=2.,polydeg=3):\n",
    "    N=len(phi1)\n",
    "    print (N)\n",
    "    \n",
    "    nbins= (maxphi1 - minphi1)/bw\n",
    "    print (\"no of xi bins = %i\"%nbins)\n",
    "\n",
    "    phi1bin_edge=[(minphi1-0.5*bw) + i*bw for i in range(int(nbins)+2)]\n",
    "    #print (xibin_edge)\n",
    "    midphi1=[0.5*(phi1bin_edge[i] + phi1bin_edge[i+1]) for i in range(int(nbins)+1)]\n",
    "    \n",
    "    Ndn=np.histogram(phi1,phi1bin_edge)[0]\n",
    "    print (np.sum(Ndn))\n",
    "    Ndn_err=numpy.sqrt(Ndn)\n",
    "       \n",
    "    pp= Polynomial.fit(midphi1,Ndn,deg=polydeg,w=1/(Ndn_err))\n",
    "    nden=Ndn/pp(np.array(midphi1))\n",
    "    nden_err=np.sqrt(Ndn)/pp(np.array(midphi1))\n",
    "    return (midphi1,Ndn,Ndn_err,nden,nden_err,pp(np.array(midphi1)))"
   ]
  },
  {
   "cell_type": "code",
   "execution_count": 80,
   "metadata": {},
   "outputs": [
    {
     "name": "stdout",
     "output_type": "stream",
     "text": [
      "40000\n",
      "no of xi bins = 30\n",
      "23245\n"
     ]
    },
    {
     "data": {
      "image/png": "[encoded data removed]",
      "text/plain": [
       "<Figure size 432x288 with 1 Axes>"
      ]
     },
     "metadata": {
      "needs_background": "light"
     },
     "output_type": "display_data"
    }
   ],
   "source": [
    "midphi1,Ndn,Ndn_err,nden,nden_err,pp = compute_ndenphi1(p1_dat,maxphi1=-4.,minphi1=-34.,bw=1)\n",
    "plt.figure()\n",
    "#plt.plot(midphi1,Ndn)\n",
    "plt.plot(midphi1,nden) \n",
    "plt.errorbar(midphi1,nden,nden_err)\n",
    "plt.plot(outphi1,dens_cont)\n",
    "plt.ylabel('normalized density')\n",
    "plt.xlabel(r'$\\phi_{1}$ (deg)')\n",
    "plt.show()"
   ]
  },
  {
   "cell_type": "code",
   "execution_count": null,
   "metadata": {},
   "outputs": [],
   "source": [
    "#Load the stream objects\n",
    "\n",
    "timescdm = '3.2'\n",
    "arm = 'leading'\n",
    "sigv='0p3'\n",
    "td=3.2\n",
    "\n",
    "\n",
    "with open('pkl_files/pklfiles_{}Gyr_sigv0.3/gd1_smooth_pepper_{}_Plummer_sigv0.3_td{}_64sampling_progphi1-40.0_MW2014.pkl'.format(td,arm,td),'rb') as savefile:\n",
    "            sdf_smooth= pickle.load(savefile,encoding='latin1')\n",
    "            sdf_pepper= pickle.load(savefile,encoding='latin1')\n",
    "            \n",
    "print (sdf_pepper._timpact)"
   ]
  },
  {
   "cell_type": "code",
   "execution_count": null,
   "metadata": {},
   "outputs": [],
   "source": [
    "#Remember, the timpacts are in reverse\n",
    "#so subtract 3.2 Gyr (in galpy units), negative sign indicates in the past\n",
    "\n",
    "timp_past = -1.*sdf_pepper_imp._timpact[::-1]\n",
    "\n",
    "print (timp_past)\n",
    "\n",
    "from collections import Counter\n",
    "mult_imp = Counter(timp_past)\n",
    "\n",
    "\n",
    "print (mult_imp.get(timp_past[0]))\n",
    "\n",
    "print ([i for i,x in enumerate(timp_past) if x == timp_past[2]])\n",
    "\n",
    "print (sdf_pepper_imp._timpact[::-1])\n",
    "\n",
    "print (np.unique(sdf_pepper_imp._timpact))"
   ]
  },
  {
   "cell_type": "code",
   "execution_count": null,
   "metadata": {},
   "outputs": [],
   "source": [
    "aa=np.unique(sdf_pepper_imp._timpact)[::-1]\n",
    "print (aa)\n",
    "\n",
    "gt=aa[31]\n",
    "print (gt)\n",
    "\n",
    "print (np.where(gt>aa)[0][0])\n",
    "\n",
    "\n",
    "\n"
   ]
  },
  {
   "cell_type": "code",
   "execution_count": null,
   "metadata": {},
   "outputs": [],
   "source": [
    "for ii in range(len(tstrip)):\n",
    "    ts=tstrip[ii]\n",
    "    for jj in range(len(timp_past)):\n",
    "        if ts > timp_past[jj]:\n",
    "            print (\"integrate orbit\",ts,timp_past[jj])\n",
    "            \n",
    "        else:\n",
    "            print (\"set_impacts\",ts,timp_past[jj])"
   ]
  },
  {
   "cell_type": "code",
   "execution_count": null,
   "metadata": {},
   "outputs": [],
   "source": [
    "deltav=impulse_deltav_plummer_curvedstream(np.array([[0.1,0.2,0.1]]),np.array([[0.2,-0.1,-0.2]]),\n",
    "                            sdf_pepper_imp._sgapdfs[0]._impactb,\n",
    "                            sdf_pepper_imp._sgapdfs[0]._subhalovel,\n",
    "                            sdf_pepper_imp._sgapdfs[0]._kick_ObsTrackXY_closest[:3],\n",
    "                            sdf_pepper_imp._sgapdfs[0]._kick_ObsTrackXY_closest[3:],\n",
    "                            sdf_pepper_imp._GM[0],sdf_pepper_imp._rs[0])\n",
    "\n",
    "print (deltav)"
   ]
  },
  {
   "cell_type": "code",
   "execution_count": null,
   "metadata": {},
   "outputs": [],
   "source": [
    "aa=np.array([1,2,3,4,5,6,7,8,9])\n",
    "\n",
    "print (aa.shape)"
   ]
  },
  {
   "cell_type": "code",
   "execution_count": null,
   "metadata": {},
   "outputs": [],
   "source": []
  }
 ],
 "metadata": {
  "kernelspec": {
   "display_name": "Python 3",
   "language": "python",
   "name": "python3"
  },
  "language_info": {
   "codemirror_mode": {
    "name": "ipython",
    "version": 3
   },
   "file_extension": ".py",
   "mimetype": "text/x-python",
   "name": "python",
   "nbconvert_exporter": "python",
   "pygments_lexer": "ipython3",
   "version": "3.7.2"
  }
 },
 "nbformat": 4,
 "nbformat_minor": 2
}
