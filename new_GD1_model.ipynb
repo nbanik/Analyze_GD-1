{
 "cells": [
  {
   "cell_type": "code",
   "execution_count": 1,
   "metadata": {},
   "outputs": [
    {
     "name": "stdout",
     "output_type": "stream",
     "text": [
      "Populating the interactive namespace from numpy and matplotlib\n"
     ]
    }
   ],
   "source": [
    "import matplotlib.pyplot as plt\n",
    "import os, os.path\n",
    "import glob\n",
    "import pickle\n",
    "import numpy as np\n",
    "from numpy.polynomial import Polynomial\n",
    "from scipy import ndimage, signal, interpolate,integrate\n",
    "#import matplotlib\n",
    "#matplotlib.use('PDF')\n",
    "from galpy.orbit import Orbit\n",
    "from galpy.potential import MWPotential2014\n",
    "from galpy.util import bovy_conversion, save_pickles, bovy_coords, bovy_plot\n",
    "#import pal5_util_old as pal5_util\n",
    "import gd1_util\n",
    "#import custom_stripping_df\n",
    "import seaborn as sns\n",
    "import astropy.units as u\n",
    "from galpy import potential\n",
    "%pylab inline\n",
    "from matplotlib import cm, pyplot\n",
    "from gd1_util_MWhaloshape import lb_to_phi12\n",
    "from galpy.actionAngle import estimateBIsochrone, actionAngleIsochroneApprox\n",
    "from gd1_util_MWhaloshape import phi12_to_lb\n",
    "from scipy.interpolate import UnivariateSpline\n",
    "from galpy.actionAngle.actionAngleIsochroneApprox import dePeriod\n",
    "\n"
   ]
  },
  {
   "cell_type": "code",
   "execution_count": 2,
   "metadata": {},
   "outputs": [
    {
     "name": "stdout",
     "output_type": "stream",
     "text": [
      "-92.10954738227082 -3.527698085246242\n"
     ]
    }
   ],
   "source": [
    "#Jeremy and Jo's model, end of the leading arm\n",
    "#NOTE: phi1 for this point gives -92 deg, this is a point along the orbit and not a point on the stream\n",
    "ra=122.968652691887\n",
    "dec=-9.969068202814725\n",
    "d = 9.468134830338986\n",
    "pmra= -1.0277792637560275\n",
    "pmdec= -7.485334923475567\n",
    "vlos = 303.54730262016966\n",
    "\n",
    "lb=bovy_coords.radec_to_lb(np.radians(ra),np.radians(dec))\n",
    "phi12=lb_to_phi12(lb[0],lb[1])\n",
    "\n",
    "print (np.degrees(phi12[0])-360.,np.degrees(phi12[1]))\n",
    "\n",
    "end_coord=[ra,dec,d,pmra,pmdec,vlos]"
   ]
  },
  {
   "cell_type": "markdown",
   "metadata": {},
   "source": [
    "### determine the time at which the progenitor was at phi1 = -40 deg to get the phase space of the progenitor"
   ]
  },
  {
   "cell_type": "code",
   "execution_count": 3,
   "metadata": {},
   "outputs": [
    {
     "name": "stdout",
     "output_type": "stream",
     "text": [
      "-0.03153684210526316\n"
     ]
    }
   ],
   "source": [
    "tend=np.linspace(-0.031,-0.0316,20)  # these times were obtained by trial and error\n",
    "diff=np.empty(len(tend))\n",
    "for ii in range(len(tend)):\n",
    "    obs= Orbit(end_coord,radec=True,ro=8.,vo=220.,solarmotion=[-11.1,24.,7.25])\n",
    "    ts=np.linspace(0.,tend[ii],500)/bovy_conversion.time_in_Gyr(220.,8.)\n",
    "    obs.integrate(ts,MWPotential2014)\n",
    "\n",
    "    ra1=obs.ra(ts[-1])\n",
    "    dec1=obs.dec(ts[-1])\n",
    "\n",
    "    lb=bovy_coords.radec_to_lb(np.radians(ra1),np.radians(dec1))\n",
    "    phi1=np.degrees(lb_to_phi12(lb[0],lb[1])[0])\n",
    "    if phi1 > 180. : \n",
    "        phi1-=360.\n",
    "    diff[ii]=np.abs(phi1-(-40.))\n",
    "    \n",
    "tpro=tend[argmin(diff)]\n",
    "    \n",
    "print (tpro)"
   ]
  },
  {
   "cell_type": "markdown",
   "metadata": {},
   "source": [
    "### Integrate end coord to the progenitor's location"
   ]
  },
  {
   "cell_type": "code",
   "execution_count": 4,
   "metadata": {},
   "outputs": [
    {
     "name": "stdout",
     "output_type": "stream",
     "text": [
      "[188.04928416766532, 51.848594007807456, 7.559027173643999, 12.260258757214746, -5.140630283489461, 7.162732847549563]\n"
     ]
    }
   ],
   "source": [
    "obs= Orbit(end_coord,radec=True,ro=8.,vo=220.,solarmotion=[-11.1,24.,7.25])\n",
    "ts=np.linspace(0.,tpro,1000)/bovy_conversion.time_in_Gyr(220.,8.)\n",
    "obs.integrate(ts,MWPotential2014)\n",
    "\n",
    "ll=obs.ll(ts[-1])\n",
    "bb=obs.bb(ts[-1])\n",
    "dist=obs.dist(ts[-1])\n",
    "pmll=obs.pmll(ts[-1])\n",
    "pmbb=obs.pmbb(ts[-1])\n",
    "vlos=obs.vlos(ts[-1])\n",
    "\n",
    "gd1_prog_lb=[ll,bb,dist,pmll,pmbb,vlos]\n",
    "print (gd1_prog_lb)"
   ]
  },
  {
   "cell_type": "code",
   "execution_count": null,
   "metadata": {},
   "outputs": [],
   "source": [
    "print (obs.pmdec(ts[-1]))"
   ]
  },
  {
   "cell_type": "markdown",
   "metadata": {},
   "source": [
    "### Find isochrone parameter"
   ]
  },
  {
   "cell_type": "code",
   "execution_count": null,
   "metadata": {},
   "outputs": [],
   "source": [
    "prog_orb=Orbit(gd1_prog_lb,lb=True,ro=8.,vo=220.,solarmotion=[-11.1,24.,7.25])\n",
    "orb_galpy=prog_orb._orb.vxvv\n",
    "\n",
    "ts1=np.linspace(0.,-3.4,1000)/bovy_conversion.time_in_Gyr(220.,8.)\n",
    "prog_orb.integrate(ts1,MWPotential2014)\n",
    "\n",
    "print (estimateBIsochrone(MWPotential2014,prog_orb.R(ts1)/8.,prog_orb.z(ts1))/8.)"
   ]
  },
  {
   "cell_type": "code",
   "execution_count": null,
   "metadata": {},
   "outputs": [],
   "source": [
    "#Try different b following the above estimate and visually select based on linearity and quickness of convergence \n",
    "\n",
    "aAIA= actionAngleIsochroneApprox(pot=MWPotential2014,b=0.45)\n",
    "aAIA(*orb_galpy)\n",
    "\n",
    "aAIA.plot(*orb_galpy,type='araz')\n",
    "\n",
    "aAIA.plot(*orb_galpy,type='jr')\n",
    "\n",
    "aAIA.plot(*orb_galpy,type='araz',deperiod=True)"
   ]
  },
  {
   "cell_type": "markdown",
   "metadata": {},
   "source": [
    "### Make smooth stream\n",
    "#### We set the stream age = 3.4 Gyr following Jeremy & Jo's paper because that's based on a more accurate stripping rate.\n",
    "#### We will adjust the length of the mock stream based on the observed stream length by modifying the length factor. "
   ]
  },
  {
   "cell_type": "code",
   "execution_count": 31,
   "metadata": {},
   "outputs": [
    {
     "name": "stdout",
     "output_type": "stream",
     "text": [
      "galpyWarning: In versions >1.3, the output unit of streamdf.misalignment has been changed to radian (from degree before)\n"
     ]
    }
   ],
   "source": [
    "import gd1_util\n",
    "\n",
    "#from above b=0.45 looks good\n",
    "Tstream=4.2 #in Gyr\n",
    "b=0.45\n",
    "_sigv=0.3\n",
    "\n",
    "\n",
    "sdf_leading=gd1_util.setup_gd1model(age=Tstream,new_orb_lb=gd1_prog_lb,isob=b,sigv=_sigv)\n",
    "sdf_trailing=gd1_util.setup_gd1model(leading=False,age=Tstream,new_orb_lb=gd1_prog_lb,isob=b,sigv=_sigv)"
   ]
  },
  {
   "cell_type": "code",
   "execution_count": 32,
   "metadata": {},
   "outputs": [
    {
     "name": "stdout",
     "output_type": "stream",
     "text": [
      "-89.83304838881617 9.974822792561923\n"
     ]
    },
    {
     "data": {
      "image/png": "[encoded data removed]",
      "text/plain": [
       "<Figure size 1080x216 with 1 Axes>"
      ]
     },
     "metadata": {},
     "output_type": "display_data"
    },
    {
     "name": "stdout",
     "output_type": "stream",
     "text": [
      "230.90520136585687 98.14391430023633\n"
     ]
    }
   ],
   "source": [
    "#plot the Price-Whelan and Bonaca's GD-1 stream selection in l-b coordinates\n",
    "\n",
    "GD1_obs=np.loadtxt('APW_AB_GD1_phi12.dat')\n",
    "gd1_lb=phi12_to_lb(GD1_obs[:,0],GD1_obs[:,1],degree=True)\n",
    "\n",
    "print (min(GD1_obs[:,0]),max(GD1_obs[:,0]))\n",
    "\n",
    "#sample points from the stream\n",
    "lb_sample_trailing= sdf_trailing.sample(n=5000,lb=True)\n",
    "lb_sample_leading= sdf_leading.sample(n=5000,lb=True)\n",
    "\n",
    "#use Tom's track, but limit to phi1 < 20 deg\n",
    "tom_dat=np.genfromtxt('fromDenis/GD1_stream_track_density_uncorr.dat',names=True)\n",
    "tom_p1=tom_dat['phi1mid'][tom_dat['phi1mid'] < 20.]\n",
    "tom_p2=tom_dat['phi2'][tom_dat['phi1mid'] < 20.]\n",
    "tom_gd1_lb=phi12_to_lb(tom_p1,tom_p2,degree=True)\n",
    "\n",
    "plt.figure(figsize=(15,3))\n",
    "\n",
    "plt.scatter(lb_sample_trailing[0],lb_sample_trailing[1],s=2,c='b',label='mock')\n",
    "plt.scatter(lb_sample_leading[0],lb_sample_leading[1],s=2,c='b')\n",
    "#plt.scatter(gd1_lb[:,0],gd1_lb[:,1],label='APW-AB selection')\n",
    "plt.scatter(gd1_prog_lb[0],gd1_prog_lb[1],c='r',label=r'prog $\\phi_{1} = -40^{\\circ}$')\n",
    "plt.plot(tom_gd1_lb[:,0],tom_gd1_lb[:,1],c='g',lw=2,label='Tom\\'s selection' )\n",
    "plt.xlabel(r'$\\ell$ (deg)')\n",
    "plt.ylabel(r'$b$ (deg)')\n",
    "#plt.ylim(13,65)\n",
    "plt.legend(loc='upper right')\n",
    "plt.show()\n",
    "\n",
    "print (max(gd1_lb[:,0]),min(gd1_lb[:,0]))\n",
    "\n",
    "\n"
   ]
  },
  {
   "cell_type": "code",
   "execution_count": null,
   "metadata": {},
   "outputs": [],
   "source": [
    "#plot angle vs longitude\n",
    "\n",
    "plt.figure()\n",
    "plt.plot(sdf_leading._interpolatedObsTrackLB[:,0],sdf_leading._interpolatedThetasTrack,label='leading')\n",
    "\n",
    "plt.plot(sdf_trailing._interpolatedObsTrackLB[:,0],sdf_trailing._interpolatedThetasTrack,label='trailing')\n",
    "plt.legend(loc='upper center')\n",
    "plt.show()\n",
    "\n"
   ]
  },
  {
   "cell_type": "code",
   "execution_count": 26,
   "metadata": {},
   "outputs": [],
   "source": [
    "# function that takes in l and outputs the corresponding parallel angle\n",
    "\n",
    "def l_to_angle(sdf,l):\n",
    "    \n",
    "    if sdf._interpolatedObsTrackLB[:,0][1] > sdf._interpolatedObsTrackLB[:,0][0] : #ad-hoc way to check whether increasing\n",
    "        interp=interpolate.interp1d(sdf._interpolatedObsTrackLB[:,0],sdf._interpolatedThetasTrack,kind='cubic')\n",
    "        \n",
    "    else :\n",
    "        interp=interpolate.interp1d(sdf._interpolatedObsTrackLB[:,0][::-1],sdf._interpolatedThetasTrack[::-1],kind='cubic')\n",
    "        \n",
    "    return (interp(l))\n"
   ]
  },
  {
   "cell_type": "code",
   "execution_count": 27,
   "metadata": {},
   "outputs": [],
   "source": [
    "def compute_angular_length(sdf,ll):\n",
    "    \n",
    "    #for a given stream arm, computes the length along the stream track \n",
    "    # takes in the longitude of the far end and convert to angle\n",
    "    aa=l_to_angle(sdf,ll)\n",
    "    \n",
    "    #copied from Jo's code\n",
    "    # Need to now integrate length\n",
    "    if numpy.median(numpy.roll(sdf._interpolatedObsTrackLB[:,0],-1)\n",
    "                    -sdf._interpolatedObsTrackLB[:,0]) > 0.:\n",
    "        ll= dePeriod(sdf._interpolatedObsTrackLB[:,0][:,numpy.newaxis].T*numpy.pi/180.).T*180./numpy.pi\n",
    "    else:\n",
    "        ll= dePeriod(sdf._interpolatedObsTrackLB[::-1,0][:,numpy.newaxis].T*numpy.pi/180.).T[::-1]*180./numpy.pi\n",
    "    if numpy.median(numpy.roll(sdf._interpolatedObsTrackLB[:,1],-1)\n",
    "                    -sdf._interpolatedObsTrackLB[:,1]) > 0.:\n",
    "        bb= dePeriod(sdf._interpolatedObsTrackLB[:,1][:,numpy.newaxis].T*numpy.pi/180.).T*180./numpy.pi\n",
    "    else:\n",
    "        bb= dePeriod(sdf._interpolatedObsTrackLB[::-1,1][:,numpy.newaxis].T*numpy.pi/180.).T[::-1]*180./numpy.pi\n",
    "    dlda= interpolate.InterpolatedUnivariateSpline(\\\n",
    "        sdf._interpolatedThetasTrack,ll,k=3).derivative()\n",
    "    dbda= interpolate.InterpolatedUnivariateSpline(\\\n",
    "        sdf._interpolatedThetasTrack,bb,k=3).derivative()\n",
    "    result= integrate.quad(lambda da: numpy.sqrt(dlda(da)**2.\\\n",
    "                                                     +dbda(da)**2.),\n",
    "                           0.,aa)[0]\n",
    "    \n",
    "    return result\n",
    "\n",
    "\n",
    "    "
   ]
  },
  {
   "cell_type": "markdown",
   "metadata": {},
   "source": [
    "### Compare stream length to observed stream length\n"
   ]
  },
  {
   "cell_type": "code",
   "execution_count": 33,
   "metadata": {},
   "outputs": [
    {
     "name": "stdout",
     "output_type": "stream",
     "text": [
      "113.12755560305142 102.00056545263082 92.09236122327428\n",
      "78.31001541046066 59.296301757451005 59.84477663645315\n",
      "0.8140577309600265 0.7642033566559492\n",
      "0.9016420880738939 0.7571994648021765\n"
     ]
    }
   ],
   "source": [
    "#Determine length factors\n",
    "\n",
    "#compute the length of the stream upto the point where the density drops below 20% \n",
    "mock_trail_length = sdf_trailing.length(ang=True)\n",
    "mock_lead_length = sdf_leading.length(ang=True)\n",
    "\n",
    "obs_lead_length = compute_angular_length(sdf_leading,max(gd1_lb[:,0]))\n",
    "obs_trail_length = compute_angular_length(sdf_trailing,min(gd1_lb[:,0]))\n",
    "\n",
    "obs_tom_lead_length = compute_angular_length(sdf_leading,max(tom_gd1_lb[:,0]))\n",
    "obs_tom_trail_length = compute_angular_length(sdf_trailing,min(tom_gd1_lb[:,0]))\n",
    "\n",
    "trail_length_fac = obs_trail_length/mock_trail_length\n",
    "lead_length_fac =  obs_lead_length/mock_lead_length\n",
    "\n",
    "print (mock_trail_length,obs_tom_trail_length, obs_trail_length)\n",
    "print (mock_lead_length, obs_tom_lead_length, obs_lead_length)\n",
    "\n",
    "print (trail_length_fac, lead_length_fac)\n",
    "\n",
    "print (obs_tom_trail_length/mock_trail_length, obs_tom_lead_length/mock_lead_length)\n",
    "\n",
    "#print (obs_tom_lead_length,obs_tom_trail_length)"
   ]
  },
  {
   "cell_type": "code",
   "execution_count": 23,
   "metadata": {},
   "outputs": [
    {
     "name": "stdout",
     "output_type": "stream",
     "text": [
      "Observed trailing arm length in deg =  92.09400406579196\n",
      "Observed leading arm length in deg =  59.83346223561357\n",
      "mock length =  179.41006033808048\n",
      "observed length =  151.92746630140553\n"
     ]
    },
    {
     "data": {
      "image/png": "[encoded data removed]",
      "text/plain": [
       "<Figure size 1080x216 with 1 Axes>"
      ]
     },
     "metadata": {},
     "output_type": "display_data"
    }
   ],
   "source": [
    "#observed stream length\n",
    "print (\"Observed trailing arm length in deg = \", + compute_angular_length(sdf_trailing,min(gd1_lb[:,0])))\n",
    "print (\"Observed leading arm length in deg = \", + compute_angular_length(sdf_leading,max(gd1_lb[:,0])))\n",
    "\n",
    "print (\"mock length = \",mock_trail_length+mock_lead_length)\n",
    "print (\"observed length = \",compute_angular_length(sdf_trailing,min(gd1_lb[:,0])) + compute_angular_length(sdf_leading,max(gd1_lb[:,0])) )\n",
    "#compute the length along the stream track between the extremities of the observed stream\n",
    "##interpolate track\n",
    "tracklb_trailing=np.radians(sdf_trailing._interpolatedObsTrackLB[:,0]),np.radians(sdf_trailing._interpolatedObsTrackLB[:,1])\n",
    "tracklb_leading=np.radians(sdf_leading._interpolatedObsTrackLB[:,0]),np.radians(sdf_leading._interpolatedObsTrackLB[:,1])\n",
    "#int_dbdl_trail=UnivariateSpline(np.degrees(tracklb_trailing[0][::-1]), np.degrees(tracklb_trailing[1])[::-1]).derivative()\n",
    "#int_dbdl_lead=UnivariateSpline(np.degrees(tracklb_leading[0]), np.degrees(tracklb_leading[1])).derivative()\n",
    "#def d_arc_trail(l):\n",
    "#    return np.sqrt(1. + int_dbdl_trail(l)**2)\n",
    "\n",
    "#def d_arc_lead(l):\n",
    "#    return np.sqrt(1. + int_dbdl_lead(l)**2)\n",
    "\n",
    "#trail_length = integrate.quad(d_arc_trail,min(gd1_lb[:,0]),gd1_prog_lb[0])[0]\n",
    "\n",
    "#lead_length = integrate.quad(d_arc_lead,gd1_prog_lb[0],max(gd1_lb[:,0]))[0]\n",
    "#print (\"observed stream track length\",lead_length + trail_length)\n",
    "\n",
    "plt.figure(figsize=(15,3))\n",
    "\n",
    "plt.scatter(lb_sample_trailing[0],lb_sample_trailing[1],s=2,c='b',label='mock')\n",
    "plt.scatter(lb_sample_leading[0],lb_sample_leading[1],s=2,c='b')\n",
    "\n",
    "plt.scatter(gd1_lb[:,0],gd1_lb[:,1],c='r',alpha=0.1,label='APW-AB selection')\n",
    "plt.scatter(gd1_prog_lb[0],gd1_prog_lb[1],c='k',s=100)\n",
    "\n",
    "plt.plot(np.degrees(tracklb_trailing[0]),np.degrees(tracklb_trailing[1]),lw=2,c='k')\n",
    "plt.plot(np.degrees(tracklb_leading[0]),np.degrees(tracklb_leading[1]),lw=2,c='k')\n",
    "\n",
    "plt.xlabel(r'$\\ell$ (deg)')\n",
    "plt.ylabel(r'$b$ (deg)')\n",
    "#plt.ylim(1,65)\n",
    "#plt.xlim(-100.,20.)\n",
    "#plt.ylim(-6.,4.)\n",
    "plt.legend(loc='upper right')\n",
    "plt.show()"
   ]
  },
  {
   "cell_type": "code",
   "execution_count": null,
   "metadata": {},
   "outputs": [],
   "source": [
    "import numpy\n",
    "import matplotlib.pyplot as plt\n",
    "\n",
    "apar=numpy.arange(0.,1.75,0.01)\n",
    "\n",
    "dens_lead= [sdf_leading._density_par(a) for a in apar]\n",
    "dens_trail= [sdf_trailing._density_par(a) for a in apar]\n",
    "\n",
    "plt.figure(figsize=(7,5))\n",
    "plt.plot(apar,dens_lead,c='r')\n",
    "plt.plot(apar,dens_trail,c='k')\n",
    "plt.show()"
   ]
  },
  {
   "cell_type": "code",
   "execution_count": null,
   "metadata": {},
   "outputs": [],
   "source": [
    "plt.figure(figsize=(15,3))\n",
    "plt.scatter(GD1_obs[:,0],GD1_obs[:,1])\n",
    "plt.show()"
   ]
  },
  {
   "cell_type": "markdown",
   "metadata": {},
   "source": [
    "## Compare stream width\n",
    "\n",
    "### Take both arms, bin in fine $\\phi_{1}$ bins. For each bin, compute std dev of $\\phi_{2}$ of the sample, combine all these std dev via the weighted average of their variances. This is because the mean $\\phi_{2}$ is changing in each bin, although by very little. "
   ]
  },
  {
   "cell_type": "code",
   "execution_count": 34,
   "metadata": {},
   "outputs": [],
   "source": [
    "#convert lb --> phi1, phi2\n",
    "phi12_sample_trailing=lb_to_phi12(lb_sample_trailing[0],lb_sample_trailing[1],degree=True)\n",
    "phi12_sample_leading=lb_to_phi12(lb_sample_leading[0],lb_sample_leading[1],degree=True)\n",
    "\n",
    "for ii in range(len(phi12_sample_trailing)):\n",
    "    if phi12_sample_trailing[:,0][ii]>180.:\n",
    "        phi12_sample_trailing[:,0][ii]-=360.\n",
    "        \n",
    "    if phi12_sample_leading[:,0][ii]>180.:\n",
    "        phi12_sample_leading[:,0][ii]-=360."
   ]
  },
  {
   "cell_type": "code",
   "execution_count": null,
   "metadata": {},
   "outputs": [],
   "source": [
    "print (phi12_sample_leading)"
   ]
  },
  {
   "cell_type": "code",
   "execution_count": 35,
   "metadata": {},
   "outputs": [
    {
     "name": "stdout",
     "output_type": "stream",
     "text": [
      "Angular width 11.09 arcmins\n"
     ]
    }
   ],
   "source": [
    "bin_width=2.\n",
    "phi1_trail_min=-40 #-40.\n",
    "phi1_trail_max=-10.#  to compare with Koposov's work max(GD1_obs[:,0])#-10.\n",
    "\n",
    "phi1_lead_min=-60. # to compare with Koposov's work  #min(GD1_obs[:,0])\n",
    "phi1_lead_max=-40.\n",
    "\n",
    "nbin_trail=int(-(-phi1_trail_max+phi1_trail_min)//bin_width) +1\n",
    "nbin_lead=int(-(-phi1_lead_max+phi1_lead_min)//bin_width) +1\n",
    "\n",
    "#print (nbin_trail, nbin_lead)\n",
    "\n",
    "phi1_bin_trail_edges=np.linspace(phi1_trail_min,phi1_trail_max,nbin_trail)\n",
    "phi1_bin_lead_edges=np.linspace(phi1_lead_min,phi1_lead_max,nbin_lead)\n",
    "\n",
    "#print (phi1_bin_lead_edges)\n",
    "\n",
    "phi2_offset=[]\n",
    "phi2_std=[]\n",
    "npop=[]\n",
    "\n",
    "\n",
    "for ii in range(nbin_trail-1):\n",
    "#    #phi2_mean = np.mean(phi12_sample_trailing[:,1][(phi1_bin_trail_edges[ii] < phi12_sample_trailing[:,0]) & ( phi12_sample_trailing[:,0] < phi1_bin_trail_edges[ii+1])])\n",
    "    p2 = phi12_sample_trailing[:,1][(phi1_bin_trail_edges[ii] < phi12_sample_trailing[:,0]) & ( phi12_sample_trailing[:,0] < phi1_bin_trail_edges[ii+1])]\n",
    "    phi2_mean=np.mean(p2)\n",
    "    phi2_std.append(np.std(p2))\n",
    "    npop.append(len(p2))\n",
    "    p2-=phi2_mean\n",
    "    for p in p2 :\n",
    "        phi2_offset.append(p)\n",
    "        \n",
    "for ii in range(nbin_lead-1):\n",
    "    #phi2_mean = np.mean(phi12_lead[:,1][(phi1_bin_lead_edges[ii] < phi12_lead[:,0]) & ( phi12_lead[:,0] < phi1_bin_lead_edges[ii+1])])\n",
    "    p2 = phi12_sample_leading[:,1][(phi1_bin_lead_edges[ii] < phi12_sample_leading[:,0]) & ( phi12_sample_leading[:,0] < phi1_bin_lead_edges[ii+1])]\n",
    "    phi2_mean=np.mean(p2)\n",
    "    phi2_std.append(np.std(p2))\n",
    "    npop.append(len(p2))\n",
    "    p2-=phi2_mean\n",
    "    for p in p2 :\n",
    "        phi2_offset.append(p)\n",
    "\n",
    "\n",
    "\n",
    "var_mean=np.sum((np.array(npop)-1)*(np.array(phi2_std)**2.))/(np.sum(np.array(npop))-len(npop))\n",
    "\n",
    "sig_width=np.sqrt(var_mean)*60.\n",
    "print (\"Angular width %.2f arcmins\"%(sig_width))"
   ]
  },
  {
   "cell_type": "code",
   "execution_count": null,
   "metadata": {},
   "outputs": [],
   "source": [
    "from scipy.stats import norm\n",
    "\n",
    "phi2=np.linspace(-0.8,0.8,50)\n",
    "\n",
    "plt.figure()\n",
    "plt.hist(phi2_offset,bins='scott',density=True)\n",
    "plt.plot(phi2,norm.pdf(phi2,scale=sig_width/60.),label=r'Normal dist') #normal distribution with sigma = 14 arcmin\n",
    "plt.vlines(7./60,0.,2.,color='r')\n",
    "plt.vlines(-7./60,0.,2.,color='r')\n",
    "plt.xlabel(r'$\\phi_{2} - \\langle\\phi_{2}\\rangle $')\n",
    "plt.legend(loc='upper right')\n",
    "plt.show()"
   ]
  },
  {
   "cell_type": "code",
   "execution_count": null,
   "metadata": {},
   "outputs": [],
   "source": [
    "#overplot GD1 stars selected by APW and AB\n",
    "GD1_obs=np.loadtxt('APW_AB_GD1_phi12.dat')\n",
    "\n",
    "plt.figure(figsize=(15,3))\n",
    "#plt.plot(phi12_trail[:,0],phi12_trail[:,1],lw=2,c='gray')\n",
    "#plt.plot(phi12_lead[:,0],phi12_lead[:,1],lw=2,c='gray')\n",
    "\n",
    "#plt.plot(phi12_trail[:,0],phi12_trail[:,1]+(7./60.),ls='--',lw=2,c='r')\n",
    "#plt.plot(phi12_trail[:,0],phi12_trail[:,1]-(7./60.),ls='--',lw=2,c='r')\n",
    "#plt.plot(phi12_lead[:,0],phi12_lead[:,1]+(7./60.),ls='--',lw=2,c='r')\n",
    "#plt.plot(phi12_lead[:,0],phi12_lead[:,1]-(7./60.),ls='--',lw=2,c='r')\n",
    "\n",
    "plt.scatter(phi12_sample_trailing[:,0],phi12_sample_trailing[:,1],s=2,c='b',label='mock sample')\n",
    "plt.scatter(phi12_sample_leading[:,0],phi12_sample_leading[:,1],s=2,c='b')\n",
    "\n",
    "plt.scatter(GD1_obs[:,0],GD1_obs[:,1],c='r',s=3,label='APW-AB-selection')\n",
    "plt.vlines(-38.,-4,2.5)\n",
    "plt.vlines(-42.,-4,2.5)\n",
    "\n",
    "#plt.vlines(-22.,-4,2.5)\n",
    "plt.vlines(max(GD1_obs[:,0]),-4,2.5)\n",
    "\n",
    "plt.vlines(min(GD1_obs[:,0]),-4,2.5)\n",
    "#plt.vlines(-18.,-4,2.5)\n",
    "\n",
    "\n",
    "\n",
    "plt.xlabel(r'$\\phi_{1}$ (deg)')\n",
    "plt.ylabel(r'$\\phi_{2}$ (deg)')\n",
    "#plt.xlim(-100.,20.)\n",
    "#plt.ylim(-6.,4.)\n",
    "plt.legend(loc='upper right')\n",
    "plt.show()"
   ]
  },
  {
   "cell_type": "code",
   "execution_count": null,
   "metadata": {},
   "outputs": [],
   "source": [
    "\n",
    "#phi12_trail=np.degrees(lb_to_phi12(tracklb_trailing[0],tracklb_trailing[1]))\n",
    "#phi12_lead=np.degrees(lb_to_phi12(tracklb_leading[0],tracklb_leading[1]))\n",
    "\n",
    "#print (np.degrees(phi12[0])-360.,np.degrees(phi12[1]))\n",
    "#for ii in range(len(phi12_trail)):\n",
    "#    if phi12_trail[:,0][ii]>180.:\n",
    "#        phi12_trail[:,0][ii]-=360.\n",
    "        \n",
    "#for ii in range(len(phi12_lead)):\n",
    "#    if phi12_lead[:,0][ii]>180.:\n",
    "#        phi12_lead[:,0][ii]-=360.\n",
    "\n",
    "#print (phi12_lead)\n",
    "                        "
   ]
  },
  {
   "cell_type": "markdown",
   "metadata": {},
   "source": [
    "### determine the time at which the progenitor was at phi1 = -20 deg to get the phase space of the progenitor"
   ]
  },
  {
   "cell_type": "code",
   "execution_count": null,
   "metadata": {},
   "outputs": [],
   "source": [
    "tend=np.linspace(-0.053,-0.056,20)  # these times were obtained by trial and error\n",
    "diff=np.empty(len(tend))\n",
    "for ii in range(len(tend)):\n",
    "    obs= Orbit(end_coord,radec=True,ro=8.,vo=220.,solarmotion=[-11.1,24.,7.25])\n",
    "    ts=np.linspace(0.,tend[ii],500)/bovy_conversion.time_in_Gyr(220.,8.)\n",
    "    obs.integrate(ts,MWPotential2014)\n",
    "\n",
    "    ra1=obs.ra(ts[-1])\n",
    "    dec1=obs.dec(ts[-1])\n",
    "\n",
    "    lb=bovy_coords.radec_to_lb(np.radians(ra1),np.radians(dec1))\n",
    "    phi1=np.degrees(lb_to_phi12(lb[0],lb[1])[0])\n",
    "    \n",
    "    if phi1 > 180. : \n",
    "        phi1-=360.\n",
    "        \n",
    "    #print (phi1)\n",
    "    diff[ii]=np.abs(phi1-(-0.))\n",
    "#print (min(diff))    \n",
    "tpro=tend[argmin(diff)]\n",
    "    \n",
    "print (tpro)"
   ]
  },
  {
   "cell_type": "markdown",
   "metadata": {},
   "source": [
    "### Integrate end coord to the progenitor's location"
   ]
  },
  {
   "cell_type": "code",
   "execution_count": null,
   "metadata": {},
   "outputs": [],
   "source": [
    "obs= Orbit(end_coord,radec=True,ro=8.,vo=220.,solarmotion=[-11.1,24.,7.25])\n",
    "ts=np.linspace(0.,tpro,1000)/bovy_conversion.time_in_Gyr(220.,8.)\n",
    "obs.integrate(ts,MWPotential2014)\n",
    "\n",
    "ll=obs.ll(ts[-1])\n",
    "bb=obs.bb(ts[-1])\n",
    "dist=obs.dist(ts[-1])\n",
    "pmll=obs.pmll(ts[-1])\n",
    "pmbb=obs.pmbb(ts[-1])\n",
    "vlos=obs.vlos(ts[-1])\n",
    "\n",
    "gd1_prog_lb=[ll,bb,dist,pmll,pmbb,vlos]\n",
    "print (gd1_prog_lb)"
   ]
  },
  {
   "cell_type": "markdown",
   "metadata": {},
   "source": [
    "### Find isochrone parameter"
   ]
  },
  {
   "cell_type": "code",
   "execution_count": null,
   "metadata": {},
   "outputs": [],
   "source": [
    "prog_orb=Orbit(gd1_prog_lb,lb=True,ro=8.,vo=220.,solarmotion=[-11.1,24.,7.25])\n",
    "orb_galpy=prog_orb._orb.vxvv\n",
    "\n",
    "ts1=np.linspace(0.,-3.4,1000)/bovy_conversion.time_in_Gyr(220.,8.)\n",
    "prog_orb.integrate(ts1,MWPotential2014)\n",
    "\n",
    "print (estimateBIsochrone(MWPotential2014,prog_orb.R(ts1)/8.,prog_orb.z(ts1))/8.)\n"
   ]
  },
  {
   "cell_type": "code",
   "execution_count": null,
   "metadata": {},
   "outputs": [],
   "source": [
    "#Try different b following the above estimate and visually select based on linearity and quickness of convergence \n",
    "\n",
    "aAIA= actionAngleIsochroneApprox(pot=MWPotential2014,b=0.45)\n",
    "aAIA(*orb_galpy)\n",
    "\n",
    "aAIA.plot(*orb_galpy,type='araz')\n",
    "\n",
    "aAIA.plot(*orb_galpy,type='jr')\n",
    "\n",
    "aAIA.plot(*orb_galpy,type='araz',deperiod=True)"
   ]
  },
  {
   "cell_type": "markdown",
   "metadata": {},
   "source": [
    "### Make smooth stream"
   ]
  },
  {
   "cell_type": "code",
   "execution_count": null,
   "metadata": {},
   "outputs": [],
   "source": [
    "import gd1_util\n",
    "\n",
    "#from above b=0.4 looks good\n",
    "Tstream=3.4\n",
    "sdf_leading=gd1_util.setup_gd1model(age=Tstream,new_orb_lb=gd1_prog_lb,isob=0.45,sigv=0.36)\n",
    "#sdf_trailing=gd1_util.setup_gd1model(leading=False,age=Tstream,new_orb_lb=gd1_prog_lb,isob=0.45,sigv=0.36)"
   ]
  },
  {
   "cell_type": "markdown",
   "metadata": {},
   "source": [
    "### Compare stream length to observed stream length"
   ]
  },
  {
   "cell_type": "code",
   "execution_count": null,
   "metadata": {},
   "outputs": [],
   "source": [
    "#sample points from the stream\n",
    "#lb_sample_trailing= sdf_trailing.sample(n=3000,lb=True)\n",
    "lb_sample_leading= sdf_leading.sample(n=3000,lb=True)\n",
    "\n",
    "\n",
    "#compute the length of the stream upto the point where the density drops below 20%\n",
    "print (\"mock stream length in lb coord\",sdf_leading.length(ang=True) + sdf_trailing.length(ang=True))\n",
    "\n",
    "\n",
    "#compute the length along the stream track between the extremities of the observed stream\n",
    "#tracklb_trailing=np.radians(sdf_trailing._interpolatedObsTrackLB[:,0]),np.radians(sdf_trailing._interpolatedObsTrackLB[:,1])\n",
    "tracklb_leading=np.radians(sdf_leading._interpolatedObsTrackLB[:,0]),np.radians(sdf_leading._interpolatedObsTrackLB[:,1])\n",
    "\n",
    "GD1_obs=np.loadtxt('APW_AB_GD1_phi12.dat')\n",
    "gd1_lb=phi12_to_lb(GD1_obs[:,0],GD1_obs[:,1],degree=True)\n",
    "\n",
    "#int_dbdl_trail=UnivariateSpline(np.degrees(tracklb_trailing[0][::-1]), np.degrees(tracklb_trailing[1])[::-1]).derivative()\n",
    "int_dbdl_lead=UnivariateSpline(np.degrees(tracklb_leading[0]), np.degrees(tracklb_leading[1])).derivative()\n",
    "\n",
    "\n",
    "def d_arc_trail(l):\n",
    "    return np.sqrt(1. + int_dbdl_trail(l)**2)\n",
    "\n",
    "def d_arc_lead(l):\n",
    "    return np.sqrt(1. + int_dbdl_lead(l)**2)\n",
    "\n",
    "#trail_length = integrate.quad(d_arc_trail,min(gd1_lb[:,0]),max(np.degrees(tracklb_trailing[0])))[0]\n",
    "\n",
    "lead_length = integrate.quad(d_arc_lead,min(np.degrees(tracklb_leading[0])),max(gd1_lb[:,0]))[0]\n",
    "\n",
    "print (\"observed stream track length\",lead_length + trail_length)\n",
    "\n",
    "plt.figure(figsize=(15,3))\n",
    "\n",
    "#plt.scatter(lb_sample_trailing[0],lb_sample_trailing[1],s=2,c='b')\n",
    "plt.scatter(lb_sample_leading[0],lb_sample_leading[1],s=2,c='b')\n",
    "\n",
    "plt.scatter(gd1_lb[:,0],gd1_lb[:,1],c='r',alpha=0.1)\n",
    "\n",
    "#plt.plot(np.degrees(tracklb_trailing[0]),np.degrees(tracklb_trailing[1]),lw=2,c='k')\n",
    "plt.plot(np.degrees(tracklb_leading[0]),np.degrees(tracklb_leading[1]),lw=2,c='k')\n",
    "\n",
    "plt.xlabel(r'$\\ell$ (deg)')\n",
    "plt.ylabel(r'$b$ (deg)')\n",
    "#plt.xlim(-100.,20.)\n",
    "#plt.ylim(-6.,4.)\n",
    "#plt.legend(loc='upper right')\n",
    "plt.show()"
   ]
  },
  {
   "cell_type": "code",
   "execution_count": null,
   "metadata": {},
   "outputs": [],
   "source": [
    "import numpy\n",
    "import matplotlib.pyplot as plt\n",
    "\n",
    "apar=numpy.arange(0.,1.75,0.01)\n",
    "\n",
    "dens_lead= [sdf_leading._density_par(a) for a in apar]\n",
    "dens_trail= [sdf_trailing._density_par(a) for a in apar]\n",
    "\n",
    "plt.figure(figsize=(7,5))\n",
    "plt.plot(apar,dens_lead,c='r')\n",
    "plt.plot(apar,dens_trail,c='k')\n",
    "plt.show()"
   ]
  },
  {
   "cell_type": "markdown",
   "metadata": {},
   "source": [
    "## Compare stream width\n",
    "\n",
    "### Take both arms excluding 4 degrees around the progenitor at -20 deg. Bin in $1^{\\circ} \\phi_{1}$ bins. For each bin, compute mean $\\phi_{2}$ of the track, subtract this mean from the $\\phi_{2}$ of all the points in that bin.  Compute the std deviation of all these offset corrected $\\phi_{2}$"
   ]
  },
  {
   "cell_type": "code",
   "execution_count": null,
   "metadata": {},
   "outputs": [],
   "source": [
    "phi12_sample_trailing=lb_to_phi12(lb_sample_trailing[0],lb_sample_trailing[1],degree=True)\n",
    "phi12_sample_leading=lb_to_phi12(lb_sample_leading[0],lb_sample_leading[1],degree=True)\n",
    "\n",
    "for ii in range(len(phi12_sample_trailing)):\n",
    "    if phi12_sample_trailing[:,0][ii]>180.:\n",
    "        phi12_sample_trailing[:,0][ii]-=360.\n",
    "        \n",
    "    if phi12_sample_leading[:,0][ii]>180.:\n",
    "        phi12_sample_leading[:,0][ii]-=360.\n",
    "\n",
    "\n",
    "\n",
    "phi12_trail=np.degrees(lb_to_phi12(tracklb_trailing[0],tracklb_trailing[1]))\n",
    "phi12_lead=np.degrees(lb_to_phi12(tracklb_leading[0],tracklb_leading[1]))\n",
    "\n",
    "#print (np.degrees(phi12[0])-360.,np.degrees(phi12[1]))\n",
    "for ii in range(len(phi12_trail)):\n",
    "    if phi12_trail[:,0][ii]>180.:\n",
    "        phi12_trail[:,0][ii]-=360.\n",
    "        \n",
    "for ii in range(len(phi12_lead)):\n",
    "    if phi12_lead[:,0][ii]>180.:\n",
    "        phi12_lead[:,0][ii]-=360.\n",
    "\n",
    "print (phi12_lead)\n",
    "                          "
   ]
  },
  {
   "cell_type": "code",
   "execution_count": null,
   "metadata": {},
   "outputs": [],
   "source": [
    "bin_width=1.\n",
    "phi1_trail_min=2.\n",
    "phi1_trail_max=10.\n",
    "\n",
    "phi1_lead_min=-80.\n",
    "phi1_lead_max=-2.\n",
    "\n",
    "nbin_trail=int(-(-phi1_trail_max+phi1_trail_min)//bin_width) +1\n",
    "nbin_lead=int(-(-phi1_lead_max+phi1_lead_min)//bin_width) +1\n",
    "\n",
    "#print (nbin_trail, nbin_lead)\n",
    "\n",
    "phi1_bin_trail_edges=np.linspace(phi1_trail_min,phi1_trail_max,nbin_trail)\n",
    "phi1_bin_lead_edges=np.linspace(phi1_lead_min,phi1_lead_max,nbin_lead)\n",
    "\n",
    "#print (phi1_bin_edges)\n",
    "\n",
    "phi2_offset=[]\n",
    "phi2_std=[]\n",
    "\n",
    "\n",
    "for ii in range(nbin_trail-1):\n",
    "    #phi2_mean = np.mean(phi12_sample_trailing[:,1][(phi1_bin_trail_edges[ii] < phi12_sample_trailing[:,0]) & ( phi12_sample_trailing[:,0] < phi1_bin_trail_edges[ii+1])])\n",
    "    p2 = phi12_sample_trailing[:,1][(phi1_bin_trail_edges[ii] < phi12_sample_trailing[:,0]) & ( phi12_sample_trailing[:,0] < phi1_bin_trail_edges[ii+1])]\n",
    "    phi2_mean=np.mean(p2)\n",
    "    phi2_std.append(np.std(p2)*60.)\n",
    "    p2-=phi2_mean\n",
    "    for p in p2 :\n",
    "        phi2_offset.append(p)\n",
    "        \n",
    "for ii in range(nbin_lead-1):\n",
    "    #phi2_mean = np.mean(phi12_lead[:,1][(phi1_bin_lead_edges[ii] < phi12_lead[:,0]) & ( phi12_lead[:,0] < phi1_bin_lead_edges[ii+1])])\n",
    "    p2 = phi12_sample_leading[:,1][(phi1_bin_lead_edges[ii] < phi12_sample_leading[:,0]) & ( phi12_sample_leading[:,0] < phi1_bin_lead_edges[ii+1])]\n",
    "    phi2_mean=np.mean(p2)\n",
    "    phi2_std.append(np.std(p2)*60.)\n",
    "    p2-=phi2_mean\n",
    "    for p in p2 :\n",
    "        phi2_offset.append(p)\n",
    "\n"
   ]
  },
  {
   "cell_type": "code",
   "execution_count": null,
   "metadata": {},
   "outputs": [],
   "source": [
    "from scipy.stats import norm\n",
    "\n",
    "phi2=np.linspace(-0.8,0.8,50)\n",
    "\n",
    "\n",
    "print (\"Angular width %.2f arcmins\"%(np.std(phi2_offset)*60.))\n",
    "\n",
    "\n",
    "plt.figure()\n",
    "plt.hist(phi2_offset,bins='scott',density=True)\n",
    "plt.plot(phi2,norm.pdf(phi2,scale=14./60.),label=r'Normal dist') #normal distribution with sigma = 14 arcmin\n",
    "plt.vlines(7./60,0.,2.,color='r')\n",
    "plt.vlines(-7./60,0.,2.,color='r')\n",
    "plt.xlabel(r'$\\phi_{2} - \\langle\\phi_{2}\\rangle $')\n",
    "plt.legend(loc='upper right')\n",
    "plt.show()"
   ]
  },
  {
   "cell_type": "code",
   "execution_count": null,
   "metadata": {},
   "outputs": [],
   "source": [
    "#overplot GD1 stars selected by APW and AB\n",
    "GD1_obs=np.loadtxt('APW_AB_GD1_phi12.dat')\n",
    "\n",
    "plt.figure(figsize=(15,3))\n",
    "plt.plot(phi12_trail[:,0],phi12_trail[:,1],lw=2,c='gray')\n",
    "plt.plot(phi12_lead[:,0],phi12_lead[:,1],lw=2,c='gray')\n",
    "\n",
    "plt.plot(phi12_trail[:,0],phi12_trail[:,1]+(7./60.),ls='--',lw=2,c='r')\n",
    "plt.plot(phi12_trail[:,0],phi12_trail[:,1]-(7./60.),ls='--',lw=2,c='r')\n",
    "plt.plot(phi12_lead[:,0],phi12_lead[:,1]+(7./60.),ls='--',lw=2,c='r')\n",
    "plt.plot(phi12_lead[:,0],phi12_lead[:,1]-(7./60.),ls='--',lw=2,c='r')\n",
    "\n",
    "plt.scatter(phi12_sample_trailing[:,0],phi12_sample_trailing[:,1],s=2,c='b')\n",
    "plt.scatter(phi12_sample_leading[:,0],phi12_sample_leading[:,1],s=2,c='b')\n",
    "\n",
    "#plt.scatter(GD1_obs[:,0],GD1_obs[:,1],c='k',s=2,label='APW-AB-selection')\n",
    "#plt.vlines(-38.,-4,2.5)\n",
    "#plt.vlines(-42.,-4,2.5)\n",
    "\n",
    "plt.vlines(-22.,-4,2.5)\n",
    "plt.vlines(10.,-4,2.5)\n",
    "\n",
    "plt.vlines(-90.,-4,2.5)\n",
    "plt.vlines(-18.,-4,2.5)\n",
    "\n",
    "\n",
    "\n",
    "plt.xlabel(r'$\\phi_{1}$ (deg)')\n",
    "plt.ylabel(r'$\\phi_{2}$ (deg)')\n",
    "#plt.xlim(-100.,20.)\n",
    "#plt.ylim(-6.,4.)\n",
    "#plt.legend(loc='upper right')\n",
    "plt.show()"
   ]
  },
  {
   "cell_type": "code",
   "execution_count": null,
   "metadata": {},
   "outputs": [],
   "source": [
    "prog_orb=Orbit(gd1_prog_lb,lb=True,ro=8.,vo=220.,solarmotion=[-11.1,24.,7.25])\n",
    "\n",
    "ts1=np.linspace(0.,-2.3,1000)/bovy_conversion.time_in_Gyr(220.,8.)\n",
    "prog_orb.integrate(ts1,MWPotential2014)\n",
    "\n",
    "prog_orb.plot(d1='x',d2='y')\n",
    "prog_orb.plot(d1='R',d2='z')\n",
    "\n",
    "print (prog_orb.rperi(),prog_orb.rap(),prog_orb.e(),prog_orb.Tr(use_physical=True))\n",
    "\n",
    "print (prog_orb.r(ts1))\n",
    "\n"
   ]
  },
  {
   "cell_type": "markdown",
   "metadata": {},
   "source": [
    "### For 2.3 Gyr age of the stream, consider ~ 1 Myr time for interaction with the GMCs, so 2300 samplings --> 36 chunks of size 64. "
   ]
  },
  {
   "cell_type": "code",
   "execution_count": null,
   "metadata": {},
   "outputs": [],
   "source": [
    "def convert_dens_to_obs(apars,phi1_input,dens,dens_smooth,mO,poly_deg=3,poly_norm=True):\n",
    "    \"\"\"\n",
    "    NAME:\n",
    "        convert_dens_to_obs\n",
    "    PURPOSE:\n",
    "        Convert track to observed coordinates\n",
    "    INPUT:\n",
    "        apars - parallel angles\n",
    "        dens - density(apars)\n",
    "        dens_smooth - smooth-stream density(apars)\n",
    "        mO= (None) mean parallel frequency (1D) \n",
    "            [needs to be set to get density on same grid as track]\n",
    "        poly_deg= (3) degree of the polynomial to fit for the 'smooth' stream\n",
    "    OUTPUT:\n",
    "        (xi,dens/smooth)\n",
    "    \"\"\"\n",
    "    mT= sdf_pepper.meanTrack(apars,_mO=mO,coord='lb')\n",
    "    #outll= numpy.arange(-60.,-5.,0.1) ##NOTE: phi1 = -10\n",
    "    outll=phi1_input\n",
    "    phi1=lb_to_phi12(mT[0],mT[1],degree=True)[:,0]\n",
    "    phi1[phi1 > 180.]-=360.\n",
    "    #print phi1\n",
    "    phi1=phi1[::-1]\n",
    "    # Interpolate density\n",
    "    pp= Polynomial.fit(apars,dens,deg=3)\n",
    "    ipll= interpolate.InterpolatedUnivariateSpline(phi1,apars[::-1])\n",
    "    #ipdens= interpolate.InterpolatedUnivariateSpline(apars,dens/pp(apars))\n",
    "    ipdens= interpolate.InterpolatedUnivariateSpline(apars,dens/dens_smooth)\n",
    "    return (outll,ipdens(ipll(outll)))"
   ]
  },
  {
   "cell_type": "code",
   "execution_count": null,
   "metadata": {},
   "outputs": [],
   "source": [
    "def parse_times(times,age,ro=8.,vo=220.):\n",
    "    if 'sampling' in times:\n",
    "        nsam= int(times.split('sampling')[0])\n",
    "        print (nsam)\n",
    "        return [float(ti)/bovy_conversion.time_in_Gyr(vo,ro)\n",
    "                for ti in numpy.arange(1,nsam+1)/(nsam+1.)*age]\n",
    "    return [float(ti)/bovy_conversion.time_in_Gyr(vo,ro)\n",
    "            for ti in times.split(',')]\n",
    "            \n",
    "timpacts= parse_times('64sampling',9.,ro=8.,vo=220.)\n",
    "\n",
    "#print (np.array(timpacts)*bovy_conversion.time_in_Gyr(220.,8.))\n"
   ]
  },
  {
   "cell_type": "code",
   "execution_count": null,
   "metadata": {},
   "outputs": [],
   "source": [
    "orb_lb=[188.04928416766532, 51.848594007807456, 7.559027173643999, 12.260258757214746, -5.140630283489461, 7.162732847549563]\n",
    "#isob=0.4\n",
    "\n",
    "sdf=gd1_util.setup_gd1model(timpact=timpacts,hernquist=True,new_orb_lb=orb_lb,isob=0.4,age=3.4)"
   ]
  },
  {
   "cell_type": "code",
   "execution_count": null,
   "metadata": {},
   "outputs": [],
   "source": [
    "with open('gd1pepper_leading_Hernquist_td3.4_64sampling_progphi1-40.0_MW2014.pkl','rb') as savefile:\n",
    "            sdf_pepper_lead= pickle.load(savefile,encoding='latin1')\n",
    "\n",
    "        \n",
    "with open('gd1pepper_trailing_Hernquist_td3.4_64sampling_progphi1-40.0_MW2014.pkl','rb') as savefile:\n",
    "            sdf_pepper_trail= pickle.load(savefile,encoding='latin1')\n"
   ]
  },
  {
   "cell_type": "code",
   "execution_count": null,
   "metadata": {},
   "outputs": [],
   "source": [
    "with open('pkl_files/gd1_smooth_pepper_trailing_Plummer_sigv0.27_streamwidth10arcmins_td3.4_64sampling_progphi1-40.0_MW2014.pkl','rb') as savefile:\n",
    "            sdf_trailing= pickle.load(savefile,encoding='latin1')\n",
    "            sdf_pepper_trail= pickle.load(savefile,encoding='latin1')\n",
    "            \n",
    "with open('pkl_files/gd1_smooth_pepper_leading_Plummer_sigv0.27_streamwidth10arcmins_td3.4_64sampling_progphi1-40.0_MW2014.pkl','rb') as savefile:\n",
    "            sdf_leading= pickle.load(savefile,encoding='latin1')\n",
    "            sdf_pepper_lead= pickle.load(savefile,encoding='latin1')\n",
    "\n",
    "print (sdf_pepper_trail._length_factor,sdf_pepper_lead._length_factor)\n",
    "\n",
    "timpact1=sdf_pepper_trail._timpact\n",
    "timpact=sdf_pepper_lead._timpact"
   ]
  },
  {
   "cell_type": "code",
   "execution_count": null,
   "metadata": {},
   "outputs": [],
   "source": [
    "print (timpact)"
   ]
  },
  {
   "cell_type": "code",
   "execution_count": null,
   "metadata": {},
   "outputs": [],
   "source": [
    "            \n",
    "ro=8.\n",
    "vo=220.\n",
    "\n",
    "#time in reverse\n",
    "    \n",
    "#print (timpact1[kk])\n",
    "x=[]\n",
    "y=[]\n",
    "z=[]\n",
    "\n",
    "x1=[]\n",
    "y1=[]\n",
    "z1=[]\n",
    "\n",
    "xyz_trail= sdf_pepper_trail._sgapdfs_coordtransform[timpact1[0]]._kick_interpolatedObsTrackXY\n",
    "apar_trail=sdf_pepper_trail._sgapdfs_coordtransform[timpact1[0]]._kick_interpolatedThetasTrack\n",
    "\n",
    "xyz_lead= sdf_pepper_lead._sgapdfs_coordtransform[timpact[0]]._kick_interpolatedObsTrackXY\n",
    "apar_lead=sdf_pepper_lead._sgapdfs_coordtransform[timpact[0]]._kick_interpolatedThetasTrack\n",
    "\n",
    "print (min(apar_trail),max(apar_trail))\n",
    "print (min(apar_lead),max(apar_lead))\n",
    "           \n",
    "        \n",
    "apar_max1=sdf_pepper_trail.length(tdisrupt=sdf_pepper_trail._tdisrupt-timpact1[0])*sdf_pepper_trail._length_factor\n",
    "apar_max=sdf_pepper_lead.length(tdisrupt=sdf_pepper_lead._tdisrupt-timpact[0])*sdf_pepper_lead._length_factor\n",
    "    \n",
    "#considering the stream until apar_max, store xyzvxvyvz \n",
    "for ii in range(len(apar_trail)):\n",
    "    if apar_trail[ii] <= apar_max1 : \n",
    "        x1.append(xyz_trail[:,0][ii])\n",
    "        y1.append(xyz_trail[:,1][ii])\n",
    "        z1.append(xyz_trail[:,2][ii])\n",
    "\n",
    "\n",
    "for ii in range(len(apar_lead)):\n",
    "    if apar_lead[ii] <= apar_max : \n",
    "        x.append(xyz_lead[:,0][ii])\n",
    "        y.append(xyz_lead[:,1][ii])\n",
    "        z.append(xyz_lead[:,2][ii])\n",
    "    \n",
    "lbd_lead=bovy_coords.XYZ_to_lbd(np.array(x),np.array(y),np.array(z),degree=True)\n",
    "lbd_trail=bovy_coords.XYZ_to_lbd(np.array(x1),np.array(y1),np.array(z1),degree=True)\n",
    "\n",
    "plt.figure()\n",
    "plt.plot(lbd_lead[0],lbd_lead[1])\n",
    "#plt.xlim(-20.,20.)\n",
    "#plt.ylim(-17.,17.)\n",
    "plt.show()"
   ]
  },
  {
   "cell_type": "code",
   "execution_count": null,
   "metadata": {},
   "outputs": [],
   "source": [
    "plt.figure()\n",
    "plt.plot(lbd_lead[:,0],lbd_lead[:,1])\n",
    "#plt.xlim(-20.,20.)\n",
    "#plt.ylim(-17.,17.)\n",
    "plt.show()"
   ]
  },
  {
   "cell_type": "code",
   "execution_count": null,
   "metadata": {},
   "outputs": [],
   "source": [
    "for ii in range(0,10,2) :\n",
    "    print (ii)"
   ]
  },
  {
   "cell_type": "code",
   "execution_count": null,
   "metadata": {},
   "outputs": [],
   "source": [
    "print (0.365/2.*(9./1.5))"
   ]
  },
  {
   "cell_type": "code",
   "execution_count": null,
   "metadata": {},
   "outputs": [],
   "source": [
    "GD1_obs=np.loadtxt('APW_AB_GD1_phi12.dat')\n",
    "print (min(GD1_obs[:,0]),max(GD1_obs[:,0]))\n",
    "\n"
   ]
  },
  {
   "cell_type": "code",
   "execution_count": null,
   "metadata": {},
   "outputs": [],
   "source": [
    "#angular dispersion in the transverse direction  \n",
    "\n",
    "w_trail= sdf_trailing.sigangledAngle(sdf_trailing._meandO*sdf_trailing._tdisrupt,simple=True,\n",
    "                               use_physical=False)\n",
    "\n",
    "w_lead= sdf_leading.sigangledAngle(sdf_leading._meandO*sdf_leading._tdisrupt,simple=True,\n",
    "                               use_physical=False)\n",
    "\n",
    "print (np.degrees(w_lead)*60.,np.degrees(w_trail)*60.)\n",
    "\n",
    "\n",
    "print (sdf_trailing._determine_stream_spreadLB"
   ]
  }
 ],
 "metadata": {
  "kernelspec": {
   "display_name": "Python 3",
   "language": "python",
   "name": "python3"
  },
  "language_info": {
   "codemirror_mode": {
    "name": "ipython",
    "version": 3
   },
   "file_extension": ".py",
   "mimetype": "text/x-python",
   "name": "python",
   "nbconvert_exporter": "python",
   "pygments_lexer": "ipython3",
   "version": "3.6.5"
  }
 },
 "nbformat": 4,
 "nbformat_minor": 2
}
