{
 "cells": [
  {
   "cell_type": "code",
   "execution_count": 153,
   "metadata": {},
   "outputs": [
    {
     "name": "stdout",
     "output_type": "stream",
     "text": [
      "Populating the interactive namespace from numpy and matplotlib\n"
     ]
    }
   ],
   "source": [
    "import numpy\n",
    "from scipy import integrate\n",
    "%pylab inline\n",
    "from galpy.util import bovy_plot\n",
    "import seaborn as sns\n",
    "from matplotlib import ticker\n",
    "bovy_plot.bovy_print(axes_labelsize=18.,text_fontsize=14.,xtick_labelsize=16.,ytick_labelsize=16.)"
   ]
  },
  {
   "cell_type": "markdown",
   "metadata": {},
   "source": [
    "# The Milky Way's subhalo mass function"
   ]
  },
  {
   "cell_type": "markdown",
   "metadata": {},
   "source": [
    "## The classical dwarfs"
   ]
  },
  {
   "cell_type": "markdown",
   "metadata": {},
   "source": [
    "We get the high-mass end by using the classical dwarfs, for which observations are complete out to 300 kpc:"
   ]
  },
  {
   "cell_type": "code",
   "execution_count": 2,
   "metadata": {},
   "outputs": [],
   "source": [
    "# From Garrison-Kimmel et al. (2017)\n",
    "sats= ['LMC','SMC','Sgr','Fornax','LeoI','Sculptor','LeoII','Sextans','Carina','Ursa Minor','Draco']\n",
    "stellarmass= numpy.array([1.06*10.**9,3.69*10.**8.,3.44*10.**7.,3.25*10.**7.,8.79*10.**6.,3.67*10.**6.,\n",
    "                         1.18*10.**6.,6.98*10.**5.,6.03*10.**5.,4.53*10.**5.,4.53*10.**5.])"
   ]
  },
  {
   "cell_type": "markdown",
   "metadata": {},
   "source": [
    "We assign a halo mass using a stellar-mass--halo-mass relation:"
   ]
  },
  {
   "cell_type": "code",
   "execution_count": 3,
   "metadata": {},
   "outputs": [],
   "source": [
    "# Stellar-mass --> halo-mass from Bullock & Boylan-Kolchin (2017) [refer to Behroozi in prep.?]\n",
    "def halo_mass(stellar_mass):\n",
    "    return 10**(1./numpy.log10(300/2.2)*(numpy.log10(stellar_mass)-numpy.log10(3)-8)+11.)\n",
    "halomass= halo_mass(stellarmass)"
   ]
  },
  {
   "cell_type": "markdown",
   "metadata": {},
   "source": [
    "This gives the following:"
   ]
  },
  {
   "cell_type": "code",
   "execution_count": 4,
   "metadata": {},
   "outputs": [
    {
     "data": {
      "image/png": "[encoded data removed]",
      "text/plain": [
       "<Figure size 432x288 with 1 Axes>"
      ]
     },
     "metadata": {
      "needs_background": "light"
     },
     "output_type": "display_data"
    }
   ],
   "source": [
    "loglog(stellarmass,halo_mass(stellarmass),'o-')\n",
    "xlabel(r'$M_*/M_\\odot$')\n",
    "ylabel(r'$M_h/M_\\odot$');"
   ]
  },
  {
   "cell_type": "markdown",
   "metadata": {},
   "source": [
    "Later we will extrapolate our measurements from the inner halo to the 300 kpc volume by assuming the Einasto spatial profile:"
   ]
  },
  {
   "cell_type": "code",
   "execution_count": 5,
   "metadata": {},
   "outputs": [],
   "source": [
    "def spatial_profile(r,alpha=0.678,rm2=162.4):\n",
    "    # Einasto, r in kpc\n",
    "    return numpy.exp(-2./alpha*((r/rm2)**alpha-1.))"
   ]
  },
  {
   "cell_type": "code",
   "execution_count": 6,
   "metadata": {},
   "outputs": [],
   "source": [
    "observed_volume= 23. # kpc\n",
    "scale_to_300kpc= integrate.quad(lambda r: 4.*numpy.pi*r**2.*spatial_profile(r),0.,300.)[0]\\\n",
    "                    /integrate.quad(lambda r: 4.*numpy.pi*r**2.*spatial_profile(r),0.,observed_volume)[0]"
   ]
  },
  {
   "cell_type": "code",
   "execution_count": 7,
   "metadata": {},
   "outputs": [
    {
     "data": {
      "image/png": "[encoded data removed]",
      "text/plain": [
       "<Figure size 432x288 with 1 Axes>"
      ]
     },
     "metadata": {
      "needs_background": "light"
     },
     "output_type": "display_data"
    }
   ],
   "source": [
    "# Don't consider LMC/SMC\n",
    "num_sats,e,_=hist(numpy.log10(halomass)[2:],range=[9.5,11.5],bins=4);\n",
    "mass_bins= 10.**((numpy.roll(e,1)+e)[1:]/2.)"
   ]
  },
  {
   "cell_type": "code",
   "execution_count": 8,
   "metadata": {},
   "outputs": [
    {
     "data": {
      "text/plain": [
       "(array([5.62341325e+09, 1.77827941e+10, 5.62341325e+10, 1.77827941e+11]),\n",
       " array([5., 2., 2., 0.]))"
      ]
     },
     "execution_count": 8,
     "metadata": {},
     "output_type": "execute_result"
    }
   ],
   "source": [
    "mass_bins, num_sats"
   ]
  },
  {
   "cell_type": "markdown",
   "metadata": {},
   "source": [
    "## Our dark subhalo measurements"
   ]
  },
  {
   "cell_type": "markdown",
   "metadata": {},
   "source": [
    "Then we add our dark subhalo measurements. Here I will just assume that what we measure is exactly the fiducial rate, but these could easily be replaced by our actual measurements (+errorbars).\n",
    "\n",
    "The following are a bunch of functions to compute our fiducial rate:"
   ]
  },
  {
   "cell_type": "code",
   "execution_count": 9,
   "metadata": {},
   "outputs": [],
   "source": [
    "def mass_function(m,c0=2.02*1e-13,m0=2.52*1e7):\n",
    "    return c0*(m/m0)**-1.9"
   ]
  },
  {
   "cell_type": "code",
   "execution_count": 21,
   "metadata": {},
   "outputs": [],
   "source": [
    "low_mass_bins_e= [10.**5,10.**6.,10.**7.,10.**8.,10.**9.]\n",
    "low_mass_bins= 10.**((numpy.roll(numpy.log10(low_mass_bins_e),1)+numpy.log10(low_mass_bins_e))[1:]/2.)"
   ]
  },
  {
   "cell_type": "markdown",
   "metadata": {},
   "source": [
    "The following is the number of subhalos for ``rate=1``:"
   ]
  },
  {
   "cell_type": "code",
   "execution_count": 22,
   "metadata": {},
   "outputs": [],
   "source": [
    "num_subs_cdm= numpy.array([integrate.quad(lambda m: mass_function(m),low_mass_bins_e[ii],low_mass_bins_e[ii+1])[0]\\\n",
    "              *integrate.quad(lambda r: 4.*numpy.pi*r**2.*spatial_profile(r),0.,observed_volume)[0]\n",
    "          for ii in range(len(low_mass_bins))])"
   ]
  },
  {
   "cell_type": "markdown",
   "metadata": {},
   "source": [
    "The actual measured number is relative to this"
   ]
  },
  {
   "cell_type": "code",
   "execution_count": 43,
   "metadata": {},
   "outputs": [],
   "source": [
    "num_subs_obs= numpy.array([numpy.nan,numpy.nan,0.2,0.2])\n",
    "num_subs_obs_err_up= numpy.array([numpy.nan,numpy.nan,0.7,0.5])\n",
    "num_subs_obs_err_lo= numpy.array([numpy.nan,numpy.nan,0.1,0.1])\n",
    "num_subs_up_lim= numpy.array([6.,3.6,numpy.nan,numpy.nan])"
   ]
  },
  {
   "cell_type": "markdown",
   "metadata": {},
   "source": [
    "Now we combine everything:"
   ]
  },
  {
   "cell_type": "code",
   "execution_count": 150,
   "metadata": {},
   "outputs": [],
   "source": [
    "def plot_massfunction(add_mwdm=False,savefilename=None):\n",
    "    color_us= sns.color_palette(\"Paired\")[1]\n",
    "    bovy_plot.bovy_plot(low_mass_bins,num_subs_obs*num_subs_cdm*scale_to_300kpc,\n",
    "                        marker='o',loglog=True,color=color_us,ls='none',\n",
    "                        xlabel=r'$M_h/M_\\odot$',ylabel=r'$dN/d\\log_{10} M$',\n",
    "                       xrange=[3e4,1e12],yrange=[8e-2,4e5])\n",
    "    line_us= errorbar(low_mass_bins,num_subs_obs*num_subs_cdm*scale_to_300kpc,\n",
    "                      yerr=[num_subs_obs_err_lo*num_subs_cdm*scale_to_300kpc,\n",
    "                      num_subs_obs_err_up*num_subs_cdm*scale_to_300kpc],\n",
    "                      marker='o',ls='none',color=color_us,ms=8.,mew=2.,\n",
    "                     label=r'$\\mathrm{Streams}\\,(\\mathrm{Banik\\ et\\ al.\\,2019;\\, this\\ paper)}$')\n",
    "    errorbar(low_mass_bins,num_subs_up_lim*num_subs_cdm*scale_to_300kpc,\n",
    "             yerr=num_subs_up_lim*num_subs_cdm*scale_to_300kpc/2.01,\n",
    "             uplims=True,mew=2.,\n",
    "             marker='_',ls='none',color=color_us,ms=10.)\n",
    "    line_sats= errorbar(mass_bins,num_sats,yerr=numpy.sqrt(num_sats),\n",
    "                        marker='*',ls='none',color=sns.color_palette(\"Paired\")[5],ms=12.,\n",
    "                        label=r'$\\mathrm{Classical\\ MW\\ satellites}$')\n",
    "    # Prediction\n",
    "    pred_ms= 10.**numpy.linspace(5.,11.5,11)\n",
    "    mwvol= integrate.quad(lambda r: 4.*numpy.pi*r**2.*spatial_profile(r),0.,300.)[0]\n",
    "    prediction_cdm= numpy.array([integrate.quad(lambda m: mass_function(m),\n",
    "                                            pred_ms[ii]/numpy.sqrt(10.),numpy.sqrt(10.)*pred_ms[ii])[0]\\\n",
    "                                 *mwvol for ii in range(len(pred_ms))])\n",
    "    line_pred_cdm= loglog(pred_ms,prediction_cdm,lw=2.,color='k',\n",
    "                          label=r'$\\mathrm{DM\\ only}$')\n",
    "    low_indx= pred_ms < 1e9\n",
    "    line_pred= fill_between(pred_ms[low_indx],\n",
    "                            0.1*prediction_cdm[low_indx],0.5*prediction_cdm[low_indx],\n",
    "                            color='0.75',\n",
    "                           label=r'$\\mathrm{incl.\\ baryonic\\, disruption}$')\n",
    "    l1= legend(handles=[line_us,line_sats],\n",
    "           framealpha=1.,facecolor='w',edgecolor='none',\n",
    "           fontsize=17.,loc='lower left',frameon=False)\n",
    "    l2= legend(handles=[line_pred_cdm[0],line_pred],\n",
    "           framealpha=1.,facecolor='w',edgecolor='none',\n",
    "           fontsize=17.,loc='upper right',frameon=False)\n",
    "    gca().add_artist(l1)\n",
    "    gca().add_artist(l2)\n",
    "    if add_mwdm:\n",
    "        def mhalo_to_mwdm(mh):\n",
    "            return 3.3*(mh/3e8)**-0.3\n",
    "        minM,maxM= gca().get_xlim()\n",
    "        ax2= gca().twiny()\n",
    "        ax2.set_xlim(mhalo_to_mwdm(minM),mhalo_to_mwdm(maxM))\n",
    "        ax2.set_xlabel(r'$m_{\\mathrm{WDM}}/\\mathrm{keV}$')\n",
    "        ax2.set_xscale('log')\n",
    "        ax2.xaxis.set_major_formatter(ticker.FormatStrFormatter(r'$%0.f$'))\n",
    "    if not savefilename is None:\n",
    "        bovy_plot.bovy_end_print(savefilename)"
   ]
  },
  {
   "cell_type": "code",
   "execution_count": 154,
   "metadata": {},
   "outputs": [],
   "source": [
    "figsize(7,9)\n",
    "plot_massfunction(add_mwdm=True,savefilename='subhalo_massfunction.pdf')"
   ]
  },
  {
   "cell_type": "code",
   "execution_count": null,
   "metadata": {},
   "outputs": [],
   "source": []
  }
 ],
 "metadata": {
  "kernelspec": {
   "display_name": "Python 3",
   "language": "python",
   "name": "python3"
  },
  "language_info": {
   "codemirror_mode": {
    "name": "ipython",
    "version": 3
   },
   "file_extension": ".py",
   "mimetype": "text/x-python",
   "name": "python",
   "nbconvert_exporter": "python",
   "pygments_lexer": "ipython3",
   "version": "3.7.3"
  },
  "toc": {
   "base_numbering": 1,
   "nav_menu": {},
   "number_sections": true,
   "sideBar": true,
   "skip_h1_title": false,
   "title_cell": "Table of Contents",
   "title_sidebar": "Contents",
   "toc_cell": false,
   "toc_position": {},
   "toc_section_display": true,
   "toc_window_display": false
  }
 },
 "nbformat": 4,
 "nbformat_minor": 2
}
