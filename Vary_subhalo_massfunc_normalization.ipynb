{
 "cells": [
  {
   "cell_type": "code",
   "execution_count": 1,
   "metadata": {},
   "outputs": [],
   "source": [
    "import numpy as np\n",
    "import pickle\n",
    "from astropy.io import fits\n",
    "import matplotlib\n",
    "#matplotlib.use('agg')\n",
    "import matplotlib.pyplot as plt\n",
    "from galpy.util import bovy_conversion, bovy_coords, save_pickles, bovy_plot\n",
    "from galpy.potential import MWPotential2014, turn_physical_off, vcirc\n",
    "import astropy.units as u\n",
    "from galpy.orbit import Orbit\n",
    "from scipy import integrate, interpolate\n",
    "from scipy.integrate import quad\n",
    "from optparse import OptionParser\n",
    "import GMC_GC_util\n",
    "import gd1_util\n",
    "import pal5_util_MWfit\n",
    "import MWPotential2014Likelihood\n",
    "import numpy\n",
    "\n",
    "ro=8.\n",
    "vo=220."
   ]
  },
  {
   "cell_type": "code",
   "execution_count": 2,
   "metadata": {},
   "outputs": [],
   "source": [
    "#Load the stream objects\n",
    "\n",
    "timescdm = '3.2'\n",
    "arm = 'leading'\n",
    "sigv='0p3'\n",
    "td=3.2\n",
    "\n",
    "\n",
    "with open('pkl_files/pklfiles_{}Gyr_sigv0.3/gd1_smooth_pepper_{}_Plummer_sigv0.3_td{}_64sampling_progphi1-40.0_MW2014.pkl'.format(td,arm,td),'rb') as savefile:\n",
    "            sdf_smooth= pickle.load(savefile,encoding='latin1')\n",
    "            sdf_pepper= pickle.load(savefile,encoding='latin1')"
   ]
  },
  {
   "cell_type": "code",
   "execution_count": 64,
   "metadata": {},
   "outputs": [],
   "source": [
    "def dndM_cdm(M,c0kpc=2.02*10**(-13),mf_slope=-1.9):\n",
    "    #c0kpc=2.02*10**(-13) #Msun^-1 kpc^-3 from Denis' paper\n",
    "    m0=2.52*10**7 #Msun from Denis' paper\n",
    "    return c0kpc*((M/m0)**mf_slope)\n",
    "\n",
    "def Einasto(r):\n",
    "    al=0.678 #alpha_shape\n",
    "    rm2=199 #kpc, see Erkal et al 1606.04946 for scaling to M^1/3\n",
    "    return numpy.exp((-2./al)*((r/rm2)**al -1.))*4*numpy.pi*(r**2)\n",
    "\n",
    "def nsub_cdm(M1,M2,r=20.,c0kpc=2.02*10**(-13),mf_slope=-1.9):\n",
    "    #number density of subhalos in kpc^-3\n",
    "    m1=10**(M1)\n",
    "    m2=10**(M2)\n",
    "    return integrate.quad(dndM_cdm,m1,m2,args=(c0kpc,mf_slope))[0]*integrate.quad(Einasto,0.,r)[0]*(8.**3.)/(4*numpy.pi*(r**3)/3) #in Galpy units\n",
    "\n",
    "def rs(m,plummer=True,rsfac=1.):\n",
    "    if plummer:\n",
    "        #print ('Plummer')\n",
    "        return 1.62*rsfac/ro*(m/10.**8.)**0.5\n",
    "    else:\n",
    "        return 1.05*rsfac/ro*(m/10.**8.)**0.5\n",
    "\n",
    "def simulate_subhalos(rand_params,sdf_pepper,mf_slope=-1.9,c0kpc=2.02*10**(-13),Xrs=5.,sigma=120./220.):\n",
    "    \n",
    "    Mbin_edge=[5.,6.,7.,8.,9.]\n",
    "    Nbins=len(Mbin_edge)-1\n",
    "    #compute number of subhalos in each mass bin and multiply rand_params\n",
    "    nden_bin=np.empty(Nbins)\n",
    "    rate_bin=np.empty(Nbins)\n",
    "    for ll in range(Nbins):\n",
    "        nden_bin[ll]=nsub_cdm(Mbin_edge[ll],Mbin_edge[ll+1],r=20.,c0kpc=c0kpc,mf_slope=mf_slope)*rand_params[ll]\n",
    "        Mmid=10**(0.5*(Mbin_edge[ll]+Mbin_edge[ll+1]))\n",
    "        rate_bin[ll]=sdf_pepper.subhalo_encounters(sigma=sigma,nsubhalo=nden_bin[ll],bmax=Xrs*rs(Mmid,plummer=True))\n",
    "\n",
    "    rate = np.sum(rate_bin)\n",
    "    rel_rate=rate_bin/rate\n",
    "    rel_rate=list(rel_rate)\n",
    "        \n",
    "    Nimpact= numpy.random.poisson(rate)\n",
    "    impact_ind_bin=np.random.choice(Nbins,Nimpact,p=rel_rate) #index of mass bin where the impact was sampled\n",
    "    \n",
    "    nimpact_bin=np.histogram(impact_ind_bin,bins=np.arange(len(Mbin_edge)))[0]\n",
    "    \n",
    "    GM_sub=[]\n",
    "    impact_angle_sub=[]\n",
    "    timpact_sub=[]\n",
    "    \n",
    "\n",
    "    for ii in range(Nbins):\n",
    "        norm= 1./quad(lambda M : ((M)**(mf_slope +0.5)),10**(Mbin_edge[ii]),10**(Mbin_edge[ii+1]))[0]\n",
    "        \n",
    "        def cdf(M):\n",
    "            return quad(lambda M : norm*(M)**(mf_slope +0.5),10**Mbin_edge[ii],M)[0]\n",
    "\n",
    "        MM=numpy.linspace(Mbin_edge[ii],Mbin_edge[ii+1],10000)\n",
    "        \n",
    "        cdfl=[cdf(i) for i in 10**MM]\n",
    "        \n",
    "        icdf= interpolate.InterpolatedUnivariateSpline(cdfl,10**MM,k=1)\n",
    "        timpacts= numpy.array(sdf_pepper._uniq_timpact)[numpy.random.choice(len(sdf_pepper._uniq_timpact),size=nimpact_bin[ii],\n",
    "                                    p=sdf_pepper._ptimpact)]\n",
    "        # Sample angles from the part of the stream that existed then\n",
    "        impact_angles= numpy.array([sdf_pepper._icdf_stream_len[ti](numpy.random.uniform())\n",
    "                for ti in timpacts])\n",
    "        sample_GM=lambda: icdf(numpy.random.uniform())/bovy_conversion.mass_in_msol(vo,ro)\n",
    "        GMs= numpy.array([sample_GM() for a in impact_angles])\n",
    "        \n",
    "        GM_sub+=list(GMs)\n",
    "        impact_angle_sub+=list(impact_angles)\n",
    "        timpact_sub+=list(timpacts)\n",
    "    \n",
    "    GM_sub=np.array(GM_sub)\n",
    "    impact_angle_sub=np.array(impact_angle_sub)\n",
    "    timpact_sub=np.array(timpact_sub)\n",
    "    \n",
    "    rs_sub= numpy.array([rs(gm) for gm in GM_sub])\n",
    "    # impact b\n",
    "    impactb_sub= (2.*numpy.random.uniform(size=len(impact_angle_sub))-1.)*Xrs*rs_sub\n",
    "    # velocity\n",
    "    subhalovel_sub= numpy.empty((len(impact_angle_sub),3))\n",
    "    for jj in range(len(timpact_sub)):\n",
    "        subhalovel_sub[jj]=sdf_pepper._draw_impact_velocities(timpact_sub[jj],sigma,impact_angle_sub[jj],n=1)[0]\n",
    "    # Flip angle sign if necessary\n",
    "    #if not sdf_pepper._gap_leading: impact_angles*= -1.\n",
    "    #angles not flipped, flip them after including angles from GMC and GC impacts     \n",
    "    return impact_angle_sub,impactb_sub,subhalovel_sub,timpact_sub,GM_sub,rs_sub     \n"
   ]
  },
  {
   "cell_type": "code",
   "execution_count": 65,
   "metadata": {},
   "outputs": [
    {
     "name": "stdout",
     "output_type": "stream",
     "text": [
      "[7.91657295 2.64391032 8.34187295 6.02828198]\n"
     ]
    }
   ],
   "source": [
    "#draw random parameters from uniform distributions that will multiply number desntiy of subhalos per mass bin\n",
    "param_min=0.1\n",
    "param_max=10.\n",
    "rand_params=numpy.random.uniform(size=4)*(param_max-param_min)+param_min\n",
    "print (rand_params)\n",
    "\n",
    "\n",
    "rand_params_fid=np.ones(4)\n",
    "\n",
    "Msub_fid=[]\n",
    "Msub=[]\n",
    "\n",
    "for jj in range(200):\n",
    "    _,_,_,_,GMsf,_ =simulate_subhalos(rand_params_fid,sdf_pepper,mf_slope=-1.9,c0kpc=2.02*10**(-13),Xrs=5.,sigma=120./220.)\n",
    "    for m in GMsf:\n",
    "        Msub_fid.append(m*bovy_conversion.mass_in_msol(vo,ro))\n",
    "        \n",
    "    _,_,_,_,GMs,_ =simulate_subhalos(rand_params,sdf_pepper,mf_slope=-1.9,c0kpc=2.02*10**(-13),Xrs=5.,sigma=120./220.)\n",
    "    for mm in GMs:\n",
    "        Msub.append(mm*bovy_conversion.mass_in_msol(vo,ro))"
   ]
  },
  {
   "cell_type": "code",
   "execution_count": 66,
   "metadata": {},
   "outputs": [
    {
     "data": {
      "image/png": "[encoded data removed]",
      "text/plain": [
       "<Figure size 432x288 with 1 Axes>"
      ]
     },
     "metadata": {
      "needs_background": "light"
     },
     "output_type": "display_data"
    }
   ],
   "source": [
    "Mbins=10**(np.array([5.,6.,7.,8.,9.]))       \n",
    "plt.figure()\n",
    "plt.hist(Msub_fid,bins=Mbins,color='r',histtype='step',label='Fid CDM')\n",
    "plt.hist(Msub,bins=Mbins,color='b',histtype='step')\n",
    "plt.xscale('log')\n",
    "plt.legend(loc='upper right')\n",
    "plt.show()\n",
    "        "
   ]
  },
  {
   "cell_type": "code",
   "execution_count": 135,
   "metadata": {},
   "outputs": [],
   "source": [
    "def dndM_cdm(M,c0kpc=2.02*10**(-13),mf_slope=-1.9):\n",
    "    #c0kpc=2.02*10**(-13) #Msun^-1 kpc^-3 from Denis' paper\n",
    "    m0=2.52*10**7 #Msun from Denis' paper\n",
    "    return c0kpc*((M/m0)**mf_slope)\n",
    "\n",
    "def Einasto(r):\n",
    "    al=0.678 #alpha_shape\n",
    "    rm2=199 #kpc, see Erkal et al 1606.04946 for scaling to M^1/3\n",
    "    return numpy.exp((-2./al)*((r/rm2)**al -1.))*4*numpy.pi*(r**2)\n",
    "\n",
    "def nsub_cdm(M1,M2,r=20.,c0kpc=2.02*10**(-13),mf_slope=-1.9):\n",
    "    #number density of subhalos in kpc^-3\n",
    "    m1=10**(M1)\n",
    "    m2=10**(M2)\n",
    "    return integrate.quad(dndM_cdm,m1,m2,args=(c0kpc,mf_slope))[0]*integrate.quad(Einasto,0.,r)[0]*(8.**3.)/(4*numpy.pi*(r**3)/3) #in Galpy units\n"
   ]
  },
  {
   "cell_type": "code",
   "execution_count": 136,
   "metadata": {},
   "outputs": [
    {
     "name": "stdout",
     "output_type": "stream",
     "text": [
      "0.0\n"
     ]
    }
   ],
   "source": [
    "def diff_func(params):\n",
    "    c0,slope=params\n",
    "    c0*=2.02*10**(-13)\n",
    "    slope*=-1.9\n",
    "    return (nsub_cdm(5.,6.,c0kpc=c0,mf_slope=slope) - nsub_cdm(5.,6.))\n",
    "\n",
    "print (diff_func([1.0,1.0]))"
   ]
  },
  {
   "cell_type": "code",
   "execution_count": 137,
   "metadata": {},
   "outputs": [
    {
     "name": "stdout",
     "output_type": "stream",
     "text": [
      " final_simplex: (array([[ 1.79373633, -4.49371094],\n",
      "       [ 1.7937485 , -4.49375606],\n",
      "       [ 1.79374761, -4.49377774]]), array([-4.24293615, -4.24293615, -4.24293615]))\n",
      "           fun: -4.242936150415076\n",
      "       message: 'Optimization terminated successfully.'\n",
      "          nfev: 82\n",
      "           nit: 26\n",
      "        status: 0\n",
      "       success: True\n",
      "             x: array([ 1.79373633, -4.49371094])\n"
     ]
    }
   ],
   "source": [
    "import scipy.optimize as optimize\n",
    "\n",
    "result = optimize.minimize(diff_func, x0=[1.01,1.01],method='nelder-mead')\n",
    "print(result)\n",
    "\n",
    "\n"
   ]
  },
  {
   "cell_type": "code",
   "execution_count": 91,
   "metadata": {},
   "outputs": [],
   "source": [
    "def dndM_cdm_func(params,M1,M2):\n",
    "    #c0kpc=2.02*10**(-13) #Msun^-1 kpc^-3 from Denis' paper\n",
    "    fac_c0,fac_slope=params\n",
    "    c0=fac_c0*2.02*10**(-13)\n",
    "    slope=fac_slope*-1.9\n",
    "    m0=2.52*10**7 #Msun from Denis' paper\n",
    "    diff = integrate.quad(dndM_cdm,10**M1,10**M2,args=(c0,slope))[0] - integrate.quad(dndM_cdm,10**M1,10**M2)[0]\n",
    "    \n",
    "    return diff\n",
    "    "
   ]
  },
  {
   "cell_type": "code",
   "execution_count": 19,
   "metadata": {},
   "outputs": [
    {
     "name": "stdout",
     "output_type": "stream",
     "text": [
      "[1.e+05 1.e+06 1.e+07 1.e+08 1.e+09]\n"
     ]
    }
   ],
   "source": [
    "    rate = np.sum(rate_bin)\n",
    "    rel_rate=rate_bin/rate\n",
    "    rel_rate=list(rel_rate)\n",
    "        \n",
    "    Nimpact= numpy.random.poisson(rate)\n",
    "    impact_ind_bin=np.random.choice(Nbins,Nimpact,p=rel_rate) #index of mass bin where the impact was sampled\n",
    "    \n",
    "    nimpact_bin=np.histogram(impact_ind_bin,bins=np.arange(len(Mbin_edge)))[0]\n",
    "    \n",
    "    GM_sub=[]\n",
    "    impact_angle_sub=[]\n",
    "    timpact_sub=[]\n",
    "    \n",
    "\n",
    "    for ii in range(Nbins):\n",
    "        norm= 1./quad(lambda M : ((M)**(mf_slope +0.5)),10**(Mbin_edge[ii]),10**(Mbin_edge[ii+1]))[0]\n",
    "        \n",
    "        def cdf(M):\n",
    "            return quad(lambda M : norm*(M)**(mf_slope +0.5),10**Mbin_edge[ii],M)[0]"
   ]
  },
  {
   "cell_type": "code",
   "execution_count": null,
   "metadata": {},
   "outputs": [],
   "source": [
    "\n",
    "\n",
    "print (rel_rate)\n",
    "\n",
    "\n",
    "\n",
    "\n",
    "print (nimpact_bin)\n",
    "\n",
    "print (impact_ind_bin)\n",
    "\n",
    "\n",
    "\n",
    "\n",
    "    \n",
    "print (nden_bin)\n",
    "print (np.sum(nden_bin))\n",
    "\n",
    "print (GMs)"
   ]
  },
  {
   "cell_type": "code",
   "execution_count": null,
   "metadata": {},
   "outputs": [],
   "source": [
    "print (np.arange(5))"
   ]
  },
  {
   "cell_type": "code",
   "execution_count": null,
   "metadata": {},
   "outputs": [],
   "source": [
    "\n",
    "  \n",
    "    \n",
    "\n",
    "\n",
    "    \n",
    "    \n",
    "print (rate_bin)  \n",
    "print (np.sum(rate_bin))\n",
    "    "
   ]
  },
  {
   "cell_type": "code",
   "execution_count": null,
   "metadata": {},
   "outputs": [],
   "source": [
    "    \n",
    "    \n",
    "\n",
    "# Parse mass\n",
    "    massrange= parse_mass(options.mass)\n",
    "    norm= 1./quad(lambda M : fac(M,options.mwdm)*((M)**(-1.9 +0.5)),10**(massrange[0]),10**(massrange[1]))[0]\n",
    "    \n",
    "    def p(M): \n",
    "        return norm*fac(M,options.mwdm)*((M)**(-1.9 + 0.5))\n",
    "\n",
    "    def cdf(M):\n",
    "        return quad(p,10**massrange[0],M)[0]\n",
    "        \n",
    "    #def icdf(M):\n",
    "            #     return quad(p,10**(massrange[0]),M)[0] - numpy.random.uniform(cdf(10**massrange[0]),cdf(10**massrange[1]))\n",
    "\n",
    "            #sample_GM= lambda: brentq(icdf,10**massrange[0],10**massrange[1])/bovy_conversion.mass_in_msol(V0,R0)\n",
    "    MM=numpy.linspace(massrange[0],massrange[1],10000)\n",
    "    cdf=[cdf(i) for i in 10**MM]\n",
    "    icdf= interpolate.InterpolatedUnivariateSpline(cdf,10**MM,k=1)\n",
    "    sample_GM=lambda: icdf(numpy.random.uniform())/bovy_conversion.mass_in_msol(V0,R0)\n",
    "    \n",
    "    \n",
    "    rate_range= numpy.arange(massrange[0]+0.5,massrange[1]+0.5,1)\n",
    "    rate= options.timescdm*numpy.sum([dNencdm(sdf_pepper,10.**r,r-0.5,r+0.5,\n",
    "                                options.mwdm,options.ravg,Xrs=options.Xrs,\n",
    "                                plummer=options.plummer,rsfac=options.rsfac,\n",
    "                                sigma=options.sigma)\n",
    "                        for r in rate_range])\n",
    "    \n",
    "    print (\"Using an overall rate of %f\" % rate)\n",
    "    "
   ]
  },
  {
   "cell_type": "code",
   "execution_count": null,
   "metadata": {},
   "outputs": [],
   "source": [
    "################# SUBHALO STUFF ############################################################################\n",
    "\n",
    "Xrs = 5.    \n",
    "\"-M\",dest='mass',default='6.5',\n",
    "                      help=\"Mass or mass range to consider; given as log10(mass)\")\n",
    "                      \n",
    "    parser.add_option(\"--subhalo_mf_ind\",dest='subhalo_mf_ind',default=-1.9,type='float',\n",
    "                      help=\"slope of subhalo m/f\")                  \n",
    "                      \n",
    "    parser.add_option(\"--mwdm\",dest='mwdm',default=1.5,type='float',\n",
    "                      help=\"Mass of WDM in keV\") \n",
    "                      \n",
    "    parser.add_option(\"--ravg\",dest='ravg',default=24.,type='float',\n",
    "                      help=\"r_avg of the stream in kpc\")                  \n",
    "                     \n",
    "    parser.add_option(\"--cutoff\",dest='cutoff',default=None,type='float',\n",
    "                      help=\"Log10 mass cut-off in power-spectrum\")\n",
    "                      \n",
    "    parser.add_option(\"--massexp\",dest='massexp',default=-2.,type='float',\n",
    "                      help=\"Exponent of the mass spectrum (doesn't work with cutoff)\")\n",
    "                      \n",
    "    parser.add_option(\"--ratemin\",dest='ratemin',default=-1.,type='float',\n",
    "                      help=\"minimum timescdm\")\n",
    "                      \n",
    "    parser.add_option(\"--ratemax\",dest='ratemax',default=1.,type='float',\n",
    "                      help=\"maximum timescdm\")\n",
    "                      \n",
    "    parser.add_option(\"--rsfac\",dest='rsfac',default=1.,type='float',\n",
    "                      help=\"Use a r_s(M) relation that is a factor of rsfac different from the fiducial one\")\n",
    "                      \n",
    "    parser.add_option(\"--plummer\",action=\"store_true\", \n",
    "                      dest=\"plummer\",default=False,\n",
    "                      help=\"If set, use a Plummer DM profile rather than Hernquist\")\n",
    "                                               \n",
    "    parser.add_option(\"--sigma\",dest='sigma',default=120.,type='float',\n",
    "                      help=\"Velocity dispersion of the population of DM subhalos\")\n",
    "    "
   ]
  },
  {
   "cell_type": "code",
   "execution_count": null,
   "metadata": {},
   "outputs": [],
   "source": [
    "def nsubhalo(m):\n",
    "    return 0.3*(10.**6.5/m)\n",
    "\n",
    "def rs(m,plummer=True,rsfac=1.):\n",
    "    if plummer:\n",
    "        print ('Plummer')\n",
    "        return 1.62*rsfac/ro*(m/10.**8.)**0.5\n",
    "    else:\n",
    "        return 1.05*rsfac/ro*(m/10.**8.)**0.5\n",
    "\n",
    "nu=1.12\n",
    "OmDM=0.2589\n",
    "h=0.6774\n",
    "c0Mpc=2.02*10**(-4) #Msun^-1 Mpc^-3\n",
    "c0kpc=2.02*10**(-13) #Msun^-1 kpc^-3\n",
    "m0=2.52*10**7 #Msun\n",
    "beta=-0.99\n",
    "gamma=2.7\n",
    "mf_slope=-1.9\n",
    "al=0.678 #alpha_shape\n",
    "rm2=199 #kpc, see Erkal et al 1606.04946 for scaling to M^1/3\n",
    "Om_m=0.3089\n",
    "rho_c=1.27*10**11 #Msun/Mpc^3 \n",
    "#r=25.\n",
    "\n",
    "rho_bar=Om_m*rho_c\n",
    "#print rho_bar\n",
    "\n",
    "def alpha(m_wdm):\n",
    "    return (0.048/h)*(m_wdm)**(-1.11) #in Mpc , m_wdm in keV\n",
    "\n",
    "def lambda_hm(m_wdm):\n",
    "    return 2*numpy.pi*alpha(m_wdm)/(2**(nu/5.) - 1.)**(1/(2*nu))\n",
    "\n",
    "def M_hm(m_wdm):\n",
    "    return (4*numpy.pi/3)*rho_bar*(lambda_hm(m_wdm)/2.)**3\n",
    "\n",
    "def Einasto(r):\n",
    "    return numpy.exp((-2./al)*((r/rm2)**al -1.))*4*numpy.pi*(r**2)\n",
    "\n",
    "def dndM_cdm(M):\n",
    "    return c0kpc*((M/m0)**mf_slope)\n",
    "\n",
    "def fac(M,m_wdm):\n",
    "    return (1.+gamma*(M_hm(m_wdm)/M))**beta\n",
    "    \n",
    "def dndM_wdm(M,m_wdm):\n",
    "    return fac(M,m_wdm)*dndM_cdm(M)\n",
    "\n",
    "def nsub_cdm(M1,M2,r):\n",
    "    m1=10**(M1)\n",
    "    m2=10**(M2)\n",
    "    return integrate.quad(dndM_cdm,m1,m2)[0]*integrate.quad(Einasto,0.,r)[0]*(8.**3.)/(4*numpy.pi*(r**3)/3) #in Galpy units\n",
    "\n",
    "def nsub_wdm(M1,M2,m_wdm,r):\n",
    "    m1=10**(M1)\n",
    "    m2=10**(M2)\n",
    "    return integrate.quad(dndM_wdm,m1,m2,args=(m_wdm))[0]*integrate.quad(Einasto,0.,r)[0]*(8.**3)/(4*numpy.pi*(r**3)/3) #in Galpy units    \n",
    "    \n",
    "\n",
    "def dNencdm(sdf_pepper,m,M1,M2,m_wdm,ravg,Xrs=3.,plummer=True,rsfac=1.,sigma=120.): #m for sampling r_s, until fixed\n",
    "     return sdf_pepper.subhalo_encounters(sigma=sigma/vo,nsubhalo=nsub_wdm(M1,M2,m_wdm,ravg),bmax=Xrs*rs(m,plummer=plummer,rsfac=rsfac))\n",
    "\n",
    "def powerlaw_wcutoff(massrange,cutoff):\n",
    "    accept= False\n",
    "    while not accept:\n",
    "        prop= (10.**-(massrange[0]/2.)+(10.**-(massrange[1]/2.)\\\n",
    "                         -10.**(-massrange[0]/2.))\\\n",
    "                   *numpy.random.uniform())**-2.\n",
    "        if numpy.random.uniform() < numpy.exp(-10.**cutoff/prop):\n",
    "            accept= True\n",
    "    return prop/bovy_conversion.mass_in_msol(vo,ro)"
   ]
  },
  {
   "cell_type": "code",
   "execution_count": null,
   "metadata": {},
   "outputs": [],
   "source": [
    "rrrr= [dNencdm(sdf_pepper,10**(Mbins[jj]+0.5),Mbins[jj],Mbins[jj+1],10**6.,20.,Xrs=5.,plummer=True,rsfac=1.,sigma=120.) for jj in range(4)]\n",
    "\n",
    "print (rrrr, np.sum(rrrr))"
   ]
  },
  {
   "cell_type": "code",
   "execution_count": null,
   "metadata": {},
   "outputs": [],
   "source": [
    "print (10*3/3)"
   ]
  },
  {
   "cell_type": "code",
   "execution_count": null,
   "metadata": {},
   "outputs": [],
   "source": [
    "nimpact= numpy.random.poisson(63.56)\n",
    "print (nimpact)"
   ]
  },
  {
   "cell_type": "code",
   "execution_count": null,
   "metadata": {},
   "outputs": [],
   "source": []
  }
 ],
 "metadata": {
  "kernelspec": {
   "display_name": "Python 3",
   "language": "python",
   "name": "python3"
  },
  "language_info": {
   "codemirror_mode": {
    "name": "ipython",
    "version": 3
   },
   "file_extension": ".py",
   "mimetype": "text/x-python",
   "name": "python",
   "nbconvert_exporter": "python",
   "pygments_lexer": "ipython3",
   "version": "3.7.1"
  }
 },
 "nbformat": 4,
 "nbformat_minor": 2
}
