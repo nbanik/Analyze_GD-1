{
 "cells": [
  {
   "cell_type": "code",
   "execution_count": 1,
   "metadata": {},
   "outputs": [
    {
     "name": "stdout",
     "output_type": "stream",
     "text": [
      "Populating the interactive namespace from numpy and matplotlib\n"
     ]
    }
   ],
   "source": [
    "import numpy as np\n",
    "import pickle\n",
    "from astropy.io import fits\n",
    "from numpy.polynomial import Polynomial\n",
    "import matplotlib.pyplot as plt\n",
    "from galpy.util import bovy_conversion, bovy_coords, save_pickles, bovy_plot\n",
    "from galpy.potential import MWPotential2014, turn_physical_off, vcirc\n",
    "import astropy.units as u\n",
    "%pylab inline\n",
    "from galpy.orbit import Orbit\n",
    "from scipy import ndimage, signal, interpolate\n",
    "import gd1_util\n",
    "import GMC_util\n",
    "import os\n",
    "\n",
    "ro=8.\n",
    "vo=220.\n"
   ]
  },
  {
   "cell_type": "markdown",
   "metadata": {},
   "source": [
    "### Test whether very old impacts are important. To do this, we will impact a mock GD-1 stream by subhalos at ~7 Gyr and compute the density today."
   ]
  },
  {
   "cell_type": "code",
   "execution_count": 2,
   "metadata": {},
   "outputs": [
    {
     "name": "stdout",
     "output_type": "stream",
     "text": [
      "[0.5 1.  2.  3.  4.  5.  6.  7.  7.5 8.  8.5]\n"
     ]
    }
   ],
   "source": [
    "ro=8.\n",
    "vo=220.\n",
    "\n",
    "def parse_times(times,age,ro,vo):\n",
    "    if 'sampling' in times:\n",
    "        nsam= int(times.split('sampling')[0])\n",
    "        return [float(ti)/bovy_conversion.time_in_Gyr(vo,ro)\n",
    "                for ti in numpy.arange(1,nsam+1)/(nsam+1.)*age]\n",
    "    return [float(ti)/bovy_conversion.time_in_Gyr(vo,ro)\n",
    "            for ti in times.split(',')]\n",
    "            \n",
    "timpacts= parse_times('0.5,1.,2.,3.,4.,5.,6.,7.,7.5,8.,8.5',9.,ro=ro,vo=vo)\n",
    "\n",
    "print (np.array(timpacts)*bovy_conversion.time_in_Gyr(vo,ro))"
   ]
  },
  {
   "cell_type": "code",
   "execution_count": 3,
   "metadata": {},
   "outputs": [
    {
     "name": "stdout",
     "output_type": "stream",
     "text": [
      "galpyWarning: In versions >1.3, the output unit of streamdf.misalignment has been changed to radian (from degree before)\n"
     ]
    }
   ],
   "source": [
    "sdf_smooth= gd1_util.setup_gd1model()\n"
   ]
  },
  {
   "cell_type": "code",
   "execution_count": 74,
   "metadata": {},
   "outputs": [
    {
     "name": "stdout",
     "output_type": "stream",
     "text": [
      "[46, 52, 65, 25, 39]\n"
     ]
    }
   ],
   "source": [
    "#randomly pick N stream chunk indices\n",
    "\n",
    "N=5\n",
    "import random\n",
    "\n",
    "ind=random.sample(range(1,80),N)\n",
    "    \n",
    "print (ind)"
   ]
  },
  {
   "cell_type": "code",
   "execution_count": 77,
   "metadata": {},
   "outputs": [
    {
     "name": "stdout",
     "output_type": "stream",
     "text": [
      "[0.5 1.  2.  3.  4.  5.  6.  7.  7.5 8.  8.5]\n",
      "[[0.50774734 0.76059817 0.77518257]\n",
      " [0.51746092 1.122752   0.71071795]\n",
      " [0.30194483 0.63354015 0.71739849]\n",
      " [0.54523666 0.85936937 0.68260914]\n",
      " [0.44831973 1.11306152 0.72114799]]\n",
      "[0.22875653755128114, 0.2585943467971004, 0.3232429334963755, 0.12432420519091365, 0.1939457600978253] [0.0875, 0.0875, 0.0875, 0.0875, 0.0875] [1.383286638995959e-07, 1.383286638995959e-07, 1.383286638995959e-07, 1.383286638995959e-07, 1.383286638995959e-07] [0.00011107740883445186, 0.00011107740883445186, 0.00011107740883445186, 0.00011107740883445186, 0.00011107740883445186]\n"
     ]
    }
   ],
   "source": [
    "pepperfilename='GD1_oldimpactstest_MW2014_leadingarm.pkl'\n",
    "if os.path.exists(pepperfilename):\n",
    "    with open(pepperfilename,'rb') as savefile:\n",
    "        sdf_pepper= pickle.load(savefile,encoding='latin1')\n",
    "else:\n",
    "    \n",
    "    sdf_pepper= gd1_util.setup_gd1model(timpact=timpacts)\n",
    "    save_pickles(pepperfilename,sdf_pepper)\n",
    "\n",
    "print (sdf_pepper._timpact*bovy_conversion.time_in_Gyr(vo,ro))\n",
    "\n",
    "apar_full,x_full,y_full,z_full,vx_full,vy_full,vz_full = GMC_util.aparxv_stream(sdf_smooth,sdf_pepper)\n",
    "\n",
    "tim_ind=1 # 1 Gyr ago\n",
    "\n",
    "\n",
    "\n",
    "vsub=np.empty((len(ind),3))\n",
    "apar_imp=[]\n",
    "\n",
    "for ii in range(len(ind)):\n",
    "    vx=vx_full[tim_ind][ind[ii]] + 0.1*random.random()*random.randint(-5, 5)\n",
    "    vy=vy_full[tim_ind][ind[ii]] + 0.1*random.random()*random.randint(-5, 5)\n",
    "    vz=vz_full[tim_ind][ind[ii]] + 0.1*random.random()*random.randint(-5, 5)\n",
    "    vsub[ii]=np.c_[vx,vy,vz]\n",
    "    apar_imp.append(apar_full[tim_ind][ind[ii]])\n",
    "\n",
    "print (vsub)\n",
    "\n",
    "\n",
    "M_imp=list(np.ones(len(ind))*(10**7.)/bovy_conversion.mass_in_msol(vo,ro))\n",
    "\n",
    "def rs(M):\n",
    "    return 1.05*(M/10**8.)**(0.5)\n",
    "\n",
    "rs_imp=[rs(m)/8. for m in M_imp]\n",
    "\n",
    "timp=sdf_pepper._timpact[tim_ind]\n",
    "\n",
    "impactb=list(0.7*np.ones(len(ind))/8.)\n",
    "\n",
    "#impactb=np.array(rs_imp)*5.\n",
    "\n",
    "print (apar_imp,impactb,rs_imp,M_imp)"
   ]
  },
  {
   "cell_type": "code",
   "execution_count": 78,
   "metadata": {},
   "outputs": [
    {
     "name": "stdout",
     "output_type": "stream",
     "text": [
      "[1.03870996 1.0853565  1.17340081 1.31577918 1.51357407 1.75083539\n",
      " 1.99930573 2.2322932  2.43844336 2.62370912 2.79605541 2.940311\n",
      " 3.00411544 2.91632809 2.6348649  2.18771143 1.66825243 1.18577246\n",
      " 0.81223065 0.56322597 0.42843743 0.34452249 0.29631581 0.2661822\n",
      " 0.24522222 0.22936492 0.21674183 0.20639673 0.19776133 0.19046851\n",
      " 0.18427398 0.17899498 0.17447361 0.17058531 0.16725704 0.16444762\n",
      " 0.16210698 0.1601687  0.15858217 0.15733553 0.15643743 0.15588216\n",
      " 0.15564076 0.1556856  0.15601797 0.15666693 0.15765995 0.15899985\n",
      " 0.16067813 0.16271056 0.16514871 0.16805155 0.1714591  0.17540864\n",
      " 0.17997051 0.18525344 0.19138274 0.19849837 0.20678481 0.21650146\n",
      " 0.22800698 0.2418175  0.25874335 0.28013155 0.30822091 0.34655576\n",
      " 0.40032701 0.47650854 0.58367289 0.75095797 0.94569037 1.18883071\n",
      " 1.46804162 1.75492392 2.01012608 2.19692159 2.2963168  2.31408214\n",
      " 2.27553056 2.21262285 2.15215812 2.11087455 2.09737382 2.11684235\n",
      " 2.17375757 2.2687505  2.38849292 2.4937589  2.54882669 2.42356126\n",
      " 2.11830358 1.67030864 1.17395206 0.7324222  0.40894047 0.21111573\n",
      " 0.10918822 0.1134201  0.09320607 0.08408944 0.07873675 0.07453112\n",
      " 0.0707042  0.14587227 0.13389636 0.12262493 0.27573157 0.23430629\n",
      " 0.73468234 0.46434161 0.21675865 0.33856728 0.70204448 1.11025571\n",
      " 1.47979934 1.72762139 1.81311817 1.75824995 1.62132782 1.46188599\n",
      " 1.31784209 1.20166283 1.11094253 1.03961537 0.98062463 0.92949218\n",
      " 0.88278939 0.83942566 0.79902499 0.76222943 0.72887144 0.69875034\n",
      " 0.67077634 0.6442932  0.61820574 0.59208357 0.56512999 0.53746763\n",
      " 0.50912637 0.48107844 0.45425589 0.42917015 0.4061533  0.38480542\n",
      " 0.3649204  0.34594516 0.32778363 0.31033391 0.29353554 0.27731264]\n"
     ]
    },
    {
     "data": {
      "image/png": "[encoded data removed]",
      "text/plain": [
       "<Figure size 432x288 with 1 Axes>"
      ]
     },
     "metadata": {},
     "output_type": "display_data"
    }
   ],
   "source": [
    "#import streampepperdf\n",
    "\n",
    "sdf_pepper.set_impacts(impactb=impactb,subhalovel=vsub,impact_angle=apar_imp,timpact=[timp],rs=rs_imp,GM=M_imp)\n",
    "\n",
    "apar=np.linspace(0.03,1.14,150)\n",
    "\n",
    "dens_unp=[]\n",
    "dens=[]\n",
    "omega_unp=[]\n",
    "omega=[]\n",
    "\n",
    "for a in apar :\n",
    "    dens_unp.append(sdf_smooth._density_par(a))\n",
    "    omega_unp.append(sdf_smooth.meanOmega(a,oned=True))\n",
    "    dens.append(sdf_pepper._densityAndOmega_par_approx(a)[0])\n",
    "    omega.append(sdf_pepper._densityAndOmega_par_approx(a)[1])\n",
    "    \n",
    "#sdf_pepper._dens_unp/numpy.sum(sdf_pepper._dens_unp)/(xs[1]-xs[0])\n",
    "dens_unp=np.array(dens_unp)\n",
    "dens=np.array(dens)\n",
    "omega=np.array(omega)\n",
    "\n",
    "print (dens)\n",
    "\n",
    "plt.figure()\n",
    "plt.plot(apar,dens/np.sum(dens)/(apar[1]-apar[0]),c='r')\n",
    "plt.plot(apar,dens_unp/np.sum(dens_unp)/(apar[1]-apar[0]),label='smooth')\n",
    "plt.legend(loc='lower left')\n",
    "\n",
    "plt.show()\n"
   ]
  },
  {
   "cell_type": "code",
   "execution_count": 79,
   "metadata": {},
   "outputs": [
    {
     "name": "stdout",
     "output_type": "stream",
     "text": [
      "[0.5 1.  2.  3.  4.  5.  6.  7.  7.5 8.  8.5]\n",
      "[[ 0.84146891 -0.52394283  0.10900311]\n",
      " [ 0.5766097  -0.56008195  0.64686777]\n",
      " [ 0.98566732 -0.48275685  0.30979803]\n",
      " [ 0.6620215  -0.50478827  0.23505676]\n",
      " [ 0.65921385 -0.28339158  0.53604686]]\n",
      "[0.071846853705707, 0.08121818244992965, 0.10152272806241207, 0.03904720310092772, 0.06091363683744724] [0.0875, 0.0875, 0.0875, 0.0875, 0.0875] [1.383286638995959e-07, 1.383286638995959e-07, 1.383286638995959e-07, 1.383286638995959e-07, 1.383286638995959e-07] [0.00011107740883445186, 0.00011107740883445186, 0.00011107740883445186, 0.00011107740883445186, 0.00011107740883445186]\n"
     ]
    }
   ],
   "source": [
    "pepperfilename='GD1_oldimpactstest_MW2014_leadingarm.pkl'\n",
    "if os.path.exists(pepperfilename):\n",
    "    with open(pepperfilename,'rb') as savefile:\n",
    "        sdf_pepper= pickle.load(savefile,encoding='latin1')\n",
    "else:\n",
    "    \n",
    "    sdf_pepper= gd1_util.setup_gd1model(timpact=timpacts)\n",
    "    save_pickles(pepperfilename,sdf_pepper)\n",
    "\n",
    "print (sdf_pepper._timpact*bovy_conversion.time_in_Gyr(vo,ro))\n",
    "\n",
    "apar_full,x_full,y_full,z_full,vx_full,vy_full,vz_full = GMC_util.aparxv_stream(sdf_smooth,sdf_pepper)\n",
    "\n",
    "tim_ind=9 # 8 Gyr ago\n",
    "\n",
    "\n",
    "\n",
    "vsub=np.empty((len(ind),3))\n",
    "apar_imp=[]\n",
    "\n",
    "for ii in range(len(ind)):\n",
    "    vx=vx_full[tim_ind][ind[ii]] + 0.1*random.random()*random.randint(-5, 5)\n",
    "    vy=vy_full[tim_ind][ind[ii]] + 0.1*random.random()*random.randint(-5, 5)\n",
    "    vz=vz_full[tim_ind][ind[ii]] + 0.1*random.random()*random.randint(-5, 5)\n",
    "    vsub[ii]=np.c_[vx,vy,vz]\n",
    "    apar_imp.append(apar_full[tim_ind][ind[ii]])\n",
    "\n",
    "print (vsub)\n",
    "\n",
    "\n",
    "M_imp=list(np.ones(len(ind))*(10**7.)/bovy_conversion.mass_in_msol(vo,ro))\n",
    "\n",
    "def rs(M):\n",
    "    return 1.05*(M/10**8.)**(0.5)\n",
    "\n",
    "rs_imp=[rs(m)/8. for m in M_imp]\n",
    "\n",
    "timp=sdf_pepper._timpact[tim_ind]\n",
    "\n",
    "impactb=list(0.7*np.ones(len(ind))/8.)\n",
    "\n",
    "#impactb=np.array(rs_imp)*5.\n",
    "\n",
    "print (apar_imp,impactb,rs_imp,M_imp)"
   ]
  },
  {
   "cell_type": "code",
   "execution_count": 80,
   "metadata": {},
   "outputs": [
    {
     "name": "stdout",
     "output_type": "stream",
     "text": [
      "[1.03951026 1.04217352 1.04491633 1.04773198 1.05061226 1.05354888\n",
      " 1.05653257 1.05955332 1.06260074 1.06566307 1.06872889 1.07178612\n",
      " 1.07482235 1.07782498 1.08078154 1.08367878 1.08650447 1.08924632\n",
      " 1.09189238 1.09443152 1.09685208 1.09914428 1.10129868 1.10330672\n",
      " 1.10516122 1.10685453 1.10838161 1.10973798 1.11092031 1.11192636\n",
      " 1.11275554 1.1134068  1.11388188 1.11418301 1.11431343 1.11427731\n",
      " 1.1140805  1.11372703 1.1132245  1.11258011 1.11180161 1.11089712\n",
      " 1.10987499 1.10874423 1.10751341 1.1061913  1.10478653 1.10330883\n",
      " 1.10176338 1.10015942 1.09850414 1.09680411 1.09506526 1.09329353\n",
      " 1.0914915  1.08966359 1.08781232 1.08593921 1.08404476 1.08212915\n",
      " 1.08018887 1.07822198 1.07622442 1.07419091 1.07211494 1.06998876\n",
      " 1.06780395 1.06554886 1.06321275 1.06078288 1.05824528 1.05558478\n",
      " 1.05278558 1.04982897 1.04669713 1.04337052 1.03982868 1.03605034\n",
      " 1.03201384 1.02769562 1.02307305 1.01812261 1.01282062 1.00714337\n",
      " 1.00106742 0.99456932 0.98762658 0.98021734 0.97232077 0.96391726\n",
      " 0.9549883  0.94551827 0.93549223 0.92489784 0.91372515 0.90196681\n",
      " 0.88961824 0.87667707 0.8631467  0.84903085 0.83433766 0.81907873\n",
      " 0.8032691  0.78692578 0.77007453 0.75273872 0.73494715 0.71673177\n",
      " 0.69812757 0.6791697  0.65990482 0.64037219 0.62061659 0.6006845\n",
      " 0.58062377 0.5604792  0.54030986 0.52016035 0.50008041 0.48011932\n",
      " 0.4603255  0.44074035 0.42142315 0.40241024 0.38374328 0.36546148\n",
      " 0.34760136 0.33018861 0.31327212 0.29686903 0.28100326 0.26569534\n",
      " 0.25096229 0.23680767 0.22326521 0.21032862 0.19800143 0.18628402\n",
      " 0.17517378 0.16465318 0.15474291 0.14541628 0.13666055 0.12846098\n",
      " 0.12080106 0.11364921 0.10701918 0.10087162 0.09518527 0.08993822]\n"
     ]
    },
    {
     "data": {
      "image/png": "[encoded data removed]",
      "text/plain": [
       "<Figure size 432x288 with 1 Axes>"
      ]
     },
     "metadata": {},
     "output_type": "display_data"
    }
   ],
   "source": [
    "#import streampepperdf\n",
    "\n",
    "sdf_pepper.set_impacts(impactb=impactb,subhalovel=vsub,impact_angle=apar_imp,timpact=[timp],rs=rs_imp,GM=M_imp)\n",
    "\n",
    "apar=np.linspace(0.03,1.14,150)\n",
    "\n",
    "dens_unp=[]\n",
    "dens=[]\n",
    "omega_unp=[]\n",
    "omega=[]\n",
    "\n",
    "for a in apar :\n",
    "    dens_unp.append(sdf_smooth._density_par(a))\n",
    "    omega_unp.append(sdf_smooth.meanOmega(a,oned=True))\n",
    "    dens.append(sdf_pepper._densityAndOmega_par_approx(a)[0])\n",
    "    omega.append(sdf_pepper._densityAndOmega_par_approx(a)[1])\n",
    "    \n",
    "#sdf_pepper._dens_unp/numpy.sum(sdf_pepper._dens_unp)/(xs[1]-xs[0])\n",
    "dens_unp=np.array(dens_unp)\n",
    "dens=np.array(dens)\n",
    "omega=np.array(omega)\n",
    "\n",
    "print (dens)\n",
    "\n",
    "plt.figure()\n",
    "plt.plot(apar,dens/np.sum(dens)/(apar[1]-apar[0]),c='r')\n",
    "plt.plot(apar,dens_unp/np.sum(dens_unp)/(apar[1]-apar[0]),label='smooth')\n",
    "plt.legend(loc='lower left')\n",
    "\n",
    "plt.show()\n"
   ]
  },
  {
   "cell_type": "code",
   "execution_count": 28,
   "metadata": {},
   "outputs": [
    {
     "name": "stdout",
     "output_type": "stream",
     "text": [
      "[357.88130513 357.29679824 356.70656601 356.1105668  355.50876962\n",
      " 354.90113958 354.28764656 353.66826385 353.04296737 352.4117336\n",
      " 351.7745479  351.13139009 350.48225601 349.82713003 349.16601618\n",
      " 348.49890923 347.82581766 347.14674903 346.46171781 345.7707433\n",
      " 345.07384866 344.37106444 343.66242361 342.94796771 342.22774225\n",
      " 341.50179947 340.77019633 340.03299807 339.29027434 338.54210378\n",
      " 337.78856558 337.02975494 336.26576386 335.4967009  334.72266995\n",
      " 333.94379504 333.16019337 332.3720018  331.57935311 330.78239465\n",
      " 329.98127618 329.17615401 328.36719566 327.55456644 326.73844714\n",
      " 325.91901722 325.09646418 324.27098353 323.44277174 322.61203261\n",
      " 321.77897631 320.94381072 320.10675657 319.2680305  318.42785692\n",
      " 317.5864606  316.7440712  315.90091531 315.05723    314.21324116\n",
      " 313.36918917 312.52530029 311.68181506 310.83895847 309.99697012\n",
      " 309.15607077 308.31649841 307.47846775 306.64221159 305.80794058\n",
      " 304.97587889 304.14622964 303.31920944 302.49501192 301.67384526\n",
      " 300.8558903  300.04134743 299.23038472 298.42319148 297.61992255\n",
      " 296.82075024 296.02583413 295.23531543 294.44934587 293.66805492\n",
      " 292.89157726 292.12003072 291.35353901 290.59220178 289.83613253\n",
      " 289.08541625 288.34015038 287.60040883 286.86627761 286.1378146\n",
      " 285.41509382 284.69816173 283.98707912 283.28188098 282.58261671\n",
      " 281.88930919 281.20199823 280.52069412 279.84542867 279.17620109\n",
      " 278.51303281 277.85591483 277.20486151 276.55985305 275.92089692\n",
      " 275.28796423 274.66105739 274.04013873 273.42520547 272.81621482\n",
      " 272.21315518 271.61597804 271.02466824 270.43917336 269.85947313\n",
      " 269.28551112 268.71726205 268.15466426 267.59769218 267.04627838\n",
      " 266.50039877 265.95998094 265.42498607 264.89536902 264.37106204\n",
      " 263.85202987 263.3382004  262.82953905 262.3259704  261.82745863\n",
      " 261.33392827 260.84534397 260.36162871 259.88274576 259.4086175\n",
      " 258.93921005 258.4744446  258.0142858  257.55865508 257.10751815\n",
      " 256.66079893 256.2184629  255.78042878 255.34666545 254.9170902 ]\n",
      "[-105.0829098  -104.65333455 -104.21957122 -103.7815371  -103.33920107\n",
      " -102.89248185 -102.44134492 -101.9857142  -101.5255554  -101.06078995\n",
      " -100.5913825  -100.11725424  -99.63837129  -99.15465603  -98.66607173\n",
      "  -98.17254137  -97.6740296   -97.17046095  -96.6617996   -96.14797013\n",
      "  -95.62893796  -95.10463098  -94.57501393  -94.04001906  -93.49960123\n",
      "  -92.95372162  -92.40230782  -91.84533574  -91.28273795  -90.71448888\n",
      "  -90.14052687  -89.56082664  -88.97533176  -88.38402196  -87.78684482\n",
      "  -87.18378518  -86.57479453  -85.95986127  -85.33894261  -84.71203577\n",
      "  -84.07910308  -83.44014695  -82.79513849  -82.14408517  -81.48696719\n",
      "  -80.82379891  -80.15457133  -79.47930588  -78.79800177  -78.11069081\n",
      "  -77.41738329  -76.71811902  -76.01292088  -75.30183827  -74.58490618\n",
      "  -73.8621854   -73.13372239  -72.39959117  -71.65984962  -70.91458375\n",
      "  -70.16386747  -69.40779822  -68.64646099  -67.87996928  -67.10842274\n",
      "  -66.33194508  -65.55065413  -64.76468457  -63.97416587  -63.17924976\n",
      "  -62.38007745  -61.57680852  -60.76961528  -59.95865257  -59.1441097\n",
      "  -58.32615474  -57.50498808  -56.68079056  -55.85377036  -55.02412111\n",
      "  -54.19205942  -53.35778841  -52.52153225  -51.68350159  -50.84392923\n",
      "  -50.00302988  -49.16104153  -48.31818494  -47.47469971  -46.63081083\n",
      "  -45.78675884  -44.94277     -44.09908469  -43.2559288   -42.4135394\n",
      "  -41.57214308  -40.7319695   -39.89324343  -39.05618928  -38.22102369\n",
      "  -37.38796739  -36.55722826  -35.72901647  -34.90353582  -34.08098278\n",
      "  -33.26155286  -32.44543356  -31.63280434  -30.82384599  -30.01872382\n",
      "  -29.21760535  -28.42064689  -27.6279982   -26.83980663  -26.05620496\n",
      "  -25.27733005  -24.5032991   -23.73423614  -22.97024506  -22.21143442\n",
      "  -21.45789622  -20.70972566  -19.96700193  -19.22980367  -18.49820053\n",
      "  -17.77225775  -17.05203229  -16.33757639  -15.62893556  -14.92615134\n",
      "  -14.2292567   -13.53828219  -12.85325097  -12.17418234  -11.50109077\n",
      "  -10.83398382  -10.17286997   -9.51774399   -8.86860991   -8.2254521\n",
      "   -7.5882664    -6.95703263   -6.33173615   -5.71235344   -5.09886042\n",
      "   -4.49123038   -3.8894332    -3.29343399   -2.70320176   -2.11869487]\n"
     ]
    }
   ],
   "source": [
    "from gd1_util_MWhaloshape import lb_to_phi12\n",
    "\n",
    "def convert_dens_to_obs(apars,dens,dens_smooth,mO,poly_deg=3,poly_norm=True):\n",
    "    \"\"\"\n",
    "    NAME:\n",
    "        convert_dens_to_obs\n",
    "    PURPOSE:\n",
    "        Convert track to observed coordinates\n",
    "    INPUT:\n",
    "        apars - parallel angles\n",
    "        dens - density(apars)\n",
    "        dens_smooth - smooth-stream density(apars)\n",
    "        mO= (None) mean parallel frequency (1D) \n",
    "            [needs to be set to get density on same grid as track]\n",
    "        poly_deg= (3) degree of the polynomial to fit for the 'smooth' stream\n",
    "    OUTPUT:\n",
    "        (xi,dens/smooth)\n",
    "    \"\"\"\n",
    "    mT= sdf_pepper.meanTrack(apars,_mO=mO,coord='lb')\n",
    "    #outll= numpy.linspace(numpy.amin(mT[0]),numpy.amax(mT[0]),len(apars))\n",
    "    phi12=lb_to_phi12(mT[0],mT[1],degree=True)\n",
    "    phi1 = phi12[:,0]\n",
    "    \n",
    "    print (phi1)\n",
    "    phi1[phi1 > 180.] -=360.\n",
    "    phi1 = phi1[::-1]\n",
    "    print (phi1)\n",
    "    ipphi1= interpolate.InterpolatedUnivariateSpline(phi1,apars)\n",
    "    \n",
    "    #pp= Polynomial.fit(apars,dens,deg=3)\n",
    "    outphi1= numpy.linspace(-60.,-5.,300)\n",
    "    # Interpolate density\n",
    "    #ppa=np.array([pp(a) for a in apars])\n",
    "    ipdens= interpolate.InterpolatedUnivariateSpline(apars,dens/dens_smooth)\n",
    "    return (outphi1,ipdens(ipphi1(outphi1)))\n",
    "\n",
    "phi1,denss=convert_dens_to_obs(apar,dens,dens_unp,omega)\n",
    "\n",
    "#print (phi1,denss)\n",
    "    "
   ]
  },
  {
   "cell_type": "code",
   "execution_count": 10,
   "metadata": {},
   "outputs": [
    {
     "data": {
      "image/png": "[encoded data removed]",
      "text/plain": [
       "<Figure size 432x288 with 1 Axes>"
      ]
     },
     "metadata": {},
     "output_type": "display_data"
    }
   ],
   "source": [
    "plt.figure()\n",
    "plt.plot(phi1,denss)\n",
    "plt.show()"
   ]
  }
 ],
 "metadata": {
  "kernelspec": {
   "display_name": "Python 3",
   "language": "python",
   "name": "python3"
  },
  "language_info": {
   "codemirror_mode": {
    "name": "ipython",
    "version": 3
   },
   "file_extension": ".py",
   "mimetype": "text/x-python",
   "name": "python",
   "nbconvert_exporter": "python",
   "pygments_lexer": "ipython3",
   "version": "3.6.5"
  }
 },
 "nbformat": 4,
 "nbformat_minor": 2
}
