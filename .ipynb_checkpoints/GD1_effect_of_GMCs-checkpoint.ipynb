{
 "cells": [
  {
   "cell_type": "code",
   "execution_count": 1,
   "metadata": {},
   "outputs": [
    {
     "name": "stdout",
     "output_type": "stream",
     "text": [
      "Populating the interactive namespace from numpy and matplotlib\n"
     ]
    }
   ],
   "source": [
    "import numpy as np\n",
    "import pickle\n",
    "from astropy.io import fits\n",
    "from numpy.polynomial import Polynomial\n",
    "import matplotlib.pyplot as plt\n",
    "from galpy.util import bovy_conversion, bovy_coords, save_pickles, bovy_plot\n",
    "from galpy.potential import MWPotential2014, turn_physical_off, vcirc\n",
    "import astropy.units as u\n",
    "%pylab inline\n",
    "from galpy.orbit import Orbit\n",
    "from scipy import ndimage, signal, interpolate\n",
    "import gd1_util\n",
    "import GMC_util\n"
   ]
  },
  {
   "cell_type": "markdown",
   "metadata": {},
   "source": [
    "### Test whether very old impacts are important. To do this, we will impact a mock GD-1 stream by subhalos at ~7 Gyr and compute the density today."
   ]
  },
  {
   "cell_type": "code",
   "execution_count": 2,
   "metadata": {},
   "outputs": [
    {
     "name": "stdout",
     "output_type": "stream",
     "text": [
      "[6.  6.5 7.  7.5 8.  8.5]\n"
     ]
    }
   ],
   "source": [
    "ro=8.\n",
    "vo=220.\n",
    "\n",
    "def parse_times(times,age,ro,vo):\n",
    "    if 'sampling' in times:\n",
    "        nsam= int(times.split('sampling')[0])\n",
    "        return [float(ti)/bovy_conversion.time_in_Gyr(vo,ro)\n",
    "                for ti in numpy.arange(1,nsam+1)/(nsam+1.)*age]\n",
    "    return [float(ti)/bovy_conversion.time_in_Gyr(vo,ro)\n",
    "            for ti in times.split(',')]\n",
    "            \n",
    "timpacts= parse_times('6.,6.5,7.,7.5,8.,8.5',9.,ro=ro,vo=vo)\n",
    "\n",
    "print (np.array(timpacts)*bovy_conversion.time_in_Gyr(vo,ro))"
   ]
  },
  {
   "cell_type": "code",
   "execution_count": null,
   "metadata": {},
   "outputs": [],
   "source": [
    "pepperfilename='GD1_oldimpactstest_MW2014_leadingarm.pkl'\n",
    "sdf_pepper= gd1_util.setup_gd1model(timpact=timpacts)\n",
    "save_pickles(pepperfilename,sdf_pepper)"
   ]
  },
  {
   "cell_type": "code",
   "execution_count": 114,
   "metadata": {},
   "outputs": [],
   "source": [
    "with open('GD1_oldimpactstest_MW2014_leadingarm.pkl','rb') as savefile:\n",
    "            #sdf_smooth= pickle.load(savefile,encoding='latin1')\n",
    "            sdf_pepper= pickle.load(savefile,encoding='latin1')"
   ]
  },
  {
   "cell_type": "code",
   "execution_count": 4,
   "metadata": {},
   "outputs": [
    {
     "name": "stdout",
     "output_type": "stream",
     "text": [
      "galpyWarning: In versions >1.3, the output unit of streamdf.misalignment has been changed to radian (from degree before)\n"
     ]
    }
   ],
   "source": [
    "sdf_smooth=gd1_util.setup_gd1model()"
   ]
  },
  {
   "cell_type": "code",
   "execution_count": 115,
   "metadata": {},
   "outputs": [],
   "source": [
    "apar_full,x_full,y_full,z_full,vx_full,vy_full,vz_full = GMC_util.aparxv_stream(sdf_smooth,sdf_pepper)\n"
   ]
  },
  {
   "cell_type": "code",
   "execution_count": 109,
   "metadata": {},
   "outputs": [
    {
     "name": "stdout",
     "output_type": "stream",
     "text": [
      "[6.  6.5 7.  7.5 8.  8.5]\n"
     ]
    }
   ],
   "source": [
    "print (sdf_pepper._timpact*bovy_conversion.time_in_Gyr(vo,ro))"
   ]
  },
  {
   "cell_type": "code",
   "execution_count": 116,
   "metadata": {},
   "outputs": [
    {
     "name": "stdout",
     "output_type": "stream",
     "text": [
      "0.4150489428970998\n",
      "[[ 0.46794216  0.35429    -0.07144899]]\n"
     ]
    }
   ],
   "source": [
    "apar_imp=apar_full[0][10]\n",
    "v_imp=np.c_[vx_full[0][10],vy_full[0][10],vz_full[0][10]+0.00001]\n",
    "M_imp=10**9./bovy_conversion.mass_in_msol(vo,ro)\n",
    "timp=sdf_pepper._timpact[0]\n",
    "\n",
    "def rs(M):\n",
    "    return 1.05*(M/10**8.)**(0.5)\n",
    "\n",
    "rs_imp=rs(10**9.)/8.\n",
    "\n",
    "print (rs_imp)\n",
    "\n",
    "print (v_imp)"
   ]
  },
  {
   "cell_type": "code",
   "execution_count": 117,
   "metadata": {},
   "outputs": [],
   "source": [
    "#import streampepperdf\n",
    "\n",
    "sdf_pepper.set_impacts(impactb=[0.1/8.],subhalovel=v_imp,impact_angle=[apar_imp],timpact=[timp],rs=[rs_imp],GM=[M_imp])\n",
    "\n"
   ]
  },
  {
   "cell_type": "code",
   "execution_count": 118,
   "metadata": {},
   "outputs": [],
   "source": [
    "apar=np.linspace(0.03,1.14,100)\n",
    "\n",
    "dens_unp=[]\n",
    "dens=[]\n",
    "omega_unp=[]\n",
    "omega=[]\n",
    "\n",
    "for a in apar :\n",
    "    dens_unp.append(sdf_smooth._density_par(a))\n",
    "    omega_unp.append(sdf_smooth.meanOmega(a,oned=True))\n",
    "    dens.append(sdf_pepper._densityAndOmega_par_approx(a)[0])\n",
    "    omega.append(sdf_pepper._densityAndOmega_par_approx(a)[1])\n",
    "    \n",
    "\n",
    "dens_unp=np.array(dens_unp)\n",
    "dens=np.array(dens)\n",
    "omega=np.array(omega)"
   ]
  },
  {
   "cell_type": "code",
   "execution_count": 119,
   "metadata": {},
   "outputs": [
    {
     "name": "stdout",
     "output_type": "stream",
     "text": [
      "[1.00000914e+00 1.00000914e+00 1.00000913e+00 1.00000912e+00\n",
      " 1.00000910e+00 1.00000906e+00 1.00000900e+00 1.00000890e+00\n",
      " 1.00000873e+00 1.00000845e+00 1.00000800e+00 1.00000728e+00\n",
      " 1.00000612e+00 1.00000430e+00 1.00000147e+00 9.99997089e-01\n",
      " 9.99990397e-01 9.99980272e-01 9.99965106e-01 9.99942619e-01\n",
      " 9.99909610e-01 9.99861644e-01 9.99792645e-01 9.99694385e-01\n",
      " 9.99555864e-01 9.99362545e-01 9.99095463e-01 9.98730181e-01\n",
      " 9.98235613e-01 9.97572729e-01 9.96693176e-01 9.95537860e-01\n",
      " 9.94035572e-01 9.92101738e-01 9.89637407e-01 9.86528610e-01\n",
      " 9.82646217e-01 9.77846447e-01 9.71972164e-01 9.64855064e-01\n",
      " 9.56318855e-01 9.46183461e-01 9.34270218e-01 9.20407992e-01\n",
      " 9.04440021e-01 8.86231270e-01 8.65675948e-01 8.42704831e-01\n",
      " 8.17291964e-01 7.89460317e-01 7.59285972e-01 7.26900479e-01\n",
      " 6.92491098e-01 6.56298736e-01 6.18613547e-01 5.79768274e-01\n",
      " 5.40129579e-01 5.00087719e-01 4.60045068e-01 4.20404019e-01\n",
      " 3.81554904e-01 3.43864496e-01 3.07665689e-01 2.73248818e-01\n",
      " 2.40854995e-01 2.10671694e-01 1.82830685e-01 1.57408263e-01\n",
      " 1.34427600e-01 1.13862922e-01 9.56451629e-02 7.96686602e-02\n",
      " 6.57984778e-02 5.38779267e-02 4.37359130e-02 3.51937913e-02\n",
      " 2.80714789e-02 2.21926614e-02 1.73889973e-02 1.35032997e-02\n",
      " 1.03917334e-02 7.92511029e-03 5.98940049e-03 4.48559594e-03\n",
      " 3.32906774e-03 2.44855680e-03 1.78492532e-03 1.28977976e-03\n",
      " 9.24056579e-04 6.56641569e-04 4.63073928e-04 3.24368511e-04\n",
      " 2.25974702e-04 1.56878240e-04 1.08843269e-04 7.57855457e-05\n",
      " 5.32638005e-05 3.80742534e-05 2.79327741e-05 2.12297390e-05]\n"
     ]
    }
   ],
   "source": [
    "print (dens)"
   ]
  },
  {
   "cell_type": "code",
   "execution_count": 120,
   "metadata": {},
   "outputs": [],
   "source": [
    "def convert_dens_to_obs(apars,dens,dens_smooth,mO,poly_deg=3,poly_norm=True):\n",
    "    \"\"\"\n",
    "    NAME:\n",
    "        convert_dens_to_obs\n",
    "    PURPOSE:\n",
    "        Convert track to observed coordinates\n",
    "    INPUT:\n",
    "        apars - parallel angles\n",
    "        dens - density(apars)\n",
    "        dens_smooth - smooth-stream density(apars)\n",
    "        mO= (None) mean parallel frequency (1D) \n",
    "            [needs to be set to get density on same grid as track]\n",
    "        poly_deg= (3) degree of the polynomial to fit for the 'smooth' stream\n",
    "    OUTPUT:\n",
    "        (xi,dens/smooth)\n",
    "    \"\"\"\n",
    "    mT= sdf_pepper.meanTrack(apars,_mO=mO,coord='lb')\n",
    "    outll= numpy.linspace(numpy.amin(mT[0]),numpy.amax(mT[0]),len(apars))\n",
    "    #phi12=lb_to_phi12(mT[0],mT[1],degree=True)\n",
    "    #print (phi12[:,0])\n",
    "    \n",
    "    pp= Polynomial.fit(apars,dens,deg=3)\n",
    "    outphi1= numpy.arange(0.25,14.35,0.1)\n",
    "    # Interpolate density\n",
    "    ipll= interpolate.InterpolatedUnivariateSpline(mT[0],apars)\n",
    "    ipdens= interpolate.InterpolatedUnivariateSpline(apars,dens/dens_smooth)\n",
    "    return (outll,ipdens(ipll(outll)))\n",
    "\n",
    "ll,dd=convert_dens_to_obs(apar,dens,dens_unp,omega)\n",
    "    "
   ]
  },
  {
   "cell_type": "code",
   "execution_count": 121,
   "metadata": {},
   "outputs": [
    {
     "data": {
      "image/png": "[encoded data removed]",
      "text/plain": [
       "<Figure size 432x288 with 1 Axes>"
      ]
     },
     "metadata": {},
     "output_type": "display_data"
    }
   ],
   "source": [
    "plt.figure()\n",
    "plt.plot(ll,dd)\n",
    "plt.show()"
   ]
  },
  {
   "cell_type": "code",
   "execution_count": null,
   "metadata": {},
   "outputs": [],
   "source": []
  }
 ],
 "metadata": {
  "kernelspec": {
   "display_name": "Python 3",
   "language": "python",
   "name": "python3"
  },
  "language_info": {
   "codemirror_mode": {
    "name": "ipython",
    "version": 3
   },
   "file_extension": ".py",
   "mimetype": "text/x-python",
   "name": "python",
   "nbconvert_exporter": "python",
   "pygments_lexer": "ipython3",
   "version": "3.6.5"
  }
 },
 "nbformat": 4,
 "nbformat_minor": 2
}
